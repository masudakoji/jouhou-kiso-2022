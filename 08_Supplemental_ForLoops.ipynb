{
 "cells": [
  {
   "cell_type": "markdown",
   "metadata": {},
   "source": [
    "# 1年情報基礎 - 繰り返し処理 補足 -"
   ]
  },
  {
   "cell_type": "markdown",
   "metadata": {},
   "source": [
    "## range関数"
   ]
  },
  {
   "cell_type": "markdown",
   "metadata": {},
   "source": [
    "### range関数とは"
   ]
  },
  {
   "cell_type": "markdown",
   "metadata": {
    "collapsed": true
   },
   "source": [
    "Pythonにはリストといって、複数の数値を収納したものがありました。リストを使って、以下のような等差数列を作ることがあります。"
   ]
  },
  {
   "cell_type": "code",
   "execution_count": null,
   "metadata": {
    "collapsed": true
   },
   "outputs": [],
   "source": [
    "[0, 1, 2, 3]"
   ]
  },
  {
   "cell_type": "markdown",
   "metadata": {},
   "source": [
    "このような等差数列を作るための機能として、range関数があります。range関数の使い方は次の通りです。"
   ]
  },
  {
   "cell_type": "code",
   "execution_count": null,
   "metadata": {
    "collapsed": true,
    "scrolled": false
   },
   "outputs": [],
   "source": [
    "range(0, 5)"
   ]
  },
  {
   "cell_type": "markdown",
   "metadata": {},
   "source": [
    "「開始する数値」と、「終了する数値」を指定します。「開始する数値」から始まって**「終了する数値」を超えない範囲**の等差数列が生成されます。`range(0, 5)`の場合、「開始する数値」が0で、「終了する数値」が5なので、[0, 1, 2, 3, 4]のような等差数列が生成されます。**「終了する数値」の5を超えない範囲**なので、最後の数値が4であることに注意しましょう。"
   ]
  },
  {
   "cell_type": "markdown",
   "metadata": {},
   "source": [
    "「等差数列を生成」と言ってはいますが、実際にはリストが作成されているわけではないので、リストの形にするためには、次のようにしてリストに変換する必要があります。  \n",
    "後述しますが、range関数はfor文などの繰り返し処理によく用いられます。for文に適用する際には、リストに変換する必要はなく、range関数をそのまま使用できます。ですので、range関数をリストの形にして使う頻度はさほど多くはありません（今は確認のためにわざわざリストにしていますが）"
   ]
  },
  {
   "cell_type": "code",
   "execution_count": null,
   "metadata": {
    "collapsed": true
   },
   "outputs": [],
   "source": [
    "list(range(0, 5))"
   ]
  },
  {
   "cell_type": "markdown",
   "metadata": {},
   "source": [
    "このように、0から始まり、5を超えない範囲の（公差が1の）等差数列であることがわかります。"
   ]
  },
  {
   "cell_type": "markdown",
   "metadata": {},
   "source": [
    "**開始する数値を変更**  \n",
    "「開始する数値」を変えると、以下のように生成されるオブジェクトが変化します。"
   ]
  },
  {
   "cell_type": "code",
   "execution_count": null,
   "metadata": {
    "collapsed": true
   },
   "outputs": [],
   "source": [
    "list(range(3, 9))"
   ]
  },
  {
   "cell_type": "markdown",
   "metadata": {},
   "source": [
    "「開始する数値」は負の値も取れます"
   ]
  },
  {
   "cell_type": "code",
   "execution_count": null,
   "metadata": {
    "collapsed": true
   },
   "outputs": [],
   "source": [
    "list(range(-3, 2))"
   ]
  },
  {
   "cell_type": "markdown",
   "metadata": {},
   "source": [
    "「開始する数値」の方が「終了する数値」より大きいとうまくいきません"
   ]
  },
  {
   "cell_type": "code",
   "execution_count": null,
   "metadata": {
    "collapsed": true
   },
   "outputs": [],
   "source": [
    "list(range(8, 3))"
   ]
  },
  {
   "cell_type": "markdown",
   "metadata": {},
   "source": [
    "こういうのも当然うまくいきません"
   ]
  },
  {
   "cell_type": "code",
   "execution_count": null,
   "metadata": {
    "collapsed": true
   },
   "outputs": [],
   "source": [
    "list(range(2, -2))"
   ]
  },
  {
   "cell_type": "markdown",
   "metadata": {},
   "source": [
    "「開始する数値」と「終了する数値」が同じだと・・？"
   ]
  },
  {
   "cell_type": "code",
   "execution_count": null,
   "metadata": {
    "collapsed": true
   },
   "outputs": [],
   "source": [
    "list(range(8, 8))"
   ]
  },
  {
   "cell_type": "markdown",
   "metadata": {},
   "source": [
    "うまくいきません（空のリストになります）"
   ]
  },
  {
   "cell_type": "markdown",
   "metadata": {},
   "source": [
    "「開始する数値」が「終了する数値」より大きくなると・・・？"
   ]
  },
  {
   "cell_type": "code",
   "execution_count": null,
   "metadata": {
    "collapsed": true
   },
   "outputs": [],
   "source": [
    "list(range(8, 9))"
   ]
  },
  {
   "cell_type": "markdown",
   "metadata": {},
   "source": [
    "これでようやくOKとなります。"
   ]
  },
  {
   "cell_type": "markdown",
   "metadata": {},
   "source": [
    "**開始する数値を省略**  \n",
    "次のようなrange関数を考えてみましょう。"
   ]
  },
  {
   "cell_type": "code",
   "execution_count": null,
   "metadata": {
    "collapsed": true,
    "scrolled": false
   },
   "outputs": [],
   "source": [
    "list(range(8))"
   ]
  },
  {
   "cell_type": "markdown",
   "metadata": {},
   "source": [
    "このrange関数は以下のrange関数と同様です。"
   ]
  },
  {
   "cell_type": "code",
   "execution_count": null,
   "metadata": {
    "collapsed": true,
    "scrolled": true
   },
   "outputs": [],
   "source": [
    "list(range(0, 8))"
   ]
  },
  {
   "cell_type": "markdown",
   "metadata": {},
   "source": [
    "「開始する数値」が0で「終了する数値」が8のrange関数ですね。このように、`range(8)`は`range(0, 8)`と同じものです。  \n",
    "「開始する数値」を省略した場合、「開始する数値」が0とみなされるということです。"
   ]
  },
  {
   "cell_type": "markdown",
   "metadata": {},
   "source": [
    "**差分を指定**  \n",
    "range関数で、差分（増加する間隔）を指定されることができます。"
   ]
  },
  {
   "cell_type": "markdown",
   "metadata": {},
   "source": [
    "次のようなrange関数を考えてみましょう。"
   ]
  },
  {
   "cell_type": "code",
   "execution_count": null,
   "metadata": {
    "collapsed": true
   },
   "outputs": [],
   "source": [
    "list(range(3, 11))"
   ]
  },
  {
   "cell_type": "markdown",
   "metadata": {},
   "source": [
    "「開始する数値」が3で「終了する数値」が11のrange関数です。このrange関数で、差分（増加する間隔）を指定することができます。"
   ]
  },
  {
   "cell_type": "code",
   "execution_count": null,
   "metadata": {
    "collapsed": true
   },
   "outputs": [],
   "source": [
    "list(range(3, 11, 2))"
   ]
  },
  {
   "cell_type": "markdown",
   "metadata": {},
   "source": [
    "「開始する数値」が3で「終了する数値」が11で差分が2なので、3から始まって、2づつ増加し、11を超えない範囲で等差数列が生成されます。\n",
    "差分が2なので、「終了する数値」が10になっても、生成される等差数列としては同じものになります。"
   ]
  },
  {
   "cell_type": "code",
   "execution_count": null,
   "metadata": {
    "collapsed": true
   },
   "outputs": [],
   "source": [
    "list(range(3, 10, 2))"
   ]
  },
  {
   "cell_type": "markdown",
   "metadata": {},
   "source": [
    "差分を-1にすると、減少していく等差数列になります。"
   ]
  },
  {
   "cell_type": "code",
   "execution_count": null,
   "metadata": {
    "collapsed": true
   },
   "outputs": [],
   "source": [
    "list(range(20, -1, -1))"
   ]
  },
  {
   "cell_type": "markdown",
   "metadata": {},
   "source": [
    "20から1ずつ小さくなっていって、「終了する数値」-1を超えないように（-1に到達する直前まで）減少するので、最後の数値は0です。"
   ]
  },
  {
   "cell_type": "markdown",
   "metadata": {},
   "source": [
    "差分を-1以外の負の数にすることもできます。"
   ]
  },
  {
   "cell_type": "code",
   "execution_count": null,
   "metadata": {
    "collapsed": true
   },
   "outputs": [],
   "source": [
    "list(range(20, -6, -5))"
   ]
  },
  {
   "cell_type": "markdown",
   "metadata": {},
   "source": [
    "### range関数の要素の取り出し"
   ]
  },
  {
   "cell_type": "markdown",
   "metadata": {},
   "source": [
    "range関数の要素は、リストのように取り出すこともできます。\n",
    "リストでは、このように要素を取り出すことができました。"
   ]
  },
  {
   "cell_type": "code",
   "execution_count": null,
   "metadata": {
    "collapsed": true
   },
   "outputs": [],
   "source": [
    "a = [4, 7, 3, 5, 1]"
   ]
  },
  {
   "cell_type": "code",
   "execution_count": null,
   "metadata": {
    "collapsed": true,
    "scrolled": true
   },
   "outputs": [],
   "source": [
    "a[0]"
   ]
  },
  {
   "cell_type": "code",
   "execution_count": null,
   "metadata": {
    "collapsed": true,
    "scrolled": true
   },
   "outputs": [],
   "source": [
    "a[3]"
   ]
  },
  {
   "cell_type": "code",
   "execution_count": null,
   "metadata": {
    "collapsed": true,
    "scrolled": true
   },
   "outputs": [],
   "source": [
    "a[-1]"
   ]
  },
  {
   "cell_type": "markdown",
   "metadata": {},
   "source": [
    "同じように、range関数で生成されるオブジェクトからも要素を取り出すことができます。"
   ]
  },
  {
   "cell_type": "code",
   "execution_count": null,
   "metadata": {
    "collapsed": true
   },
   "outputs": [],
   "source": [
    "list(range(4, 13, 2))"
   ]
  },
  {
   "cell_type": "markdown",
   "metadata": {},
   "source": [
    "例えば、上のような例を使ってみましょう。"
   ]
  },
  {
   "cell_type": "code",
   "execution_count": null,
   "metadata": {
    "collapsed": true
   },
   "outputs": [],
   "source": [
    "range(4, 13, 2)[0]"
   ]
  },
  {
   "cell_type": "code",
   "execution_count": null,
   "metadata": {
    "collapsed": true
   },
   "outputs": [],
   "source": [
    "range(4, 13, 2)[3]"
   ]
  },
  {
   "cell_type": "code",
   "execution_count": null,
   "metadata": {
    "collapsed": true
   },
   "outputs": [],
   "source": [
    "range(4, 13, 2)[-1]"
   ]
  },
  {
   "cell_type": "markdown",
   "metadata": {},
   "source": [
    "このように要素を取り出すことができます。`list()`を使ってリスト形式に変換しなくても、range関数で作成されるオブジェクトのまま処理できることがポイントです。"
   ]
  },
  {
   "cell_type": "markdown",
   "metadata": {},
   "source": [
    "### for文への適用"
   ]
  },
  {
   "cell_type": "markdown",
   "metadata": {},
   "source": [
    "range関数はfor文でよく用いられます。例えば、次のようなfor文を考えてみましょう。"
   ]
  },
  {
   "cell_type": "code",
   "execution_count": null,
   "metadata": {
    "collapsed": true,
    "scrolled": true
   },
   "outputs": [],
   "source": [
    "for number in [0, 1, 2, 3, 4]:\n",
    "    print(number)"
   ]
  },
  {
   "cell_type": "markdown",
   "metadata": {},
   "source": [
    "これをrange関数を使って表現すると次のようになります。"
   ]
  },
  {
   "cell_type": "code",
   "execution_count": null,
   "metadata": {
    "collapsed": true,
    "scrolled": true
   },
   "outputs": [],
   "source": [
    "for number in range(5):\n",
    "    print(number)"
   ]
  },
  {
   "cell_type": "markdown",
   "metadata": {},
   "source": [
    "リストを直接指定するよりも簡潔に書けます。"
   ]
  },
  {
   "cell_type": "code",
   "execution_count": null,
   "metadata": {
    "collapsed": true,
    "scrolled": false
   },
   "outputs": [],
   "source": [
    "for number in range(20):\n",
    "    print(number)"
   ]
  },
  {
   "cell_type": "markdown",
   "metadata": {},
   "source": [
    "ループ回数が多い場合でも、range関数を使うと簡潔に書けます。"
   ]
  },
  {
   "cell_type": "code",
   "execution_count": null,
   "metadata": {
    "collapsed": true,
    "scrolled": false
   },
   "outputs": [],
   "source": [
    "for number in range(5, 31, 5):\n",
    "    print(number)"
   ]
  },
  {
   "cell_type": "markdown",
   "metadata": {},
   "source": [
    "「開始する数値」や「終了する数値」や差分などを指定したrange関数でも、もちろん同様にfor文が書けます。"
   ]
  },
  {
   "cell_type": "markdown",
   "metadata": {},
   "source": [
    "### enumerateを使ったループ"
   ]
  },
  {
   "cell_type": "markdown",
   "metadata": {},
   "source": [
    "for文でループを書くときに現在何回目のループにいるのか知りたいときがあります。"
   ]
  },
  {
   "cell_type": "code",
   "execution_count": null,
   "metadata": {
    "collapsed": true,
    "scrolled": true
   },
   "outputs": [],
   "source": [
    "for number in [1, 3, 5, 7]:\n",
    "    print(\"???番目の要素は{}です\".format(number))"
   ]
  },
  {
   "cell_type": "markdown",
   "metadata": {},
   "source": [
    "このように、リストの先頭から順番にたどっていきますが、何回目のループかはわかりません。"
   ]
  },
  {
   "cell_type": "markdown",
   "metadata": {},
   "source": [
    "こういうときにenumerateという機能を使って、for文を書くことができます。"
   ]
  },
  {
   "cell_type": "code",
   "execution_count": null,
   "metadata": {
    "collapsed": true,
    "scrolled": true
   },
   "outputs": [],
   "source": [
    "for idx, number in enumerate([1, 3, 5, 7]):\n",
    "    print(\"インデックス番号が{}の要素は{}です\".format(idx, number))"
   ]
  },
  {
   "cell_type": "markdown",
   "metadata": {},
   "source": [
    "ループさせたいリストをenumerate()の括弧の中に入れます。  \n",
    "先ほどと同様のループですが、`idx`というループ変数が追加されており、何回目かのループがわかるようになっています（0から始まることに注意）\n",
    "（追加するループ変数の名称はidxでなくても構いません）"
   ]
  },
  {
   "cell_type": "markdown",
   "metadata": {},
   "source": [
    "idxを省略すると、一つのループ変数にまとめて格納されます。"
   ]
  },
  {
   "cell_type": "code",
   "execution_count": null,
   "metadata": {
    "collapsed": true
   },
   "outputs": [],
   "source": [
    "for data in enumerate([1, 3, 5, 7]):\n",
    "    print(data)"
   ]
  },
  {
   "cell_type": "markdown",
   "metadata": {},
   "source": [
    "このように、`data`に先ほどの`idx`, `number`の中身が格納されていることがわかります。`data`の中身はリストのように、要素を取り出すことができます。  \n",
    "★正確には、`data`はリストではなく、タプルという形式です"
   ]
  },
  {
   "cell_type": "code",
   "execution_count": null,
   "metadata": {
    "collapsed": true
   },
   "outputs": [],
   "source": [
    "for data in enumerate([1, 3, 5, 7]):\n",
    "    print(data[0])"
   ]
  },
  {
   "cell_type": "code",
   "execution_count": null,
   "metadata": {
    "collapsed": true
   },
   "outputs": [],
   "source": [
    "for data in enumerate([1, 3, 5, 7]):\n",
    "    print(data[1])"
   ]
  },
  {
   "cell_type": "markdown",
   "metadata": {},
   "source": [
    "ループごとに`data`の中身が更新されて、`data[0]`、`data[1]`のように、中身を取り出すことができます。"
   ]
  },
  {
   "cell_type": "code",
   "execution_count": null,
   "metadata": {
    "collapsed": true,
    "scrolled": true
   },
   "outputs": [],
   "source": [
    "for idx, fruit in enumerate([\"Apple\", \"Orange\", \"Lemon\"]):\n",
    "    print(\"インデックス番号が{}の要素は{}です\".format(idx, fruit))"
   ]
  },
  {
   "cell_type": "markdown",
   "metadata": {},
   "source": [
    "このように、中身が文字列の場合にも同様にできます。"
   ]
  },
  {
   "cell_type": "code",
   "execution_count": null,
   "metadata": {
    "collapsed": true
   },
   "outputs": [],
   "source": [
    "for idx, number in enumerate(range(5, 31, 5)):\n",
    "    print(\"インデックス番号が{}の要素は{}です\".format(idx, number))"
   ]
  },
  {
   "cell_type": "markdown",
   "metadata": {},
   "source": [
    "range関数の場合も、同様にできます。"
   ]
  },
  {
   "cell_type": "markdown",
   "metadata": {},
   "source": [
    "インデックス番号は0から始まりますが、開始番号を変更することができます。"
   ]
  },
  {
   "cell_type": "code",
   "execution_count": null,
   "metadata": {
    "collapsed": true
   },
   "outputs": [],
   "source": [
    "for idx, number in enumerate(range(5, 31, 5), start=1):\n",
    "    print(\"{}番目の要素は{}です\".format(idx, number))"
   ]
  },
  {
   "cell_type": "markdown",
   "metadata": {},
   "source": [
    "`start=1`のように指定すると、インデックス番号が1から始めることもできます。書く場所には注意しましょう。"
   ]
  },
  {
   "cell_type": "markdown",
   "metadata": {},
   "source": [
    "### zipを使ったループ"
   ]
  },
  {
   "cell_type": "markdown",
   "metadata": {},
   "source": [
    "forループを使うと、リストの中身を取り出すことができますが、複数のリストを同時にたどるには`zip`という機能を使います。"
   ]
  },
  {
   "cell_type": "code",
   "execution_count": null,
   "metadata": {
    "collapsed": true,
    "scrolled": true
   },
   "outputs": [],
   "source": [
    "food = [\"いちご\", \"みかん\", \"にんじん\", \"さんま\"]\n",
    "category = [\"果物\", \"果物\", \"野菜\", \"魚\"]\n",
    "for i, j in zip(food, category):\n",
    "    print(\"{}は{}です\".format(i, j))"
   ]
  },
  {
   "cell_type": "markdown",
   "metadata": {},
   "source": [
    "4つの要素を持つ`food`というリストと、`category`というリストを同時に見ていることがわかります。`zip()`の括弧の中に同時に見たいリストを書きます。すると、1つめに指定した`food`の要素が`i`に、2つめに指定した`category`の要素が`j`に格納されます。"
   ]
  },
  {
   "cell_type": "markdown",
   "metadata": {},
   "source": [
    "3つ以上のリストであっても、同様にできます。"
   ]
  },
  {
   "cell_type": "code",
   "execution_count": null,
   "metadata": {
    "collapsed": true,
    "scrolled": true
   },
   "outputs": [],
   "source": [
    "name = [\"足立\", \"酒井\", \"中島\", \"樋口\", \"山口\"]\n",
    "eng = [78, 61, 70, 82, 91]\n",
    "math = [91, 62, 72, 81, 78]\n",
    "phys = [82, 92, 62, 71, 82]\n",
    "for i, j, k, l in zip(name, eng, math, phys):\n",
    "    print(\"{}さんは、英語が{}点、数学が{}点、物理が{}点でした\".format(i, j, k, l))"
   ]
  },
  {
   "cell_type": "markdown",
   "metadata": {},
   "source": [
    "`name`, `eng`, `math`, `phys`という4つのリストを同時にたどっています。"
   ]
  },
  {
   "cell_type": "markdown",
   "metadata": {},
   "source": [
    "enumerateと組み合わせることで、インデックス番号も取得しつつ、複数のリストの中身を見ることもできます。"
   ]
  },
  {
   "cell_type": "code",
   "execution_count": null,
   "metadata": {
    "collapsed": true,
    "scrolled": false
   },
   "outputs": [],
   "source": [
    "name = [\"足立\", \"酒井\", \"中島\", \"樋口\", \"山口\"]\n",
    "eng = [78, 61, 70, 82, 91]\n",
    "math = [91, 62, 72, 81, 78]\n",
    "phys = [82, 92, 62, 71, 82]\n",
    "for idx, (i, j, k, l) in enumerate(zip(name, eng, math, phys), start=1):\n",
    "    print(\"出席番号{}の{}さんは、英語が{}点、数学が{}点、物理が{}点でした\".format(idx, i, j, k, l))"
   ]
  },
  {
   "cell_type": "markdown",
   "metadata": {
    "collapsed": true
   },
   "source": [
    "インデックス番号`idx`とループ変数一式（`i`, `j`, `k`, `l`）を取り出すことができました。ループ変数は`()`の中に入れる必要があります。`()`がないと次のようなエラーになります。"
   ]
  },
  {
   "cell_type": "code",
   "execution_count": null,
   "metadata": {
    "collapsed": true,
    "scrolled": false
   },
   "outputs": [],
   "source": [
    "# エラーの例\n",
    "name = [\"足立\", \"酒井\", \"中島\", \"樋口\", \"山口\"]\n",
    "eng = [78, 61, 70, 82, 91]\n",
    "math = [91, 62, 72, 81, 78]\n",
    "phys = [82, 92, 62, 71, 82]\n",
    "for idx, i, j, k, l in enumerate(zip(name, eng, math, phys), start=1):\n",
    "    print(\"出席番号{}の{}さんは、英語が{}点、数学が{}点、物理が{}点でした\".format(idx, i, j, k, l))"
   ]
  },
  {
   "cell_type": "markdown",
   "metadata": {},
   "source": [
    "ループ変数一式を別の名前をつけて取り出すこともできます。"
   ]
  },
  {
   "cell_type": "code",
   "execution_count": null,
   "metadata": {
    "collapsed": true,
    "scrolled": false
   },
   "outputs": [],
   "source": [
    "name = [\"足立\", \"酒井\", \"中島\", \"樋口\", \"山口\"]\n",
    "eng = [78, 61, 70, 82, 91]\n",
    "math = [91, 62, 72, 81, 78]\n",
    "phys = [82, 92, 62, 71, 82]\n",
    "for idx, scores in enumerate(zip(name, eng, math, phys), start=1):\n",
    "    print(\"出席番号{}の{}さんは、英語が{}点、数学が{}点、物理が{}点でした\".format(idx, scores[0], scores[1], scores[2], scores[3]))"
   ]
  },
  {
   "cell_type": "markdown",
   "metadata": {},
   "source": [
    "`idx`にインデックス番号、`scores`に`zip()`を使ってまとめたリストの要素が保存されています。`scores`は先ほども出てきたタプルという形式なので、リストのように要素を取り出すことができます。今回は、`scores[0]`に`name`リスト、`scores[1]`に`eng`リストの中身が保存されています。"
   ]
  },
  {
   "cell_type": "markdown",
   "metadata": {},
   "source": [
    "`idx`を省略した書き方も出来ますが、少し煩雑になるので、そこまでメリットはないかもしれません。紹介だけはしておきます。"
   ]
  },
  {
   "cell_type": "code",
   "execution_count": null,
   "metadata": {
    "collapsed": true,
    "scrolled": false
   },
   "outputs": [],
   "source": [
    "name = [\"足立\", \"酒井\", \"中島\", \"樋口\", \"山口\"]\n",
    "eng = [78, 61, 70, 82, 91]\n",
    "math = [91, 62, 72, 81, 78]\n",
    "phys = [82, 92, 62, 71, 82]\n",
    "for data in enumerate(zip(name, eng, math, phys), start=1):\n",
    "    print(data[0])\n",
    "    print(data[1])"
   ]
  },
  {
   "cell_type": "markdown",
   "metadata": {},
   "source": [
    "`data[0]`にインデックス番号が,`data[1]`にzip()を使ってまとめたリストの要素が保存されています。ここで注意が必要なのは、\"数学の成績\"を取り出したい場合、「dataの中の、zip()を使ってまとめたリストの中の\"数学の成績\"」をとり出したいので、入れ子構造の中をたどる必要がある、ということです。"
   ]
  },
  {
   "cell_type": "code",
   "execution_count": null,
   "metadata": {
    "collapsed": true,
    "scrolled": false
   },
   "outputs": [],
   "source": [
    "name = [\"足立\", \"酒井\", \"中島\", \"樋口\", \"山口\"]\n",
    "eng = [78, 61, 70, 82, 91]\n",
    "math = [91, 62, 72, 81, 78]\n",
    "phys = [82, 92, 62, 71, 82]\n",
    "for data in enumerate(zip(name, eng, math, phys), start=1):\n",
    "    print(data[1][2])"
   ]
  },
  {
   "cell_type": "markdown",
   "metadata": {},
   "source": [
    "数学の成績は`math`ですが、mathは`zip()`の3番目にかかれています。  \n",
    "なので、`data[1]`（zip()を使ってまとめたリストの要素）の3番目（インデックス番号でいうと2）を取り出せば良いので、`data[1][2]`のように指定します。"
   ]
  },
  {
   "cell_type": "markdown",
   "metadata": {},
   "source": [
    "先ほどと同様の表示を得ようとすると、次のようになります。"
   ]
  },
  {
   "cell_type": "code",
   "execution_count": null,
   "metadata": {
    "collapsed": true,
    "scrolled": false
   },
   "outputs": [],
   "source": [
    "name = [\"足立\", \"酒井\", \"中島\", \"樋口\", \"山口\"]\n",
    "eng = [78, 61, 70, 82, 91]\n",
    "math = [91, 62, 72, 81, 78]\n",
    "phys = [82, 92, 62, 71, 82]\n",
    "for data in enumerate(zip(name, eng, math, phys), start=1):\n",
    "    print(\"出席番号{}の{}さんは、英語が{}点、数学が{}点、物理が{}点でした\".format(data[0], data[1][0], data[1][1], data[1][2], data[1][3]))"
   ]
  },
  {
   "cell_type": "code",
   "execution_count": null,
   "metadata": {
    "collapsed": true
   },
   "outputs": [],
   "source": []
  },
  {
   "cell_type": "code",
   "execution_count": null,
   "metadata": {
    "collapsed": true
   },
   "outputs": [],
   "source": []
  }
 ],
 "metadata": {
  "anaconda-cloud": {},
  "kernelspec": {
   "display_name": "Python 3",
   "language": "python",
   "name": "python3"
  },
  "language_info": {
   "codemirror_mode": {
    "name": "ipython",
    "version": 3
   },
   "file_extension": ".py",
   "mimetype": "text/x-python",
   "name": "python",
   "nbconvert_exporter": "python",
   "pygments_lexer": "ipython3",
   "version": "3.6.1"
  }
 },
 "nbformat": 4,
 "nbformat_minor": 1
}
