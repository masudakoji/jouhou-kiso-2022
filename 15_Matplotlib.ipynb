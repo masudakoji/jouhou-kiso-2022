{
 "cells": [
  {
   "cell_type": "markdown",
   "metadata": {},
   "source": [
    "# 1年情報基礎 - matplotlib - "
   ]
  },
  {
   "cell_type": "markdown",
   "metadata": {},
   "source": [
    "Pythonにはmatplotlibという可視化のためのライブラリがあります。様々な関数を含まれるnumpyも一緒にインポートします。matplotlib、numpy共に別名をつけて次のようにインポートします。"
   ]
  },
  {
   "cell_type": "code",
   "execution_count": null,
   "metadata": {
    "collapsed": true
   },
   "outputs": [],
   "source": [
    "import numpy as np\n",
    "import matplotlib as mpl\n",
    "import matplotlib.pyplot as plt"
   ]
  },
  {
   "cell_type": "markdown",
   "metadata": {},
   "source": [
    "### シンプルなプロット"
   ]
  },
  {
   "cell_type": "markdown",
   "metadata": {},
   "source": [
    "まずは、簡単な例として、二次元プロットを行います。"
   ]
  },
  {
   "cell_type": "markdown",
   "metadata": {},
   "source": [
    "x, yとして、5つの要素からなるリストを定義します。"
   ]
  },
  {
   "cell_type": "code",
   "execution_count": null,
   "metadata": {
    "collapsed": true
   },
   "outputs": [],
   "source": [
    "x = [1, 2, 3, 4, 5]\n",
    "y = [2, 8,18,32,50]"
   ]
  },
  {
   "cell_type": "markdown",
   "metadata": {},
   "source": [
    "次に、matplotlibのplot()関数を使ってプロットします。読み込んだライブラリの関数を使いますので、`plt.plot()`のように書きます。plt（matplotlib.pyplotの別名）ライブラリのplot()関数という意味です。"
   ]
  },
  {
   "cell_type": "code",
   "execution_count": null,
   "metadata": {},
   "outputs": [],
   "source": [
    "plt.plot(x, y)\n",
    "plt.show()"
   ]
  },
  {
   "cell_type": "markdown",
   "metadata": {},
   "source": [
    "このように直線によるグラフが描けました。"
   ]
  },
  {
   "cell_type": "markdown",
   "metadata": {},
   "source": [
    "### プロットの「線種」や「マーカー」の変更"
   ]
  },
  {
   "cell_type": "markdown",
   "metadata": {},
   "source": [
    "今はただ、直線でプロットしただけですが、どのような線種（直線や点線・など）を用いるのか、どのようなマーカー（●や■など。上の例ではマーカー不使用）を用いるのかを選択できます。"
   ]
  },
  {
   "cell_type": "markdown",
   "metadata": {},
   "source": [
    "#### 線種の変更"
   ]
  },
  {
   "cell_type": "markdown",
   "metadata": {},
   "source": [
    "線種を変更するには`linestyle`を指定します。`linestyle=\"--\"`のように指定すると破線になります。"
   ]
  },
  {
   "cell_type": "code",
   "execution_count": null,
   "metadata": {},
   "outputs": [],
   "source": [
    "plt.plot(x, y, linestyle=\"--\")\n",
    "plt.show()"
   ]
  },
  {
   "cell_type": "markdown",
   "metadata": {},
   "source": [
    "このように、破線になりました。"
   ]
  },
  {
   "cell_type": "markdown",
   "metadata": {},
   "source": [
    "なお、`linestyle`は短縮名として`ls`が設定されています。\n",
    "`linestyle=\"--\"`の代わりに\n",
    "`ls=\"--\"`のように指定しても良いです。"
   ]
  },
  {
   "cell_type": "markdown",
   "metadata": {},
   "source": [
    "使える基本的な線種は次の通りです。"
   ]
  },
  {
   "cell_type": "markdown",
   "metadata": {
    "collapsed": true
   },
   "source": [
    "<img src=\"https://raw.githubusercontent.com/masudakoji/jouhou-kiso-2022/main/images/Matplotlib/linestyles.png\" width=\"70%\">"
   ]
  },
  {
   "cell_type": "markdown",
   "metadata": {},
   "source": [
    "#### マーカーの変更"
   ]
  },
  {
   "cell_type": "markdown",
   "metadata": {},
   "source": [
    "マーカーを変更するには`marker`を指定します。`marker=\"o\"`（小文字のオーです）のように指定すると丸になります。"
   ]
  },
  {
   "cell_type": "code",
   "execution_count": null,
   "metadata": {
    "scrolled": true
   },
   "outputs": [],
   "source": [
    "plt.plot(x, y, marker=\"o\")\n",
    "plt.show()"
   ]
  },
  {
   "cell_type": "markdown",
   "metadata": {},
   "source": [
    "使える基本的なマーカーは次の通りです。"
   ]
  },
  {
   "cell_type": "markdown",
   "metadata": {
    "collapsed": true
   },
   "source": [
    "<img src=\"https://raw.githubusercontent.com/masudakoji/jouhou-kiso-2022/main/images/Matplotlib/markers.png\" width=\"70%\">"
   ]
  },
  {
   "cell_type": "markdown",
   "metadata": {},
   "source": [
    "#### 線種とマーカーを同時指定（省略表記）"
   ]
  },
  {
   "cell_type": "markdown",
   "metadata": {},
   "source": [
    "線種とマーカーを指定するための記号などを、省略した形で一緒に指定することもできます。例えば、線種を\"--\"、マーカーを\"o\"としたい場合、`\"o--\"`のように設定します。`\"--o\"`のように逆になっても良いです。"
   ]
  },
  {
   "cell_type": "code",
   "execution_count": null,
   "metadata": {},
   "outputs": [],
   "source": [
    "plt.plot(x, y, \"o--\")\n",
    "plt.show()"
   ]
  },
  {
   "cell_type": "markdown",
   "metadata": {
    "collapsed": true
   },
   "source": [
    "#### 色の指定"
   ]
  },
  {
   "cell_type": "markdown",
   "metadata": {},
   "source": [
    "色を変更するには`color`を指定します。`color=\"y\"`（yellowのyです）のように指定すると黄色になります。"
   ]
  },
  {
   "cell_type": "code",
   "execution_count": null,
   "metadata": {},
   "outputs": [],
   "source": [
    "plt.plot(x, y, \"o--\", color=\"y\")\n",
    "plt.show()"
   ]
  },
  {
   "cell_type": "markdown",
   "metadata": {},
   "source": [
    "このように色が黄色に変更できました。1文字で指定可能な色としては、次のようなものがあります。（wは白色です。）"
   ]
  },
  {
   "cell_type": "markdown",
   "metadata": {
    "collapsed": true
   },
   "source": [
    "<img src=\"https://raw.githubusercontent.com/masudakoji/jouhou-kiso-2022/main/images/Matplotlib/colors2.png\" width=\"20%\">"
   ]
  },
  {
   "cell_type": "markdown",
   "metadata": {},
   "source": [
    "細かい設定として、線とマーカーの色を変えたい場合があるかと思います。その場合、線の色を`color`で指定して、マーカーの色を個別で指定する方法があります。"
   ]
  },
  {
   "cell_type": "markdown",
   "metadata": {},
   "source": [
    "`markeredgecolor`を指定すると、マーカーの枠線の色を指定できます。`markeredgecolor=\"k\"`のようにすると、枠線が黒色になります。"
   ]
  },
  {
   "cell_type": "code",
   "execution_count": null,
   "metadata": {},
   "outputs": [],
   "source": [
    "plt.plot(x, y, \"o--\", color=\"y\", markeredgecolor=\"k\")\n",
    "plt.show()"
   ]
  },
  {
   "cell_type": "markdown",
   "metadata": {},
   "source": [
    "`markerfacecolor`を指定すると、マーカーの塗りつぶしの色を指定できます。例えば`markerfacecolor=\"k\"`のようにすると、塗りつぶし色が黒色になります。"
   ]
  },
  {
   "cell_type": "code",
   "execution_count": null,
   "metadata": {},
   "outputs": [],
   "source": [
    "plt.plot(x, y, \"o--\", color=\"y\", markeredgecolor=\"k\", markerfacecolor=\"c\")\n",
    "plt.show()"
   ]
  },
  {
   "cell_type": "markdown",
   "metadata": {
    "collapsed": true
   },
   "source": [
    "色はもっと多くの設定があります。`color`、`markeredgecolor`、`markerfacecolor`などで指定できます。"
   ]
  },
  {
   "cell_type": "markdown",
   "metadata": {
    "collapsed": true
   },
   "source": [
    "<img src=\"https://raw.githubusercontent.com/masudakoji/jouhou-kiso-2022/main/images/Matplotlib/colors.png\" width=\"80%\">"
   ]
  },
  {
   "cell_type": "markdown",
   "metadata": {},
   "source": [
    "複数のデータをプロットする場合には、次のようにプロットの命令を複数かけば複数プロットすることができます。"
   ]
  },
  {
   "cell_type": "code",
   "execution_count": null,
   "metadata": {},
   "outputs": [],
   "source": [
    "x = [1, 2, 3, 4, 5]\n",
    "y1 = [2, 8,18,32,50]\n",
    "y2 = [4,16,36,64,100] # ←今回追加\n",
    "\n",
    "plt.plot(x, y1, \"o--\")\n",
    "plt.plot(x, y2, \"s--\") # ←今回追加\n",
    "plt.show()"
   ]
  },
  {
   "cell_type": "markdown",
   "metadata": {},
   "source": [
    "複数のデータをプロットした場合、特に指定しなくても自動的に違う色になります。（もちろん個別に設定することもできます）"
   ]
  },
  {
   "cell_type": "markdown",
   "metadata": {
    "collapsed": true
   },
   "source": [
    "### グラフの軸の設定"
   ]
  },
  {
   "cell_type": "markdown",
   "metadata": {},
   "source": [
    "#### 軸の範囲"
   ]
  },
  {
   "cell_type": "markdown",
   "metadata": {},
   "source": [
    "matplotlibでは特に設定しなくてもx軸、y軸の範囲は自動で設定されますが。x軸の範囲を設定するには`plt.xlim(最小, 最大)`で設定します。y軸は`plt.ylim(最小, 最大)`で設定します。"
   ]
  },
  {
   "cell_type": "code",
   "execution_count": null,
   "metadata": {},
   "outputs": [],
   "source": [
    "x = [1, 2, 3, 4, 5]\n",
    "y1 = [2, 8,18,32,50]\n",
    "y2 = [4,16,36,64,100]\n",
    "\n",
    "plt.plot(x, y1, \"o--\")\n",
    "plt.plot(x, y2, \"s--\")\n",
    "plt.xlim(0, 6) # ←今回追加\n",
    "plt.ylim(0,120) # ←今回追加\n",
    "plt.show()"
   ]
  },
  {
   "cell_type": "markdown",
   "metadata": {},
   "source": [
    "このように、x軸、y軸の範囲が設定できました。"
   ]
  },
  {
   "cell_type": "markdown",
   "metadata": {},
   "source": [
    "#### 軸ラベル"
   ]
  },
  {
   "cell_type": "markdown",
   "metadata": {},
   "source": [
    "x軸の名前を設定するには、`plt.xlabel(\"設定したい軸の名前\")`で設定します。なお、日本語を入力すると文字化けしてしまいますので注意してください（日本語を入力するためには別途設定が必要です）y軸は`plt.ylabel(\"設定したい軸の名前\")`で設定します。"
   ]
  },
  {
   "cell_type": "code",
   "execution_count": null,
   "metadata": {},
   "outputs": [],
   "source": [
    "x = [1, 2, 3, 4, 5]\n",
    "y1 = [2, 8,18,32,50]\n",
    "y2 = [4,16,36,64,100]\n",
    "\n",
    "plt.plot(x, y1, \"o--\")\n",
    "plt.plot(x, y2, \"s--\")\n",
    "plt.xlabel(\"x\") # ←今回追加\n",
    "plt.ylabel(\"y\") # ←今回追加\n",
    "plt.xlim(0, 6)\n",
    "plt.ylim(0,120)\n",
    "plt.show()"
   ]
  },
  {
   "cell_type": "markdown",
   "metadata": {},
   "source": [
    "### グリッドの表示"
   ]
  },
  {
   "cell_type": "markdown",
   "metadata": {},
   "source": [
    "グリッドを表示するためには`plt.grid()`を追加します。"
   ]
  },
  {
   "cell_type": "code",
   "execution_count": null,
   "metadata": {},
   "outputs": [],
   "source": [
    "x = [1, 2, 3, 4, 5]\n",
    "y1 = [2, 8,18,32,50]\n",
    "y2 = [4,16,36,64,100]\n",
    "\n",
    "plt.plot(x, y1, \"o--\")\n",
    "plt.plot(x, y2, \"s--\")\n",
    "plt.xlabel(\"x\")\n",
    "plt.ylabel(\"y\")\n",
    "plt.xlim(0, 6)\n",
    "plt.ylim(0,120)\n",
    "plt.grid() # ←今回追加\n",
    "plt.show()"
   ]
  },
  {
   "cell_type": "markdown",
   "metadata": {},
   "source": [
    "このように、グラフにグリッドが表示されました。"
   ]
  },
  {
   "cell_type": "markdown",
   "metadata": {
    "collapsed": true
   },
   "source": [
    "### 凡例の表示"
   ]
  },
  {
   "cell_type": "markdown",
   "metadata": {
    "collapsed": true
   },
   "source": [
    "複数のデータをプロットした時など、どのプロットがどのデータかを示す「凡例（はんれい）」が必要になる時があります。凡例を表示するためには、`plt.legend()`を追加します。位置は自動で設定されます。凡例を表示させる場合、プロットするデータに対して、データラベルを追加する必要があります。`plt.plot()`でプロットする際に`label`でデータラベルを追加する必要があります。"
   ]
  },
  {
   "cell_type": "code",
   "execution_count": null,
   "metadata": {},
   "outputs": [],
   "source": [
    "x = [1, 2, 3, 4, 5]\n",
    "y1 = [2, 8,18,32,50]\n",
    "y2 = [4,16,36,64,100]\n",
    "\n",
    "plt.plot(x, y1, \"o--\", label=\"y1\") # ←今回変更\n",
    "plt.plot(x, y2, \"s--\", label=\"y2\") # ←今回変更\n",
    "plt.xlabel(\"x\")\n",
    "plt.ylabel(\"y\")\n",
    "plt.xlim(0, 6)\n",
    "plt.ylim(0,120)\n",
    "plt.grid()\n",
    "plt.legend() # ←今回追加\n",
    "plt.show()"
   ]
  },
  {
   "cell_type": "markdown",
   "metadata": {
    "collapsed": true
   },
   "source": [
    "このように、グラフに凡例が表示されました。`plt.plot()`で設定したデータラベルが表示されています。"
   ]
  }
 ],
 "metadata": {
  "@webio": {
   "lastCommId": null,
   "lastKernelId": null
  },
  "kernelspec": {
   "display_name": "Python 3",
   "language": "python",
   "name": "python3"
  },
  "language_info": {
   "codemirror_mode": {
    "name": "ipython",
    "version": 3
   },
   "file_extension": ".py",
   "mimetype": "text/x-python",
   "name": "python",
   "nbconvert_exporter": "python",
   "pygments_lexer": "ipython3",
   "version": "3.6.4"
  }
 },
 "nbformat": 4,
 "nbformat_minor": 2
}
