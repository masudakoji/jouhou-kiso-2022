{
 "cells": [
  {
   "cell_type": "markdown",
   "metadata": {},
   "source": [
    "# 1年情報基礎 - 様々な演算・問題演習 -"
   ]
  },
  {
   "cell_type": "markdown",
   "metadata": {},
   "source": [
    "## コメント\n",
    "Pythonのプログラムの中には、実行した際に無視される文字列などを含めることができます。これを、「コメント」といい、プログラムのメモなどを記入しておく際に使用します。また、プログラムの一部を実行しない様にする際に使用します。プログラムの一部をコメントにすることを「コメントアウトする」ということもあります。  "
   ]
  },
  {
   "cell_type": "code",
   "execution_count": null,
   "metadata": {
    "collapsed": true
   },
   "outputs": [],
   "source": [
    "# シャープ記号「#」を入力すると、その行のシャープ記号以降がコメントとして扱われます。\n",
    "# この部分がコメントです。この場合、行頭にシャープ記号を打っています。\n",
    "a = 1 # シャープ記号以降がコメントです。この場合「a = 1」は有効です。\n",
    "# a = 2 # 行頭にもシャープ記号を打ったので、この場合「a = 2」は無効です。"
   ]
  },
  {
   "cell_type": "markdown",
   "metadata": {},
   "source": [
    "Google Colaboratory上で作業している場合、コメントしたい行にカーソルがある状態で、「`Ctrl + /`」（Ctrlキーを押しながらスラッシュ）を押すとその行がコメントアウトされます。スラッシュ（/）とバックスラッシュ（\\）を間違えないようにしましょう。"
   ]
  },
  {
   "cell_type": "markdown",
   "metadata": {},
   "source": [
    "### 複数行コメント"
   ]
  },
  {
   "cell_type": "code",
   "execution_count": null,
   "metadata": {
    "collapsed": false
   },
   "outputs": [],
   "source": [
    "\"\"\"\n",
    "複数まとめてコメントにする場合、このように、「\"」を3つ並べます。\n",
    "これで、挟まれた部分は「コメント」として扱われます。\n",
    "大規模なプログラムを作成する場合、小規模なプログラムのパーツ（「関数」といいます）を組み合わせて作成しますが、\n",
    "関数の説明を丁寧に書いたりする時など、複数行コメント\n",
    "\"\"\"\n",
    "a = 3"
   ]
  },
  {
   "cell_type": "markdown",
   "metadata": {},
   "source": [
    "#### 演習"
   ]
  },
  {
   "cell_type": "markdown",
   "metadata": {},
   "source": [
    "次のセルを実行して、結果を確かめてください。そのあと、次のセルの2行目をコメントアウトしてください。再度実行して、先ほどと結果を比較してみてください。"
   ]
  },
  {
   "cell_type": "code",
   "execution_count": null,
   "metadata": {
    "collapsed": false
   },
   "outputs": [],
   "source": [
    "a = 1\n",
    "a = a + 4\n",
    "a"
   ]
  },
  {
   "cell_type": "markdown",
   "metadata": {},
   "source": [
    "## print文\n",
    "Google Colaboratoryで作業している場合、セルの最後に、変数を書いておけば、それで変数の中身を出力できますが  \n",
    "より、高度なことをする場合、print文を使用します。"
   ]
  },
  {
   "cell_type": "markdown",
   "metadata": {},
   "source": [
    "print()という命令を使います。()の中には、出力したい変数を書きます。次のように使用します。"
   ]
  },
  {
   "cell_type": "code",
   "execution_count": null,
   "metadata": {
    "collapsed": false
   },
   "outputs": [],
   "source": [
    "a = 4\n",
    "print(a)"
   ]
  },
  {
   "cell_type": "markdown",
   "metadata": {},
   "source": [
    "aという変数の中身（4）が出力されました"
   ]
  },
  {
   "cell_type": "markdown",
   "metadata": {},
   "source": [
    "当然、文字列型変数も扱えます。"
   ]
  },
  {
   "cell_type": "code",
   "execution_count": null,
   "metadata": {
    "collapsed": false
   },
   "outputs": [],
   "source": [
    "b = \"Python\"\n",
    "print(b)"
   ]
  },
  {
   "cell_type": "markdown",
   "metadata": {},
   "source": [
    "文字列を出力することもできます"
   ]
  },
  {
   "cell_type": "code",
   "execution_count": null,
   "metadata": {
    "collapsed": false
   },
   "outputs": [],
   "source": [
    "print(\"Kobe City College of Technology\")"
   ]
  },
  {
   "cell_type": "markdown",
   "metadata": {},
   "source": [
    "複数の変数の中身を表示させることもできます。"
   ]
  },
  {
   "cell_type": "code",
   "execution_count": null,
   "metadata": {
    "collapsed": false
   },
   "outputs": [],
   "source": [
    "c = 5\n",
    "d = 6\n",
    "print(a, b, c, d)"
   ]
  },
  {
   "cell_type": "markdown",
   "metadata": {},
   "source": [
    "文字列を表示させて、その中に変数の中身を表示することもできます。"
   ]
  },
  {
   "cell_type": "code",
   "execution_count": null,
   "metadata": {
    "collapsed": false
   },
   "outputs": [],
   "source": [
    "print(\"変数aは{}です\".format(a))"
   ]
  },
  {
   "cell_type": "markdown",
   "metadata": {},
   "source": [
    "`\"表示させたい文字列{}\".format(a)`  \n",
    "のように表記します。文字列の後ろに`.format()`という命令をつけます。ピリオドの前後にはスペースなどは入りませんので注意してください。この`.format()`の中に表示させたい変数を入力します。\n",
    "入力された変数は文字列中の`{}`の中に表示されます。"
   ]
  },
  {
   "cell_type": "markdown",
   "metadata": {},
   "source": [
    "複数の変数を表示させることもできます。"
   ]
  },
  {
   "cell_type": "code",
   "execution_count": null,
   "metadata": {
    "collapsed": false
   },
   "outputs": [],
   "source": [
    "print(\"変数cは{}です。変数dは{}です。\".format(c,d))"
   ]
  },
  {
   "cell_type": "markdown",
   "metadata": {},
   "source": [
    "`.format()`の中に入れた変数の順番で、文字列中の{}の中に代入されます。"
   ]
  },
  {
   "cell_type": "markdown",
   "metadata": {},
   "source": [
    "文字列中の`{}`の中に数字を入れると、出力される場所を指定することもできます。数字は0から始める必要がありますが、次のように入力します。"
   ]
  },
  {
   "cell_type": "code",
   "execution_count": null,
   "metadata": {
    "collapsed": false
   },
   "outputs": [],
   "source": [
    "print(\"変数cは{0}です。変数dは{1}です。\".format(c,d))"
   ]
  },
  {
   "cell_type": "markdown",
   "metadata": {},
   "source": [
    "これは、一つ前の例と全く同じです。一つ前の例では{}の中に数字は入力されていませんが、前から順に0,1と数字が入力されているのと同等です。"
   ]
  },
  {
   "cell_type": "markdown",
   "metadata": {},
   "source": [
    "`{}`の中の数字を変更すると、次のようなことが可能です。"
   ]
  },
  {
   "cell_type": "code",
   "execution_count": null,
   "metadata": {
    "collapsed": false
   },
   "outputs": [],
   "source": [
    "print(\"変数dは{1}です。変数cは{0}です。\".format(c,d))"
   ]
  },
  {
   "cell_type": "markdown",
   "metadata": {},
   "source": [
    "`.format()`の中の変数が、`c`,`d`という順番なので、`{0}`の場所に変数`c`が、`{1}`の場所に変数`d`が出力されています。"
   ]
  },
  {
   "cell_type": "markdown",
   "metadata": {},
   "source": [
    "## 四則演算以外の演算\n",
    "以前に、Pythonを使った四則演算は行いましたが、他にも複雑な演算を行うことができます。\n",
    "### 様々な演算"
   ]
  },
  {
   "cell_type": "markdown",
   "metadata": {},
   "source": [
    "べき乗の計算は次のようにします。"
   ]
  },
  {
   "cell_type": "code",
   "execution_count": null,
   "metadata": {
    "collapsed": true
   },
   "outputs": [],
   "source": [
    "a = 2**5"
   ]
  },
  {
   "cell_type": "markdown",
   "metadata": {},
   "source": [
    "これは「2の5乗（$2^5$）」を計算しています。結果は次の通りです。"
   ]
  },
  {
   "cell_type": "code",
   "execution_count": null,
   "metadata": {
    "collapsed": false
   },
   "outputs": [],
   "source": [
    "a"
   ]
  },
  {
   "cell_type": "markdown",
   "metadata": {},
   "source": [
    "「3の1/2乗($3^{\\frac{1}{2}}$)」は次のようになります。"
   ]
  },
  {
   "cell_type": "code",
   "execution_count": null,
   "metadata": {
    "collapsed": true
   },
   "outputs": [],
   "source": [
    "a = 3**(1/2)"
   ]
  },
  {
   "cell_type": "markdown",
   "metadata": {},
   "source": [
    "結果は次の通りです。1/2乗は平方根ですので、これは$\\sqrt{3}$の計算に等しいです。"
   ]
  },
  {
   "cell_type": "code",
   "execution_count": null,
   "metadata": {
    "collapsed": false
   },
   "outputs": [],
   "source": [
    "a"
   ]
  },
  {
   "cell_type": "markdown",
   "metadata": {},
   "source": [
    "### 初等関数"
   ]
  },
  {
   "cell_type": "markdown",
   "metadata": {},
   "source": [
    "他にも指数や対数などの計算も可能です。皆さんは1年の後期の数学で習う予定ですので、今はあまり気にしないで大丈夫です。"
   ]
  },
  {
   "cell_type": "code",
   "execution_count": null,
   "metadata": {
    "collapsed": false
   },
   "outputs": [],
   "source": [
    "import math\n",
    "a = math.exp(2)"
   ]
  },
  {
   "cell_type": "markdown",
   "metadata": {},
   "source": [
    "結果は次の通りです。これは$e^2$という指数関数の計算です。詳しくは数学IIの授業で習います。"
   ]
  },
  {
   "cell_type": "code",
   "execution_count": null,
   "metadata": {
    "collapsed": false
   },
   "outputs": [],
   "source": [
    "a"
   ]
  },
  {
   "cell_type": "markdown",
   "metadata": {},
   "source": [
    "別の例も試してみましょう。"
   ]
  },
  {
   "cell_type": "code",
   "execution_count": null,
   "metadata": {
    "collapsed": false
   },
   "outputs": [],
   "source": [
    "a = math.log(1)"
   ]
  },
  {
   "cell_type": "markdown",
   "metadata": {},
   "source": [
    "結果は次の通りです。これは$\\ln(1)$という対数関数（自然対数）の計算です。詳しくは数学IIの授業で習います。"
   ]
  },
  {
   "cell_type": "code",
   "execution_count": null,
   "metadata": {
    "collapsed": false
   },
   "outputs": [],
   "source": [
    "a"
   ]
  },
  {
   "cell_type": "markdown",
   "metadata": {},
   "source": [
    "別の例も試してみましょう。"
   ]
  },
  {
   "cell_type": "code",
   "execution_count": null,
   "metadata": {
    "collapsed": false
   },
   "outputs": [],
   "source": [
    "a = math.log(math.e)"
   ]
  },
  {
   "cell_type": "markdown",
   "metadata": {},
   "source": [
    "結果は次の通りです。これは$\\ln(e)$（もしくは$\\log_{e}(e)$）という対数関数（自然対数）の計算です。詳しくは数学IIの授業で習います。"
   ]
  },
  {
   "cell_type": "code",
   "execution_count": null,
   "metadata": {
    "collapsed": false
   },
   "outputs": [],
   "source": [
    "a"
   ]
  },
  {
   "cell_type": "markdown",
   "metadata": {},
   "source": [
    "別の例も試してみましょう。"
   ]
  },
  {
   "cell_type": "code",
   "execution_count": null,
   "metadata": {
    "collapsed": true
   },
   "outputs": [],
   "source": [
    "a = math.log10(1000)"
   ]
  },
  {
   "cell_type": "markdown",
   "metadata": {},
   "source": [
    "結果は次の通りです。これは$\\log(1000)$（もしくは$\\log_{10}(1000)$）という  対数関数（常用対数）の計算です。詳しくは数学IIの授業で習います。"
   ]
  },
  {
   "cell_type": "code",
   "execution_count": null,
   "metadata": {
    "collapsed": false
   },
   "outputs": [],
   "source": [
    "a"
   ]
  },
  {
   "cell_type": "markdown",
   "metadata": {},
   "source": [
    "### 変数を使った演算\n",
    "これで皆さんは変数を使って様々な演算ができるようになりました。いくつか演習をしてみましょう"
   ]
  },
  {
   "cell_type": "markdown",
   "metadata": {},
   "source": [
    "#### 例題\n",
    "7たす8を計算して変数`a`に代入しなさい。下のセルに入力すること。"
   ]
  },
  {
   "cell_type": "code",
   "execution_count": null,
   "metadata": {
    "collapsed": true
   },
   "outputs": [],
   "source": [
    "a = 7 + 8"
   ]
  },
  {
   "cell_type": "markdown",
   "metadata": {},
   "source": [
    "答えを確認してみましょう"
   ]
  },
  {
   "cell_type": "code",
   "execution_count": null,
   "metadata": {
    "collapsed": false
   },
   "outputs": [],
   "source": [
    "a"
   ]
  },
  {
   "cell_type": "markdown",
   "metadata": {},
   "source": [
    "#### 問1\n",
    "5かける6を計算して変数`a`に代入しなさい。下のセルに入力すること。"
   ]
  },
  {
   "cell_type": "code",
   "execution_count": null,
   "metadata": {
    "collapsed": true
   },
   "outputs": [],
   "source": []
  },
  {
   "cell_type": "markdown",
   "metadata": {},
   "source": [
    "#### 問2\n",
    "20わる4を計算して変数`b`に代入しなさい。下のセルに入力すること。"
   ]
  },
  {
   "cell_type": "code",
   "execution_count": null,
   "metadata": {
    "collapsed": true
   },
   "outputs": [],
   "source": []
  },
  {
   "cell_type": "markdown",
   "metadata": {},
   "source": [
    "#### 問3\n",
    "100わる3を計算して変数`c`に代入しなさい。下のセルに入力すること。（ヒント：答えは実数です）"
   ]
  },
  {
   "cell_type": "code",
   "execution_count": null,
   "metadata": {
    "collapsed": true
   },
   "outputs": [],
   "source": []
  },
  {
   "cell_type": "markdown",
   "metadata": {},
   "source": [
    "#### 問4\n",
    "2の8乗計算して変数`d`に代入しなさい。下のセルに入力すること。"
   ]
  },
  {
   "cell_type": "code",
   "execution_count": null,
   "metadata": {
    "collapsed": true
   },
   "outputs": [],
   "source": []
  },
  {
   "cell_type": "markdown",
   "metadata": {},
   "source": [
    "#### 問5\n",
    "$\\sqrt{7}$（7の1/2乗）を計算して変数`e`に代入しなさい。下のセルに入力すること。"
   ]
  },
  {
   "cell_type": "code",
   "execution_count": null,
   "metadata": {
    "collapsed": true
   },
   "outputs": [],
   "source": []
  },
  {
   "cell_type": "markdown",
   "metadata": {},
   "source": [
    "#### 問6\n",
    "750円の商品を100円玉と50円玉を使ってちょうど支払った。合計枚数を最小にした時、使用した100円玉の枚数を計算して変数`f`に代入しなさい。下のセルに入力すること"
   ]
  },
  {
   "cell_type": "code",
   "execution_count": null,
   "metadata": {
    "collapsed": true
   },
   "outputs": [],
   "source": []
  },
  {
   "cell_type": "markdown",
   "metadata": {},
   "source": [
    "#### 問7\n",
    "470円の商品をちょうど支払いたい。合計枚数を最小にしたいので、100円玉の使用枚数が最大となる様に支払った。100円玉以外で支払った金額を計算して変数`g`に代入しなさい。下のセルに入力すること。"
   ]
  },
  {
   "cell_type": "code",
   "execution_count": null,
   "metadata": {
    "collapsed": true
   },
   "outputs": [],
   "source": []
  },
  {
   "cell_type": "markdown",
   "metadata": {},
   "source": [
    "#### 問8\n",
    "472円の商品をちょうど支払いたい。合計枚数をが最小になる様に100円玉と10円玉と1円玉で支払った。10円玉の使用枚数を計算して変数`h`に代入しなさい。下のセルに入力すること。（ヒント：括弧を使用します）"
   ]
  },
  {
   "cell_type": "code",
   "execution_count": null,
   "metadata": {
    "collapsed": true
   },
   "outputs": [],
   "source": []
  },
  {
   "cell_type": "markdown",
   "metadata": {},
   "source": [
    "#### 答え合わせ\n",
    "下のセルを実行して答え合わせしてみましょう。なお以下のようなエラーが出た人は、変数の名前が間違っています。\n",
    "```python\n",
    "NameError: name 'dd' is not defined\n",
    "```\n"
   ]
  },
  {
   "cell_type": "code",
   "execution_count": null,
   "metadata": {
    "collapsed": false
   },
   "outputs": [],
   "source": [
    "import math\n",
    "def chk_ans(kai):\n",
    "    lst_ans = [30,5,33.3333,256,2.6457,7,70,7]\n",
    "    for i, [kai, ans] in enumerate(zip(kai,lst_ans)):\n",
    "        print(\"問{}:\".format(i+1),end=\"\")\n",
    "        if kai == ans:\n",
    "            print(\"正解です。\")\n",
    "        elif math.isclose(kai, ans, rel_tol=0.001):\n",
    "            print(\"正解です。\")\n",
    "        else:\n",
    "            print(\"不正解です。\")\n",
    "            \n",
    "chk_ans([a,b,c,d,e,f,g,h])"
   ]
  },
  {
   "cell_type": "code",
   "execution_count": null,
   "metadata": {
    "collapsed": true
   },
   "outputs": [],
   "source": []
  }
 ],
 "metadata": {
  "anaconda-cloud": {},
  "kernelspec": {
   "display_name": "Python [default]",
   "language": "python",
   "name": "python3"
  },
  "language_info": {
   "codemirror_mode": {
    "name": "ipython",
    "version": 3
   },
   "file_extension": ".py",
   "mimetype": "text/x-python",
   "name": "python",
   "nbconvert_exporter": "python",
   "pygments_lexer": "ipython3",
   "version": "3.5.2"
  },
  "vscode": {
   "interpreter": {
    "hash": "c75d77398380f8fb7214b6fbeab52c1a483db45002333af0b9f9ffeb091dd95a"
   }
  }
 },
 "nbformat": 4,
 "nbformat_minor": 1
}
