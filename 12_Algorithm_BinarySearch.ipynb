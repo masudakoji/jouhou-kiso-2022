{
 "cells": [
  {
   "cell_type": "markdown",
   "metadata": {},
   "source": [
    "# 1年情報基礎 - アルゴリズム - "
   ]
  },
  {
   "cell_type": "markdown",
   "metadata": {},
   "source": [
    "## 二分探索（binary search）"
   ]
  },
  {
   "cell_type": "markdown",
   "metadata": {},
   "source": [
    "二分探索も線形探索と同様の「探索」アルゴリズムです。ただ、二分探索は線形探索よりも、より効率が良い探索アルゴリズムです。  \n",
    "線形探索では、リストの先端から一つづつたどって、探索値と比較していきました。二分探索では、ある値（中央値を用いることが多い）より探索値が大きいた小さいかを判定して、絞り込んでいくアルゴリズムです。探索候補を段々と半分にする（二分する）作業を繰り返すイメージです。\n",
    "知りたい単語を辞書で調べるとき、辞書の先頭から一つ一つ調べていくよりも、適当に辞書を開いてみて、そのページより前にあるか、後にあるかを調べて絞り込んでいく作業に似ています。"
   ]
  },
  {
   "cell_type": "markdown",
   "metadata": {},
   "source": [
    "<img src=\"https://raw.githubusercontent.com/masudakoji/jouhou-kiso-2022/main/images/Algorithm_BinarySearch/ss1.png\" width=\"70%\">"
   ]
  },
  {
   "cell_type": "markdown",
   "metadata": {},
   "source": [
    "### 二分探索をする際の注意点"
   ]
  },
  {
   "cell_type": "markdown",
   "metadata": {},
   "source": [
    "二分探索をする場合、対象となるリストは小さいものから順番に並び替えられている必要があります。先ほど辞書の例えを出しましたが、辞書はあいうえお順（もしくはABC順）に並んでいるかと思います。二分探索したいリストも同様にする必要があります。  \n",
    "また、数値データ以外のリストの場合、大小関係が明確ではないので、そういう場合には二分探索は使えません。"
   ]
  },
  {
   "cell_type": "markdown",
   "metadata": {},
   "source": [
    "### 並び替え"
   ]
  },
  {
   "cell_type": "markdown",
   "metadata": {},
   "source": [
    "二分探索を行うためには、対象となるリストが小さいものから順番に並び替えられている必要があります。最初与えられたリストが、並び替えられていないリストの場合`sorted()`関数などを使って並び変える必要があります。"
   ]
  },
  {
   "cell_type": "code",
   "execution_count": null,
   "metadata": {
    "collapsed": true
   },
   "outputs": [],
   "source": [
    "list_source = [4, 18, -1, 21, 26, 13, 6, -5, 9, 20]"
   ]
  },
  {
   "cell_type": "markdown",
   "metadata": {},
   "source": [
    "このような、並び替えられていないリストを並び替えてみます。"
   ]
  },
  {
   "cell_type": "code",
   "execution_count": null,
   "metadata": {
    "collapsed": true
   },
   "outputs": [],
   "source": [
    "list_sorted = sorted(list_source)"
   ]
  },
  {
   "cell_type": "markdown",
   "metadata": {},
   "source": [
    "`sorted()`関数を使って並び替えて、新たに`list_sorted`というリストを作成しました。中身を見てみると次の通りです。"
   ]
  },
  {
   "cell_type": "code",
   "execution_count": null,
   "metadata": {
    "scrolled": false
   },
   "outputs": [],
   "source": [
    "list_sorted"
   ]
  },
  {
   "cell_type": "markdown",
   "metadata": {},
   "source": [
    "昇順に（小さいものから順番に）並び替えられていることがわかります。"
   ]
  },
  {
   "cell_type": "markdown",
   "metadata": {},
   "source": [
    "### 探索範囲の設定"
   ]
  },
  {
   "cell_type": "markdown",
   "metadata": {},
   "source": [
    "二分探索では、探索範囲を段々と狭めていくことで、探索を行います。探索範囲の定義の仕方として、探索範囲の開始位置と終了位置を指定します。開始位置・終了位置はインデックス番号を指定します。"
   ]
  },
  {
   "cell_type": "markdown",
   "metadata": {},
   "source": [
    "<img src=\"https://raw.githubusercontent.com/masudakoji/jouhou-kiso-2022/main/images/Algorithm_BinarySearch/ss2.png\" width=\"70%\">"
   ]
  },
  {
   "cell_type": "code",
   "execution_count": null,
   "metadata": {},
   "outputs": [],
   "source": [
    "low = 0\n",
    "high = len(list_sorted) - 1\n",
    "print(f\"開始位置(low): {low}\")\n",
    "print(f\"終了位置(high): {high}\")"
   ]
  },
  {
   "cell_type": "markdown",
   "metadata": {},
   "source": [
    "最初は対象リスト全体が探索範囲になるかと思いますので、開始位置のインデックス番号は0です。また、リストの最後のインデックス番号は「リストの長さ-1」となります（今回はリストの長さが10なので、そこから1引いて9となります）"
   ]
  },
  {
   "cell_type": "markdown",
   "metadata": {},
   "source": [
    "### 中央位置の設定"
   ]
  },
  {
   "cell_type": "markdown",
   "metadata": {},
   "source": [
    "二分探索では、探索範囲の中央の値を取り出し、その値が「探索値と等しい」、「探索値より大きい」、「探索値より小さい」かを判定して対応します。そのために、中央位置のインデックス番号を算出する必要があります。"
   ]
  },
  {
   "cell_type": "markdown",
   "metadata": {},
   "source": [
    "探索範囲の開始位置(low)、終了位置(high)が分かっているので、探索範囲の中央位置(mid)は以下のように算出できます。"
   ]
  },
  {
   "cell_type": "markdown",
   "metadata": {},
   "source": [
    "<img src=\"https://raw.githubusercontent.com/masudakoji/jouhou-kiso-2022/main/images/Algorithm_BinarySearch/ss3.png\" width=\"70%\">"
   ]
  },
  {
   "cell_type": "markdown",
   "metadata": {},
   "source": [
    "$$中央位置(\\texttt{mid})=\\frac{開始位置(\\texttt{low})+終了位置(\\texttt{high})}{2}$$"
   ]
  },
  {
   "cell_type": "markdown",
   "metadata": {},
   "source": [
    "注意する点として、探索範囲の要素数が奇数であれば、中央位置は整数になります。"
   ]
  },
  {
   "cell_type": "markdown",
   "metadata": {},
   "source": [
    "<img src=\"https://raw.githubusercontent.com/masudakoji/jouhou-kiso-2022/main/images/Algorithm_BinarySearch/ss4.png\" width=\"70%\">"
   ]
  },
  {
   "cell_type": "markdown",
   "metadata": {},
   "source": [
    "開始位置: 0  \n",
    "終了位置: 4  \n",
    "中央位置: 2"
   ]
  },
  {
   "cell_type": "markdown",
   "metadata": {},
   "source": [
    "探索範囲の要素数が偶数であれば、中央位置は小数になります。"
   ]
  },
  {
   "cell_type": "markdown",
   "metadata": {},
   "source": [
    "<img src=\"https://raw.githubusercontent.com/masudakoji/jouhou-kiso-2022/main/images/Algorithm_BinarySearch/ss5.png\" width=\"70%\">"
   ]
  },
  {
   "cell_type": "markdown",
   "metadata": {},
   "source": [
    "開始位置: 0  \n",
    "終了位置: 5  \n",
    "中央位置: 2.5"
   ]
  },
  {
   "cell_type": "markdown",
   "metadata": {},
   "source": [
    "ただ、インデックス番号は整数である必要があります。そのため、「除算（割り算）した際の整数部分のみの取り出し」という機能を使って整数部分を取り出します。除算した際の整数部分のみの取り出しには、'//'という演算子を用います。\n",
    "\n",
    "★「除算（割り算）した際の整数部分のみの取り出し」の演算子は Introduction_Python の資料に記載されています。"
   ]
  },
  {
   "cell_type": "code",
   "execution_count": null,
   "metadata": {
    "collapsed": true
   },
   "outputs": [],
   "source": [
    "mid = (low + high)//2\n",
    "print(f\"開始位置(low): {low}\")\n",
    "print(f\"終了位置(high): {high}\")\n",
    "print(f\"中央位置(mid): {mid}\")"
   ]
  },
  {
   "cell_type": "markdown",
   "metadata": {},
   "source": [
    "このようにすれば、中央位置のインデックス番号が整数として得られます。"
   ]
  },
  {
   "cell_type": "markdown",
   "metadata": {},
   "source": [
    "### 中央位置の値と探索値との比較"
   ]
  },
  {
   "cell_type": "markdown",
   "metadata": {},
   "source": [
    "中央位置のインデックス番号が`mid`として得られたので、`list_sorted`における、中央位置の値は`list_sorted[mid]`で得られます。"
   ]
  },
  {
   "cell_type": "markdown",
   "metadata": {},
   "source": [
    "#### 比較結果（中央位置の値と探索値が等しい）"
   ]
  },
  {
   "cell_type": "markdown",
   "metadata": {},
   "source": [
    "中央位置の値と探索値が一致していれば、探索値が見つかった、ということですので、探索が完了した、とみなすことができます。"
   ]
  },
  {
   "cell_type": "markdown",
   "metadata": {},
   "source": [
    "<img src=\"https://raw.githubusercontent.com/masudakoji/jouhou-kiso-2022/main/images/Algorithm_BinarySearch/ss6.png\" width=\"70%\">"
   ]
  },
  {
   "cell_type": "markdown",
   "metadata": {},
   "source": [
    "#### 比較結果（中央位置の値の方が探索値より大きい）"
   ]
  },
  {
   "cell_type": "markdown",
   "metadata": {},
   "source": [
    "中央位置の値の方が探索値より大きいならば、探索値は中央位置よりも左側（中央位置より小さい範囲）に存在しているはずです。その場合、新しい探索範囲を次のように設定することができます。"
   ]
  },
  {
   "cell_type": "markdown",
   "metadata": {},
   "source": [
    "<img src=\"https://raw.githubusercontent.com/masudakoji/jouhou-kiso-2022/main/images/Algorithm_BinarySearch/ss7.png\" width=\"70%\">"
   ]
  },
  {
   "cell_type": "code",
   "execution_count": null,
   "metadata": {
    "collapsed": true
   },
   "outputs": [],
   "source": [
    "high = mid-1\n",
    "mid = (low + high)//2\n",
    "print(f\"開始位置(low): {low}\")\n",
    "print(f\"終了位置(high): {high}\")\n",
    "print(f\"中央位置(mid): {mid}\")"
   ]
  },
  {
   "cell_type": "markdown",
   "metadata": {},
   "source": [
    "開始位置(low)は変更しません。終了位置(high)については（古い）中央位置よりも1小さいところが新しい終了位置(high)となります。新しい中央位置(mid)も算出しておく必要があります。"
   ]
  },
  {
   "cell_type": "markdown",
   "metadata": {},
   "source": [
    "#### 比較結果（中央位置の値の方が探索値より小さい）"
   ]
  },
  {
   "cell_type": "markdown",
   "metadata": {},
   "source": [
    "中央位置の値の方が探索値より小さいならば、探索値は中央位置よりも右側（中央位置より大きい範囲）に存在しているはずです。その場合、新しい探索範囲を次のように設定することができます。"
   ]
  },
  {
   "cell_type": "markdown",
   "metadata": {},
   "source": [
    "<img src=\"https://raw.githubusercontent.com/masudakoji/jouhou-kiso-2022/main/images/Algorithm_BinarySearch/ss8.png\" width=\"70%\">"
   ]
  },
  {
   "cell_type": "code",
   "execution_count": null,
   "metadata": {
    "collapsed": true
   },
   "outputs": [],
   "source": [
    "low = mid+1\n",
    "mid = (low + high)//2\n",
    "print(f\"開始位置(low): {low}\")\n",
    "print(f\"終了位置(high): {high}\")\n",
    "print(f\"中央位置(mid): {mid}\")"
   ]
  },
  {
   "cell_type": "markdown",
   "metadata": {},
   "source": [
    "開始位置(low)については（古い）中央位置よりも1大きいところが新しい開始位置(low)となります。終了位置(high)は変更しません。新しい中央位置(mid)も算出しておく必要があります。"
   ]
  },
  {
   "cell_type": "markdown",
   "metadata": {},
   "source": [
    "### 二分探索アルゴリズム"
   ]
  },
  {
   "cell_type": "markdown",
   "metadata": {},
   "source": [
    "これらのことを踏まえて、二分探索アルゴリズム全体を書くと次のようになります。"
   ]
  },
  {
   "cell_type": "code",
   "execution_count": null,
   "metadata": {
    "collapsed": true
   },
   "outputs": [],
   "source": [
    "target = 4\n",
    "print(f\"探索値: {target}\")\n",
    "list_source = [4, 18, -1, 21, 26, 13, 6, -5, 9, 20]\n",
    "list_sorted = sorted(list_source)\n",
    "print(f\"探索リスト: {list_sorted}\")\n",
    "\n",
    "# 初期の探索範囲の設定\n",
    "low = 0\n",
    "high = len(list_sorted) - 1\n",
    "mid = (low + high)//2\n",
    "print(f\"low: {low}, high: {high}, mid: {mid}\")\n",
    "\n",
    "while True:\n",
    "    if list_sorted[mid] == target:  # 中央位置の値と探索値が等しい\n",
    "        print(f\"インデックス{mid}に探索値{target}が存在しています\")\n",
    "        break\n",
    "    elif list_sorted[mid] > target: # 中央位置の値の方が探索値より大きい\n",
    "        print(f\"中央位置の値({list_sorted[mid]})の方が探索値({target})より大きいです\")\n",
    "        high = mid-1\n",
    "        mid = (low + high)//2\n",
    "        print(f\"新しい探索範囲 low: {low}, high: {high}, mid: {mid}\")\n",
    "    else:                            # 中央位置の値の方が探索値より小さい\n",
    "        print(f\"中央位置の値({list_sorted[mid]})の方が探索値({target})より小さいです\")\n",
    "        low = mid+1\n",
    "        mid = (low + high)//2\n",
    "        print(f\"新しい探索範囲 low: {low}, high: {high}, mid: {mid}\")"
   ]
  },
  {
   "cell_type": "markdown",
   "metadata": {},
   "source": [
    "探索の結果、インデックス2に探索値4が存在していることがわかりました。"
   ]
  },
  {
   "cell_type": "markdown",
   "metadata": {},
   "source": [
    "これで、二分探索アルゴリズムが完成したようにも思いますが、現時点では一つ大きな問題があります。二分探索自体は出来ていますが、探索値が探索リスト中に存在していなかった際にプログラムが終了しません。上のプログラムでも、うっかりリストにない値を探索値としないように気をつける必要があります。"
   ]
  },
  {
   "cell_type": "markdown",
   "metadata": {},
   "source": [
    "### 終了条件の追加"
   ]
  },
  {
   "cell_type": "markdown",
   "metadata": {},
   "source": [
    "二分探索では、探索範囲が段々と小さくなっていき、最終的に探索範囲が1か2にまで縮小します。それでも見つからなかった際に、新たな探索範囲を設定しようとした時に、\"開始位置(low)>終了位置(high)\"となってしまいます。こうなってしまうとそれ以上探索のしようがないですので、探索値が見つからなかったとして終了するようにします。"
   ]
  },
  {
   "cell_type": "markdown",
   "metadata": {},
   "source": [
    "<img src=\"https://raw.githubusercontent.com/masudakoji/jouhou-kiso-2022/main/images/Algorithm_BinarySearch/ss9.png\" width=\"70%\">"
   ]
  },
  {
   "cell_type": "markdown",
   "metadata": {},
   "source": [
    "<img src=\"https://raw.githubusercontent.com/masudakoji/jouhou-kiso-2022/main/images/Algorithm_BinarySearch/ss10.png\" width=\"70%\">"
   ]
  },
  {
   "cell_type": "markdown",
   "metadata": {},
   "source": [
    "`while True`で無限ループを定義していますので、そこから抜けるためには`break`文を入れる必要があります。開始位置(low)>終了位置(high)となった時にbreak文で終了するような処理を入れれば良いので次のようになります。"
   ]
  },
  {
   "cell_type": "code",
   "execution_count": null,
   "metadata": {},
   "outputs": [],
   "source": [
    "target = 5\n",
    "print(f\"探索値: {target}\")\n",
    "list_source = [4, 18, -1, 21, 26, 13, 6, -5, 9, 20]\n",
    "list_sorted = sorted(list_source)\n",
    "print(f\"探索リスト: {list_sorted}\")\n",
    "\n",
    "# 初期の探索範囲の設定\n",
    "low = 0\n",
    "high = len(list_sorted) - 1\n",
    "mid = (low + high)//2\n",
    "print(f\"low: {low}, high: {high}, mid: {mid}\")\n",
    "\n",
    "while True:\n",
    "    if low > high: # 終了条件\n",
    "        print(\"探索値は見つかりませんでした\")\n",
    "        break\n",
    "    if list_sorted[mid] == target:  # 中央位置の値と探索値が等しい\n",
    "        print(f\"インデックス{mid}に探索値{target}が存在しています\")\n",
    "        break\n",
    "    elif list_sorted[mid] > target: # 中央位置の値の方が探索値より大きい\n",
    "        print(f\"中央位置の値({list_sorted[mid]})の方が探索値({target})より大きいです\")\n",
    "        high = mid-1\n",
    "        mid = (low + high)//2\n",
    "        print(f\"新しい探索範囲 low: {low}, high: {high}, mid: {mid}\")\n",
    "    else:                            # 中央位置の値の方が探索値より小さい\n",
    "        print(f\"中央位置の値({list_sorted[mid]})の方が探索値({target})より小さいです\")\n",
    "        low = mid+1\n",
    "        mid = (low + high)//2\n",
    "        print(f\"新しい探索範囲 low: {low}, high: {high}, mid: {mid}\")"
   ]
  },
  {
   "cell_type": "code",
   "execution_count": null,
   "metadata": {
    "collapsed": true
   },
   "outputs": [],
   "source": []
  }
 ],
 "metadata": {
  "@webio": {
   "lastCommId": null,
   "lastKernelId": null
  },
  "kernelspec": {
   "display_name": "Python 3",
   "language": "python",
   "name": "python3"
  },
  "language_info": {
   "codemirror_mode": {
    "name": "ipython",
    "version": 3
   },
   "file_extension": ".py",
   "mimetype": "text/x-python",
   "name": "python",
   "nbconvert_exporter": "python",
   "pygments_lexer": "ipython3",
   "version": "3.6.4"
  }
 },
 "nbformat": 4,
 "nbformat_minor": 2
}
