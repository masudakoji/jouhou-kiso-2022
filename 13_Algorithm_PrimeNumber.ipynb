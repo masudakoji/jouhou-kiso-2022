{
 "cells": [
  {
   "cell_type": "markdown",
   "metadata": {},
   "source": [
    "# 1年情報基礎 - アルゴリズム - "
   ]
  },
  {
   "cell_type": "markdown",
   "metadata": {},
   "source": [
    "## 素数判定（primality test）"
   ]
  },
  {
   "cell_type": "markdown",
   "metadata": {},
   "source": [
    "### 素数（prime number）とは"
   ]
  },
  {
   "cell_type": "markdown",
   "metadata": {},
   "source": [
    "素数とは次のような特徴を持つ数のことである。\n",
    "- 1より大きい自然数のうち、1とその数でしか割り切れないもの\n",
    "- 一番小さな素数は2\n",
    "- 1より大きい自然数のうち、素数でないものは合成数という"
   ]
  },
  {
   "cell_type": "markdown",
   "metadata": {},
   "source": [
    "例を挙げると、3は「1」と「3」で割り切れるので\"素数\"、6は「1」と「2」と「3」で割り切れるので\"合成数\"（素数ではない）、11は「1」と「11」で割り切れるので\"素数\"となります。"
   ]
  },
  {
   "cell_type": "markdown",
   "metadata": {},
   "source": [
    "### 素数の判定方法"
   ]
  },
  {
   "cell_type": "markdown",
   "metadata": {},
   "source": [
    "与えられた自然数nが素数か、素数でないかを調べる方法としては、ひたすら割り算をして、割り切れるかを調べる、という方法があります。\n",
    "たとえば、自然数nを2で割って割り切れるか（あまりが0であるか）を調べる、その次は3で割ってみる、その次は4で割ってみる、ということです。\n",
    "これを繰り返し、割る数をn-1まで増やしても、割り切れなかった場合、その自然数nは「1とその数でしか割り切れなかった」ということになります。"
   ]
  },
  {
   "cell_type": "markdown",
   "metadata": {},
   "source": [
    "### 約数の判定"
   ]
  },
  {
   "cell_type": "markdown",
   "metadata": {},
   "source": [
    "ある整数を割り切ることができる整数のことを、「約数」といいます。"
   ]
  },
  {
   "cell_type": "markdown",
   "metadata": {},
   "source": [
    "次のような数が素数か調べてみましょう。"
   ]
  },
  {
   "cell_type": "code",
   "execution_count": null,
   "metadata": {
    "collapsed": true
   },
   "outputs": [],
   "source": [
    "n = 5"
   ]
  },
  {
   "cell_type": "markdown",
   "metadata": {},
   "source": [
    "「nが2で割り切れるか」は「nを2で割ったあまりが0である」と言いかえることができます。"
   ]
  },
  {
   "cell_type": "code",
   "execution_count": null,
   "metadata": {
    "collapsed": true
   },
   "outputs": [],
   "source": [
    "# nが2で割り切れるか調べる\n",
    "if n%2 == 0:\n",
    "    print(\"nは2で割り切れます\")"
   ]
  },
  {
   "cell_type": "markdown",
   "metadata": {},
   "source": [
    "何も表示されなかったかと思います。つまり「nは2で割り切れなかった」ということです。"
   ]
  },
  {
   "cell_type": "markdown",
   "metadata": {},
   "source": [
    "次は「nが3で割り切れるか」を調べてみましょう。次のセルにプログラムを入力してみましょう"
   ]
  },
  {
   "cell_type": "code",
   "execution_count": null,
   "metadata": {
    "collapsed": true
   },
   "outputs": [],
   "source": [
    "# nが3で割り切れるか調べる\n",
    "\n"
   ]
  },
  {
   "cell_type": "markdown",
   "metadata": {},
   "source": [
    "次は「nが4で割り切れるか」を調べてみましょう。次のセルにプログラムを入力してみましょう"
   ]
  },
  {
   "cell_type": "code",
   "execution_count": null,
   "metadata": {
    "collapsed": true
   },
   "outputs": [],
   "source": [
    "# nが4で割り切れるか調べる\n",
    "\n"
   ]
  },
  {
   "cell_type": "markdown",
   "metadata": {},
   "source": [
    "このように、n(=5)は2でも3でも4でも割り切れませんでした。このことから5は\"素数\"であるといえます。"
   ]
  },
  {
   "cell_type": "markdown",
   "metadata": {},
   "source": [
    "これで、素数かどうかは判定できるようになりましたが、nが大きな数になった時、「2」から「n-1」まで一つ一つ割っていくわけにはいきません。ただ、行なっている処理自体は同じような作業です。こういう時にはfor文を使った繰り返し処理が使えます。"
   ]
  },
  {
   "cell_type": "markdown",
   "metadata": {},
   "source": [
    "以下のような出力になるよう、for文、range()関数を使ってプログラムを作成してみましょう。（range関数の中に入れる数字がポイントです）"
   ]
  },
  {
   "cell_type": "markdown",
   "metadata": {},
   "source": [
    "#### 出力"
   ]
  },
  {
   "cell_type": "markdown",
   "metadata": {},
   "source": [
    "2  \n",
    "3  \n",
    "4  \n",
    "5"
   ]
  },
  {
   "cell_type": "code",
   "execution_count": null,
   "metadata": {
    "collapsed": true
   },
   "outputs": [],
   "source": [
    "# 上のような出力になるようなプログラムを入力\n",
    "\n"
   ]
  },
  {
   "cell_type": "markdown",
   "metadata": {},
   "source": [
    "今作成した、for文の中に、先ほどの割り切れるかどうかの判定を組み込むことで、n=6の時の割り切れる数について考えてみましょう。"
   ]
  },
  {
   "cell_type": "markdown",
   "metadata": {},
   "source": [
    "以下のような出力になるよう、プログラムを作成してみましょう。range()関数の中に入れる数字は'n'をうまく活用しましょう。print文でもformat文やf-文字列などを活用しましょう。"
   ]
  },
  {
   "cell_type": "markdown",
   "metadata": {},
   "source": [
    "#### 出力"
   ]
  },
  {
   "cell_type": "markdown",
   "metadata": {},
   "source": [
    "6は2で割り切れます  \n",
    "6は3で割り切れます"
   ]
  },
  {
   "cell_type": "code",
   "execution_count": null,
   "metadata": {
    "collapsed": true,
    "scrolled": true
   },
   "outputs": [],
   "source": [
    "n = 6\n",
    "# 上のような出力になるようなプログラムを入力（この下に記入）\n",
    "\n",
    "\n"
   ]
  },
  {
   "cell_type": "markdown",
   "metadata": {},
   "source": [
    "### 約数のカウント"
   ]
  },
  {
   "cell_type": "markdown",
   "metadata": {},
   "source": [
    "これで、割り切れるかどうかの判断ができました。素数かどうかを判断する基準ですが、「2」から「n-1」まで割っていって、約数が見つからなかったら素数となります。`count_yakusuu`という変数を定義して、約数が見つかれば、`count_yakusuu`に1加える、という処理をすることで、約数の数を数えてみましょう。"
   ]
  },
  {
   "cell_type": "markdown",
   "metadata": {},
   "source": [
    "以下のような出力になるよう、プログラムを作成してみましょう。"
   ]
  },
  {
   "cell_type": "markdown",
   "metadata": {},
   "source": [
    "#### 出力例(n=6)"
   ]
  },
  {
   "cell_type": "markdown",
   "metadata": {},
   "source": [
    "6は2で割り切れます  \n",
    "6は3で割り切れます  \n",
    "約数は2個ありました"
   ]
  },
  {
   "cell_type": "markdown",
   "metadata": {},
   "source": [
    "#### 出力例(n=13)"
   ]
  },
  {
   "cell_type": "markdown",
   "metadata": {},
   "source": [
    "約数は0個ありました"
   ]
  },
  {
   "cell_type": "markdown",
   "metadata": {},
   "source": [
    "#### 出力例(n=57)"
   ]
  },
  {
   "cell_type": "markdown",
   "metadata": {},
   "source": [
    "57は3で割り切れます  \n",
    "57は19で割り切れます  \n",
    "約数は2個ありました"
   ]
  },
  {
   "cell_type": "code",
   "execution_count": null,
   "metadata": {
    "collapsed": true
   },
   "outputs": [],
   "source": [
    "n = 6\n",
    "# 上のような出力になるようなプログラムを入力（この下に記入）\n",
    "\n",
    "\n",
    "\n",
    "\n"
   ]
  },
  {
   "cell_type": "markdown",
   "metadata": {},
   "source": [
    "### 約数の数を使って素数判定"
   ]
  },
  {
   "cell_type": "markdown",
   "metadata": {},
   "source": [
    "これで、約数の数がわかりました。それでは、この約数の数(`count_yakusuu`)を使って素数の判定をしましょう。先ほどのプログラムの最後に判定の処理を加えればOKです。"
   ]
  },
  {
   "cell_type": "markdown",
   "metadata": {},
   "source": [
    "以下のような出力になるよう、プログラムを作成してみましょう。"
   ]
  },
  {
   "cell_type": "markdown",
   "metadata": {},
   "source": [
    "#### 出力例(n=6)"
   ]
  },
  {
   "cell_type": "markdown",
   "metadata": {},
   "source": [
    "6は2で割り切れます  \n",
    "6は3で割り切れます  \n",
    "約数は2個ありました  \n",
    "6は素数ではありません"
   ]
  },
  {
   "cell_type": "markdown",
   "metadata": {},
   "source": [
    "#### 出力例(n=13)"
   ]
  },
  {
   "cell_type": "markdown",
   "metadata": {},
   "source": [
    "約数は0個ありました  \n",
    "13は素数です"
   ]
  },
  {
   "cell_type": "markdown",
   "metadata": {},
   "source": [
    "#### 出力例(n=57)"
   ]
  },
  {
   "cell_type": "markdown",
   "metadata": {},
   "source": [
    "57は3で割り切れます  \n",
    "57は19で割り切れます  \n",
    "約数は2個ありました  \n",
    "57は素数ではありません"
   ]
  },
  {
   "cell_type": "code",
   "execution_count": null,
   "metadata": {
    "collapsed": true
   },
   "outputs": [],
   "source": [
    "n = 57\n",
    "# 上のような出力になるようなプログラムを入力（この下に記入）\n",
    "\n",
    "\n",
    "\n",
    "\n",
    "\n",
    "\n"
   ]
  },
  {
   "cell_type": "markdown",
   "metadata": {},
   "source": [
    "### 探索時間の短縮"
   ]
  },
  {
   "cell_type": "markdown",
   "metadata": {},
   "source": [
    "素数かどうかの判定ですが、割り切れる数が1つでも発見できたなら、素数でないことが確定するので、それ以上の探索をする必要はありません。次は、割り切れる数を発見した時に終了するようにしましょう。"
   ]
  },
  {
   "cell_type": "markdown",
   "metadata": {},
   "source": [
    "以下のような出力になるよう、プログラムを作成してみましょう。約数の数を数える必要はありません。for文を途中で抜ける命令はなんだったか思い出しましょう。"
   ]
  },
  {
   "cell_type": "markdown",
   "metadata": {},
   "source": [
    "#### 出力(n=12)"
   ]
  },
  {
   "cell_type": "markdown",
   "metadata": {},
   "source": [
    "12は2で割り切れます  \n",
    "12は素数ではありません"
   ]
  },
  {
   "cell_type": "markdown",
   "metadata": {},
   "source": [
    "#### 出力(n=63)"
   ]
  },
  {
   "cell_type": "markdown",
   "metadata": {},
   "source": [
    "63は3で割り切れます  \n",
    "63は素数ではありません"
   ]
  },
  {
   "cell_type": "markdown",
   "metadata": {},
   "source": [
    "#### 出力(n=67)"
   ]
  },
  {
   "cell_type": "markdown",
   "metadata": {},
   "source": [
    "（何も出力されません）"
   ]
  },
  {
   "cell_type": "markdown",
   "metadata": {},
   "source": [
    "#### 出力(n=1207)"
   ]
  },
  {
   "cell_type": "markdown",
   "metadata": {},
   "source": [
    "1207は17で割り切れます  \n",
    "1207は素数ではありません"
   ]
  },
  {
   "cell_type": "code",
   "execution_count": null,
   "metadata": {
    "collapsed": true,
    "scrolled": true
   },
   "outputs": [],
   "source": [
    "n = 1207\n",
    "# 上のような出力になるようなプログラムを入力（この下に記入）\n",
    "\n",
    "\n",
    "\n",
    "\n",
    "\n"
   ]
  },
  {
   "cell_type": "markdown",
   "metadata": {},
   "source": [
    "### 素数フラグの活用"
   ]
  },
  {
   "cell_type": "markdown",
   "metadata": {},
   "source": [
    "素数ではない場合（合成数である場合）に「素数ではありません」と表示はできるようになりました。ただ、素数の場合には何も表示されません。せっかくだったら、「素数です」「素数ではありません」と表示された方が良いかと思います。"
   ]
  },
  {
   "cell_type": "markdown",
   "metadata": {},
   "source": [
    "ここで、\"フラグ\"という考えを使います。フラグとは状態判定などに使う考え方で、ゲームなどで「閉ざされたドアがあるが、王様に話しかけてから、そのドアのところに行くとドアが開く」みたいな状況を作る時に使われます。フラグは`True`か`False`のどちらの状態であることが一般的です。  \n",
    "ここでは、「王様に話しかけたフラグ」というものが定義されていたとして,  \n",
    "「王様に話しかけたフラグ」が`False`なら、ドアは開かない  \n",
    "「王様に話しかけたフラグ」が`True`なら、ドアが開く  \n",
    "という風にプログラミングされている、ということです。"
   ]
  },
  {
   "cell_type": "markdown",
   "metadata": {},
   "source": [
    "では、素数判定において、どのようにフラグを活用したら良いでしょうか。まず「素数であるフラグ」を考えましょう。約数の探索が終わった後に「素数であるフラグ」が`True`であれば素数、`False`であれば素数でない、と判定できるようにします。"
   ]
  },
  {
   "cell_type": "markdown",
   "metadata": {},
   "source": [
    "これまでのプログラムで、約数が見つかった時に素数でないことが確定するわけですから、  \n",
    "最初は「素数であるフラグ」を`True`にしておいて、約数が見つかれば、「素数であるフラグ」を`False`にする、という風にプログラミングしましょう。`isPrime`という変数を「素数であるフラグ」として使用します。"
   ]
  },
  {
   "cell_type": "markdown",
   "metadata": {},
   "source": [
    "以下のような出力になるよう、プログラムを作成してみましょう。約数の数を数える必要はありません。最後に`isPrime`を使って素数の判定を行いましょう。"
   ]
  },
  {
   "cell_type": "markdown",
   "metadata": {},
   "source": [
    "#### 出力(n=12)"
   ]
  },
  {
   "cell_type": "markdown",
   "metadata": {},
   "source": [
    "12は2で割り切れます  \n",
    "12は素数ではありません"
   ]
  },
  {
   "cell_type": "markdown",
   "metadata": {},
   "source": [
    "#### 出力(n=17)"
   ]
  },
  {
   "cell_type": "markdown",
   "metadata": {},
   "source": [
    "17は素数です"
   ]
  },
  {
   "cell_type": "markdown",
   "metadata": {},
   "source": [
    "#### 出力(n=183)"
   ]
  },
  {
   "cell_type": "markdown",
   "metadata": {},
   "source": [
    "183は3で割り切れます  \n",
    "183は素数ではありません"
   ]
  },
  {
   "cell_type": "markdown",
   "metadata": {},
   "source": [
    "#### 出力(n=1129)"
   ]
  },
  {
   "cell_type": "markdown",
   "metadata": {},
   "source": [
    "1129は素数です"
   ]
  },
  {
   "cell_type": "code",
   "execution_count": null,
   "metadata": {
    "collapsed": true
   },
   "outputs": [],
   "source": [
    "n = 12\n",
    "isPrime = True\n",
    "# 上のような出力になるようなプログラムを入力（この下に記入）\n",
    "\n",
    "\n",
    "\n",
    "\n",
    "\n",
    "\n"
   ]
  },
  {
   "cell_type": "code",
   "execution_count": null,
   "metadata": {
    "collapsed": true
   },
   "outputs": [],
   "source": []
  }
 ],
 "metadata": {
  "@webio": {
   "lastCommId": null,
   "lastKernelId": null
  },
  "kernelspec": {
   "display_name": "Python 3",
   "language": "python",
   "name": "python3"
  },
  "language_info": {
   "codemirror_mode": {
    "name": "ipython",
    "version": 3
   },
   "file_extension": ".py",
   "mimetype": "text/x-python",
   "name": "python",
   "nbconvert_exporter": "python",
   "pygments_lexer": "ipython3",
   "version": "3.6.4"
  }
 },
 "nbformat": 4,
 "nbformat_minor": 2
}
