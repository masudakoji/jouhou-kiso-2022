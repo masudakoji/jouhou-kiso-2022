{
 "cells": [
  {
   "cell_type": "markdown",
   "metadata": {},
   "source": [
    "# 1年情報基礎 - 条件分岐 問題演習 -"
   ]
  },
  {
   "cell_type": "markdown",
   "metadata": {},
   "source": [
    "条件分岐の内容を中心として、それまでに学んだ内容の復習もあわせて演習しましょう。"
   ]
  },
  {
   "cell_type": "markdown",
   "metadata": {},
   "source": [
    "### 演習"
   ]
  },
  {
   "cell_type": "markdown",
   "metadata": {},
   "source": [
    "#### 例題"
   ]
  },
  {
   "cell_type": "markdown",
   "metadata": {},
   "source": [
    "変数`a`に何らかの数値を代入しなさい。さらに、変数`a`が0より大きい場合に「変数aは0より大きいです」と表示させるプログラムを作成しなさい。"
   ]
  },
  {
   "cell_type": "code",
   "execution_count": null,
   "metadata": {
    "collapsed": false
   },
   "outputs": [],
   "source": [
    "a = 5\n",
    "if a > 0:\n",
    "    print(\"変数aは0より大きいです\")"
   ]
  },
  {
   "cell_type": "markdown",
   "metadata": {},
   "source": [
    "#### 問題1"
   ]
  },
  {
   "cell_type": "markdown",
   "metadata": {},
   "source": [
    "変数aに何らかの数値を代入しなさい。さらに変数`a`が0以上である場合に「変数aは0以上です」と表示させるプログラムを作成しなさい。"
   ]
  },
  {
   "cell_type": "code",
   "execution_count": null,
   "metadata": {
    "collapsed": true
   },
   "outputs": [],
   "source": []
  },
  {
   "cell_type": "markdown",
   "metadata": {},
   "source": [
    "#### 問題2"
   ]
  },
  {
   "cell_type": "markdown",
   "metadata": {},
   "source": [
    "変数aに何らかの数値を代入しなさい。さらに変数`a`が5未満である場合に「変数aは5未満です」と表示させるプログラムを作成しなさい。"
   ]
  },
  {
   "cell_type": "code",
   "execution_count": null,
   "metadata": {
    "collapsed": true
   },
   "outputs": [],
   "source": []
  },
  {
   "cell_type": "markdown",
   "metadata": {},
   "source": [
    "#### 問題3"
   ]
  },
  {
   "cell_type": "markdown",
   "metadata": {},
   "source": [
    "変数aに何らかの数値を代入しなさい。さらに変数`a`が0である場合に「変数aは0です」と表示させるプログラムを作成しなさい。"
   ]
  },
  {
   "cell_type": "code",
   "execution_count": null,
   "metadata": {
    "collapsed": true
   },
   "outputs": [],
   "source": []
  },
  {
   "cell_type": "markdown",
   "metadata": {},
   "source": [
    "#### 問題4"
   ]
  },
  {
   "cell_type": "markdown",
   "metadata": {},
   "source": [
    "変数aに何らかの数値を代入しなさい。次にその変数`a`の変数の中身を表示させなさい。その際print文のformat機能を使って「変数aはXXです」のように表示させること（例えば変数`a`が4であれば「変数aは4です」のように表示されるように）\n",
    "さらに、変数`a`が0より大きい場合に「変数aは0より大きいです」と表示させるプログラムを作成しなさい。表示例を参考にすること。"
   ]
  },
  {
   "cell_type": "markdown",
   "metadata": {},
   "source": [
    "**表示例 1**  \n",
    "変数aは4です  \n",
    "変数aは0より大きいです  \n",
    "**表示例 2**  \n",
    "変数aは8です  \n",
    "変数aは0より大きいです  \n",
    "**表示例 3**  \n",
    "変数aは2です  \n",
    "変数aは0より大きいです  \n",
    "**表示例 4**  \n",
    "変数aは0です"
   ]
  },
  {
   "cell_type": "code",
   "execution_count": null,
   "metadata": {
    "collapsed": true
   },
   "outputs": [],
   "source": []
  },
  {
   "cell_type": "markdown",
   "metadata": {},
   "source": [
    "#### 問題5"
   ]
  },
  {
   "cell_type": "markdown",
   "metadata": {},
   "source": [
    "変数aに何らかの数値を代入しなさい。さらに変数`a`を2で割った際の余りをprint文で表示しなさい（format文を使う）"
   ]
  },
  {
   "cell_type": "markdown",
   "metadata": {},
   "source": [
    "**表示例 1**  \n",
    "3を2で割った余りは1です  \n",
    "**表示例 2**  \n",
    "6を2で割った余りは0です  "
   ]
  },
  {
   "cell_type": "code",
   "execution_count": null,
   "metadata": {
    "collapsed": true
   },
   "outputs": [],
   "source": []
  },
  {
   "cell_type": "markdown",
   "metadata": {},
   "source": [
    "#### 問題6"
   ]
  },
  {
   "cell_type": "markdown",
   "metadata": {},
   "source": [
    "変数aに何らかの数値を代入しなさい。\n",
    "次にその変数aの変数の中身を表示させなさい。その際print文のformat機能を使って「変数aはXXです」のように表示させること（例えば変数aが4であれば「変数aは4です」のように表示されるように） \n",
    "さらに変数`a`が偶数である場合に「変数aは偶数です」と表示させるプログラムを作成しなさい。（偶数は2で割った余りを使って判定します。）"
   ]
  },
  {
   "cell_type": "markdown",
   "metadata": {},
   "source": [
    "**表示例 1**  \n",
    "変数aは5です  \n",
    "**表示例 2**  \n",
    "変数aは4です  \n",
    "変数aは偶数です  \n",
    "**表示例 3**  \n",
    "変数aは12です  \n",
    "変数aは偶数です"
   ]
  },
  {
   "cell_type": "code",
   "execution_count": null,
   "metadata": {
    "collapsed": true
   },
   "outputs": [],
   "source": []
  },
  {
   "cell_type": "markdown",
   "metadata": {},
   "source": [
    "#### 問題7"
   ]
  },
  {
   "cell_type": "markdown",
   "metadata": {},
   "source": [
    "変数aに何らかの数値を代入しなさい。\n",
    "次にその変数aの変数の中身を表示させなさい。その際print文のformat機能を使って「変数aはXXです」のように表示させること（例えば変数aが4であれば「変数aは4です」のように表示されるように） \n",
    "さらに変数`a`が奇数である場合に「変数aは奇数です」と表示させるプログラムを作成しなさい。"
   ]
  },
  {
   "cell_type": "markdown",
   "metadata": {},
   "source": [
    "**表示例 1**  \n",
    "変数aは5です  \n",
    "変数aは奇数です  \n",
    "**表示例 2**  \n",
    "変数aは4です  \n",
    "**表示例 3**  \n",
    "変数aは12です"
   ]
  },
  {
   "cell_type": "code",
   "execution_count": null,
   "metadata": {
    "collapsed": true
   },
   "outputs": [],
   "source": []
  },
  {
   "cell_type": "markdown",
   "metadata": {},
   "source": [
    "#### 問題8"
   ]
  },
  {
   "cell_type": "markdown",
   "metadata": {},
   "source": [
    "変数`a, b`に何らかの数値を代入しなさい。\n",
    "次にその変数`a, b`の変数の中身を表示させなさい。その際print文のformat機能を使って「変数aはXXです。変数bはYYです。」のように表示させること   \n",
    "さらに変数`a`が偶数である場合に「変数aは偶数です」と表示させるプログラムを作成しなさい。変数`b`についても同様に表示させるようにしなさい。"
   ]
  },
  {
   "cell_type": "markdown",
   "metadata": {},
   "source": [
    "**表示例 1**  \n",
    "変数aは12です。変数bは5です。  \n",
    "変数aは偶数です  \n",
    "**表示例 2**  \n",
    "変数aは8です。変数bは4です。  \n",
    "変数aは偶数です  \n",
    "変数bは偶数です  \n",
    "**表示例 3**  \n",
    "変数aは7です。変数bは6です。  \n",
    "変数bは偶数です  \n",
    "**表示例 4**  \n",
    "変数aは3です。変数bは9です。"
   ]
  },
  {
   "cell_type": "code",
   "execution_count": null,
   "metadata": {
    "collapsed": true
   },
   "outputs": [],
   "source": []
  },
  {
   "cell_type": "markdown",
   "metadata": {},
   "source": [
    "#### 問題9"
   ]
  },
  {
   "cell_type": "markdown",
   "metadata": {},
   "source": [
    "変数`a, b`に何らかの数値を代入しなさい。\n",
    "次にその変数`a, b`の変数の中身を表示させなさい。その際print文のformat機能を使って「変数aはXXです。変数bはYYです。」のように表示させること   \n",
    "さらに変数`a`と`b`が両方偶数である場合に「変数aとbは両方偶数です」と表示させなさい。（片方が偶数の場合などは何も表示させない）"
   ]
  },
  {
   "cell_type": "markdown",
   "metadata": {},
   "source": [
    "**表示例 1**  \n",
    "変数aは1です。変数bは3です。  \n",
    "**表示例 2**  \n",
    "変数aは4です。変数bは5です。  \n",
    "**表示例 3**  \n",
    "変数aは6です。変数bは9です。  \n",
    "**表示例 4**  \n",
    "変数aは2です。変数bは4です。  \n",
    "変数aとbは両方偶数です"
   ]
  },
  {
   "cell_type": "code",
   "execution_count": null,
   "metadata": {
    "collapsed": true
   },
   "outputs": [],
   "source": []
  },
  {
   "cell_type": "markdown",
   "metadata": {},
   "source": [
    "#### 問題10"
   ]
  },
  {
   "cell_type": "markdown",
   "metadata": {},
   "source": [
    "変数`a, b`に何らかの数値を代入しなさい。\n",
    "次にその変数`a, b`の変数の中身を表示させなさい。その際print文のformat機能を使って「変数aはXXです。変数bはYYです。」のように表示させること   \n",
    "さらに変数`a`と`b`のどちらかが偶数である場合に「変数aとbのどちらかもしくは両方が偶数です」と表示させなさい。（どちらも奇数の場合は何も表示させない）"
   ]
  },
  {
   "cell_type": "markdown",
   "metadata": {},
   "source": [
    "**表示例 1**  \n",
    "変数aは1です。変数bは3です。  \n",
    "**表示例 2**  \n",
    "変数aは4です。変数bは5です。  \n",
    "変数aとbのどちらかもしくは両方が偶数です  \n",
    "**表示例 3**  \n",
    "変数aは6です。変数bは9です。  \n",
    "変数aとbのどちらかもしくは両方が偶数です  \n",
    "**表示例 4**  \n",
    "変数aは2です。変数bは4です。  \n",
    "変数aとbのどちらかもしくは両方が偶数です  "
   ]
  },
  {
   "cell_type": "code",
   "execution_count": null,
   "metadata": {
    "collapsed": true
   },
   "outputs": [],
   "source": []
  },
  {
   "cell_type": "markdown",
   "metadata": {},
   "source": [
    "#### 問題11"
   ]
  },
  {
   "cell_type": "markdown",
   "metadata": {},
   "source": [
    "変数`a, b`に何らかの数値を代入しなさい。\n",
    "次にその変数`a, b`の変数の中身を表示させなさい。その際print文のformat機能を使って「変数aはXXです。変数bはYYです。」のように表示させること   \n",
    "さらに変数`a`と`b`が等しい時に「変数aと変数bは等しいです」と表示させなさい。（等しくない時には何も表示させない）"
   ]
  },
  {
   "cell_type": "markdown",
   "metadata": {},
   "source": [
    "**表示例 1**  \n",
    "変数aは1です。変数bは3です。  \n",
    "**表示例 2**  \n",
    "変数aは2です。変数bは2です。  \n",
    "変数aと変数bは等しいです  "
   ]
  },
  {
   "cell_type": "code",
   "execution_count": null,
   "metadata": {
    "collapsed": true
   },
   "outputs": [],
   "source": []
  },
  {
   "cell_type": "markdown",
   "metadata": {},
   "source": [
    "#### 問題12"
   ]
  },
  {
   "cell_type": "markdown",
   "metadata": {},
   "source": [
    "変数`a, b`に何らかの数値を代入しなさい。\n",
    "次にその変数`a, b`の変数の中身を表示させなさい。その際print文のformat機能を使って「変数aはXXです。変数bはYYです。」のように表示させること   \n",
    "さらに変数`a`と`b`の和を表示させなさい。（print文のformat機能を使う）"
   ]
  },
  {
   "cell_type": "markdown",
   "metadata": {},
   "source": [
    "**表示例 1**  \n",
    "変数aは1です。変数bは3です。  \n",
    "変数aと変数bの和は4です  \n",
    "**表示例 2**  \n",
    "変数aは2です。変数bは4です。  \n",
    "変数aと変数bの和は6です  "
   ]
  },
  {
   "cell_type": "code",
   "execution_count": null,
   "metadata": {
    "collapsed": true
   },
   "outputs": [],
   "source": []
  },
  {
   "cell_type": "markdown",
   "metadata": {},
   "source": [
    "#### 問題13"
   ]
  },
  {
   "cell_type": "markdown",
   "metadata": {},
   "source": [
    "変数`a, b`に何らかの数値を代入しなさい。\n",
    "次にその変数`a, b`の変数の中身を表示させなさい。その際print文のformat機能を使って「変数aはXXです。変数bはYYです。」のように表示させること   \n",
    "さらに変数`a`と`b`の和が10である場合に「変数aと変数bの和は10です」と表示させなさい。（それ以外の場合には何も表示させない）"
   ]
  },
  {
   "cell_type": "markdown",
   "metadata": {},
   "source": [
    "**表示例 1**  \n",
    "変数aは1です。変数bは3です。  \n",
    "**表示例 2**  \n",
    "変数aは7です。変数bは3です。  \n",
    "変数aと変数bの和は10です  \n",
    "**表示例 3**  \n",
    "変数aは1です。変数bは9です。  \n",
    "変数aと変数bの和は10です  \n",
    "**表示例 4**  \n",
    "変数aは3です。変数bは9です。"
   ]
  },
  {
   "cell_type": "code",
   "execution_count": null,
   "metadata": {
    "collapsed": true
   },
   "outputs": [],
   "source": []
  },
  {
   "cell_type": "markdown",
   "metadata": {},
   "source": [
    "#### 問題14"
   ]
  },
  {
   "cell_type": "markdown",
   "metadata": {},
   "source": [
    "変数`a, b`に何らかの数値を代入しなさい。\n",
    "次にその変数`a, b`の変数の中身を表示させなさい。その際print文のformat機能を使って「変数aはXXです。変数bはYYです。」のように表示させること   \n",
    "さらに変数`a`と`b`が等しい時に「変数aと変数bは等しいです」と表示させ、そうでない時には「変数aと変数bは等しくないです」と表示させなさい。"
   ]
  },
  {
   "cell_type": "markdown",
   "metadata": {},
   "source": [
    "**表示例 1**  \n",
    "変数aは1です。変数bは3です。  \n",
    "変数aと変数bは等しくないです  \n",
    "**表示例 2**  \n",
    "変数aは2です。変数bは2です。  \n",
    "変数aと変数bは等しいです  "
   ]
  },
  {
   "cell_type": "code",
   "execution_count": null,
   "metadata": {
    "collapsed": true
   },
   "outputs": [],
   "source": []
  },
  {
   "cell_type": "markdown",
   "metadata": {},
   "source": [
    "#### 問題15"
   ]
  },
  {
   "cell_type": "markdown",
   "metadata": {},
   "source": [
    "変数aに何らかの数値を代入しなさい。\n",
    "次にその変数aの変数の中身を表示させなさい。その際print文のformat機能を使って「変数aはXXです」のように表示させること（例えば変数aが4であれば「変数aは4です」のように表示されるように） \n",
    "さらに変数`a`が偶数である場合に「変数aは偶数です」、そうでない場合（変数`a`が奇数である場合）に「変数aは奇数です」と表示させるプログラムを作成しなさい。"
   ]
  },
  {
   "cell_type": "markdown",
   "metadata": {},
   "source": [
    "**表示例 1**  \n",
    "変数aは5です  \n",
    "変数aは奇数です  \n",
    "**表示例 2**  \n",
    "変数aは4です  \n",
    "変数aは偶数です  \n",
    "**表示例 3**  \n",
    "変数aは12です  \n",
    "変数aは偶数です"
   ]
  },
  {
   "cell_type": "code",
   "execution_count": null,
   "metadata": {
    "collapsed": true
   },
   "outputs": [],
   "source": []
  },
  {
   "cell_type": "markdown",
   "metadata": {},
   "source": [
    "#### 問題16"
   ]
  },
  {
   "cell_type": "markdown",
   "metadata": {},
   "source": [
    "変数aに何らかの数値を代入しなさい。\n",
    "次にその変数aの変数の中身を表示させなさい。その際print文のformat機能を使って「XX点です」のように表示させること（例えば変数aが70であれば「70点です」のように表示されるように） \n",
    "さらに変数`a`が60以上である場合に「合格です」、そうでない場合に「不合格です」と表示させるプログラムを作成しなさい。"
   ]
  },
  {
   "cell_type": "markdown",
   "metadata": {},
   "source": [
    "**表示例 1**  \n",
    "70点です  \n",
    "合格です  \n",
    "**表示例 2**  \n",
    "56点です  \n",
    "不合格です  \n",
    "**表示例 3**  \n",
    "60点です  \n",
    "合格です"
   ]
  },
  {
   "cell_type": "code",
   "execution_count": null,
   "metadata": {
    "collapsed": true
   },
   "outputs": [],
   "source": []
  },
  {
   "cell_type": "markdown",
   "metadata": {},
   "source": [
    "#### 問題17"
   ]
  },
  {
   "cell_type": "markdown",
   "metadata": {},
   "source": [
    "変数`a, b`に何らかの数値を代入しなさい。\n",
    "次にその変数`a, b`の変数の中身を表示させなさい。その際print文のformat機能を使って「変数aはXXです。変数bはYYです。」のように表示させること   \n",
    "さらに変数`a`と`b`の和が10以上である場合に「変数aと変数bの和は10以上です」と表示させなさい。（それ以外の場合には何も表示させない）"
   ]
  },
  {
   "cell_type": "markdown",
   "metadata": {},
   "source": [
    "**表示例 1**  \n",
    "変数aは3です。変数bは9です。  \n",
    "変数aと変数bの和は10以上です  \n",
    "**表示例 2**  \n",
    "変数aは5です。変数bは3です。  \n",
    "**表示例 3**  \n",
    "変数aは1です。変数bは9です。  \n",
    "変数aと変数bの和は10以上です  \n",
    "**表示例 4**  \n",
    "変数aは5です。変数bは5です。  \n",
    "変数aと変数bの和は10以上です  "
   ]
  },
  {
   "cell_type": "code",
   "execution_count": null,
   "metadata": {
    "collapsed": true
   },
   "outputs": [],
   "source": []
  },
  {
   "cell_type": "markdown",
   "metadata": {},
   "source": [
    "#### 問題18"
   ]
  },
  {
   "cell_type": "markdown",
   "metadata": {},
   "source": [
    "変数`a, b`に何らかの数値を代入しなさい。\n",
    "次にその変数`a, b`の変数の中身を表示させなさい。その際print文のformat機能を使って「変数aはXXです。変数bはYYです。」のように表示させること   \n",
    "さらに変数`a`と`b`の和が10以上である場合には「変数aと変数bの和は10以上です」と表示させ、それ以外の場合には「変数aと変数bの和は10未満です」と表示させなさい。"
   ]
  },
  {
   "cell_type": "markdown",
   "metadata": {},
   "source": [
    "**表示例 1**  \n",
    "変数aは3です。変数bは9です。  \n",
    "変数aと変数bの和は10以上です  \n",
    "**表示例 2**  \n",
    "変数aは5です。変数bは3です。  \n",
    "変数aと変数bの和は10未満です  \n",
    "**表示例 3**  \n",
    "変数aは1です。変数bは9です。  \n",
    "変数aと変数bの和は10以上です  \n",
    "**表示例 4**  \n",
    "変数aは5です。変数bは4です。  \n",
    "変数aと変数bの和は10未満です  "
   ]
  },
  {
   "cell_type": "code",
   "execution_count": null,
   "metadata": {
    "collapsed": true
   },
   "outputs": [],
   "source": []
  },
  {
   "cell_type": "markdown",
   "metadata": {},
   "source": [
    "#### 問題19"
   ]
  },
  {
   "cell_type": "markdown",
   "metadata": {},
   "source": [
    "変数`a, b`に何らかの数値を代入しなさい。\n",
    "次にその変数`a, b`の変数の中身を表示させなさい。その際print文のformat機能を使って「変数aはXXです。変数bはYYです。」のように表示させること   \n",
    "さらに変数`a`と`b`の積が30より大きい場合には「変数aと変数bの積は30より大きいです」と表示させ、それ以外の場合には「変数aと変数bの積は30以下です」と表示させなさい。"
   ]
  },
  {
   "cell_type": "markdown",
   "metadata": {},
   "source": [
    "**表示例 1**  \n",
    "変数aは5です。変数bは4です。  \n",
    "変数aと変数bの積は30以下です  \n",
    "**表示例 2**  \n",
    "変数aは6です。変数bは5です。  \n",
    "変数aと変数bの積は30以下です  \n",
    "**表示例 3**  \n",
    "変数aは7です。変数bは6です。  \n",
    "変数aと変数bの積は30より大きいです  \n",
    "**表示例 4**  \n",
    "変数aは4です。変数bは8です。  \n",
    "変数aと変数bの積は30より大きいです  "
   ]
  },
  {
   "cell_type": "code",
   "execution_count": null,
   "metadata": {
    "collapsed": true
   },
   "outputs": [],
   "source": []
  },
  {
   "cell_type": "markdown",
   "metadata": {},
   "source": [
    "#### 問題20"
   ]
  },
  {
   "cell_type": "markdown",
   "metadata": {},
   "source": [
    "変数aに何らかの数値を代入しなさい。\n",
    "次にその変数aの変数の中身を表示させなさい。その際print文のformat機能を使って「XX点です」のように表示させること（例えば変数aが70であれば「70点です」のように表示されるように） \n",
    "さらに変数`a`が60以上である場合に「合格です」、そうでない場合で変数`a`が30以上の場合に「不合格です。演習問題を1回解きましょう。」、上の条件のどちらも満たさない場合に「不合格です。演習問題を5回解きましょう。」と表示させるプログラムを作成しなさい。"
   ]
  },
  {
   "cell_type": "markdown",
   "metadata": {},
   "source": [
    "**表示例 1**  \n",
    "70点です  \n",
    "合格です  \n",
    "**表示例 2**  \n",
    "56点です  \n",
    "不合格です。演習問題を1回解きましょう。  \n",
    "**表示例 3**  \n",
    "60点です  \n",
    "合格です  \n",
    "**表示例 4**  \n",
    "32点です  \n",
    "不合格です。演習問題を1回解きましょう。  \n",
    "**表示例 5**  \n",
    "30点です  \n",
    "不合格です。演習問題を1回解きましょう。  \n",
    "**表示例 6**  \n",
    "28点です  \n",
    "不合格です。演習問題を5回解きましょう。  "
   ]
  },
  {
   "cell_type": "code",
   "execution_count": null,
   "metadata": {
    "collapsed": true
   },
   "outputs": [],
   "source": []
  },
  {
   "cell_type": "markdown",
   "metadata": {},
   "source": [
    "#### 問題21"
   ]
  },
  {
   "cell_type": "markdown",
   "metadata": {},
   "source": [
    "変数aに何らかの数値を代入しなさい。\n",
    "次にその変数aの変数の中身を表示させなさい。その際print文のformat機能を使って「XX点です」のように表示させること（例えば変数aが70であれば「70点です」のように表示されるように） \n",
    "さらに変数`a`が80以上である場合に「優です」、前の条件は満たさないが変数`a`が70以上である場合に「良です」、前の条件は満たさないが変数`a`が60以上である場合に「可です」、上の条件のどれも満たさない場合に「不可です」と表示させるプログラムを作成しなさい。"
   ]
  },
  {
   "cell_type": "markdown",
   "metadata": {},
   "source": [
    "**表示例 1**  \n",
    "70点です  \n",
    "良です  \n",
    "**表示例 2**  \n",
    "56点です  \n",
    "不可です  \n",
    "**表示例 3**  \n",
    "60点です  \n",
    "可です  \n",
    "**表示例 4**  \n",
    "32点です  \n",
    "不可です  \n",
    "**表示例 5**  \n",
    "82点です  \n",
    "優です  \n",
    "**表示例 6**  \n",
    "59点です  \n",
    "不可です  "
   ]
  },
  {
   "cell_type": "code",
   "execution_count": null,
   "metadata": {
    "collapsed": true
   },
   "outputs": [],
   "source": []
  },
  {
   "cell_type": "markdown",
   "metadata": {},
   "source": [
    "#### 問題22"
   ]
  },
  {
   "cell_type": "markdown",
   "metadata": {},
   "source": [
    "for文を使って、1+2+3+4+5+6+7を計算しなさい。計算する際は、「1」、「2」、「3」、「4」、「5」、「6」、「7」の数字を格納したリストを使って、変数`goukei`に結果が格納されるようなプログラムを組むこと。また、計算途中の数値（現時点での合計）を出力するようにすること。"
   ]
  },
  {
   "cell_type": "markdown",
   "metadata": {},
   "source": [
    "**表示例**  \n",
    "現時点での合計は1です  \n",
    "現時点での合計は3です  \n",
    "現時点での合計は6です  \n",
    "現時点での合計は10です  \n",
    "現時点での合計は15です  \n",
    "現時点での合計は21です  \n",
    "現時点での合計は28です  "
   ]
  },
  {
   "cell_type": "code",
   "execution_count": null,
   "metadata": {
    "collapsed": true
   },
   "outputs": [],
   "source": []
  },
  {
   "cell_type": "markdown",
   "metadata": {},
   "source": [
    "#### 問題23"
   ]
  },
  {
   "cell_type": "markdown",
   "metadata": {},
   "source": [
    "for文を使って、1+2+3+4+5+6+7を計算しなさい。計算する際は、「1」、「2」、「3」、「4」、「5」、「6」、「7」の数字を格納したリストを使って、変数`goukei`に結果が格納されるようなプログラムを組むこと。また、計算途中の数値（現時点での合計）を出力するようにすること。さらに最終的な合計が20以上であれば、「合計は20以上です」と表示させるプログラムを作成しなさい。"
   ]
  },
  {
   "cell_type": "markdown",
   "metadata": {},
   "source": [
    "**表示例**  \n",
    "現時点での合計は1です  \n",
    "現時点での合計は3です  \n",
    "現時点での合計は6です  \n",
    "現時点での合計は10です  \n",
    "現時点での合計は15です  \n",
    "現時点での合計は21です  \n",
    "現時点での合計は28です  \n",
    "合計は20以上です"
   ]
  },
  {
   "cell_type": "code",
   "execution_count": null,
   "metadata": {
    "collapsed": true
   },
   "outputs": [],
   "source": []
  },
  {
   "cell_type": "markdown",
   "metadata": {},
   "source": [
    "#### 問題24"
   ]
  },
  {
   "cell_type": "markdown",
   "metadata": {},
   "source": [
    "for文を使って、1+2+3+4+5+6+7を計算しなさい。計算する際は、「1」、「2」、「3」、「4」、「5」、「6」、「7」の数字を格納したリストを使って、変数`goukei`に結果が格納されるようなプログラムを組むこと。また、計算途中の数値（現時点での合計）を出力するようにすること。\n",
    "その際に計算途中で現時点での合計が10以上になれば「合計が10以上になりました」と表示させなさい。\n",
    "さらに最終的な合計が20以上であれば、「合計は20以上です」と表示させるプログラムを作成しなさい。"
   ]
  },
  {
   "cell_type": "markdown",
   "metadata": {},
   "source": [
    "**表示例**  \n",
    "現時点での合計は1です  \n",
    "現時点での合計は3です  \n",
    "現時点での合計は6です  \n",
    "現時点での合計は10です  \n",
    "合計が10以上になりました  \n",
    "現時点での合計は15です  \n",
    "合計が10以上になりました  \n",
    "現時点での合計は21です  \n",
    "合計が10以上になりました  \n",
    "現時点での合計は28です  \n",
    "合計が10以上になりました  \n",
    "合計は20以上です"
   ]
  },
  {
   "cell_type": "code",
   "execution_count": null,
   "metadata": {
    "collapsed": true
   },
   "outputs": [],
   "source": []
  },
  {
   "cell_type": "markdown",
   "metadata": {},
   "source": [
    "#### 問題25"
   ]
  },
  {
   "cell_type": "markdown",
   "metadata": {},
   "source": [
    "「5」、「3」、「1」、「6」、「2」の順番で数字を格納したリスト`lista`を作成しなさい。次にprint文のformat機能を使って「リストの先頭の要素はXです」と表示させなさい。リストの先頭のデータを参照する際には、前方からインデックス番号を指定すること。"
   ]
  },
  {
   "cell_type": "markdown",
   "metadata": {},
   "source": [
    "**表示例**  \n",
    "リストの先頭の要素は5です  "
   ]
  },
  {
   "cell_type": "code",
   "execution_count": null,
   "metadata": {
    "collapsed": true
   },
   "outputs": [],
   "source": []
  },
  {
   "cell_type": "markdown",
   "metadata": {},
   "source": [
    "#### 問題26"
   ]
  },
  {
   "cell_type": "markdown",
   "metadata": {},
   "source": [
    "「5」、「3」、「1」、「6」、「2」の順番で数字を格納したリスト`lista`を作成しなさい。\n",
    "次にfor文を使って、「0」、「1」、「2」、「3」、「4」を格納したリスト（先ほどの`lista`とは別です）を使って、ループを作成し、そのループ変数を使って、リスト`lista`の要素を一つずつ参照して、「インデックス番号がXの要素はYです」と表示（print文のformat機能を使って）するプログラムを作成しなさい。"
   ]
  },
  {
   "cell_type": "markdown",
   "metadata": {},
   "source": [
    "**表示例**  \n",
    "インデックス番号が0の要素は5です  \n",
    "インデックス番号が1の要素は3です  \n",
    "インデックス番号が2の要素は1です  \n",
    "インデックス番号が3の要素は6です  \n",
    "インデックス番号が4の要素は2です"
   ]
  },
  {
   "cell_type": "code",
   "execution_count": null,
   "metadata": {
    "collapsed": true
   },
   "outputs": [],
   "source": []
  },
  {
   "cell_type": "markdown",
   "metadata": {},
   "source": [
    "#### 問題27"
   ]
  },
  {
   "cell_type": "markdown",
   "metadata": {},
   "source": [
    "「5」、「3」、「1」、「6」、「2」の順番で数字を格納したリスト`lista`を作成しなさい。\n",
    "次にfor文を使って、「0」、「1」、「2」、「3」、「4」を格納したリスト（先ほどの`lista`とは別です）を使って、ループを作成し、そのループ変数を使って、リスト`lista`の要素を一つずつ参照して、「インデックス番号がXの要素はYです」と表示（print文のformat機能を使って）させなさい。さらに、参照したリスト`lista`の要素が偶数であれば、「偶数です」、奇数であれば「奇数です」と表示させるプログラムを作成しなさい。"
   ]
  },
  {
   "cell_type": "markdown",
   "metadata": {},
   "source": [
    "**表示例**  \n",
    "インデックス番号が0の要素は5です  \n",
    "奇数です  \n",
    "インデックス番号が1の要素は3です  \n",
    "奇数です  \n",
    "インデックス番号が2の要素は1です  \n",
    "奇数です  \n",
    "インデックス番号が3の要素は6です  \n",
    "偶数です  \n",
    "インデックス番号が4の要素は2です  \n",
    "偶数です"
   ]
  },
  {
   "cell_type": "code",
   "execution_count": null,
   "metadata": {
    "collapsed": true
   },
   "outputs": [],
   "source": []
  },
  {
   "cell_type": "markdown",
   "metadata": {},
   "source": [
    "#### 問題28"
   ]
  },
  {
   "cell_type": "markdown",
   "metadata": {},
   "source": [
    "「5」、「3」、「0」、「6」、「2」の順番で数字を格納したリスト`lista`を作成しなさい。\n",
    "次にfor文を使って、「0」、「1」、「2」、「3」、「4」を格納したリスト（先ほどの`lista`とは別です）を使って、ループを作成し、そのループ変数を使って、リスト`lista`の要素を一つずつ参照して、「インデックス番号がXの要素はYです」と表示（print文のformat機能を使って）させなさい。さらに、参照したリスト`lista`の要素が0であれば、「0です」と表示されるプログラムを作成しなさい。"
   ]
  },
  {
   "cell_type": "markdown",
   "metadata": {},
   "source": [
    "**表示例**  \n",
    "インデックス番号が0の要素は5です  \n",
    "インデックス番号が1の要素は3です  \n",
    "インデックス番号が2の要素は0です  \n",
    "0です  \n",
    "インデックス番号が3の要素は6です  \n",
    "インデックス番号が4の要素は2です  "
   ]
  },
  {
   "cell_type": "code",
   "execution_count": null,
   "metadata": {
    "collapsed": true
   },
   "outputs": [],
   "source": []
  },
  {
   "cell_type": "markdown",
   "metadata": {},
   "source": [
    "#### 問題29"
   ]
  },
  {
   "cell_type": "markdown",
   "metadata": {},
   "source": [
    "下に示すようなリスト`lista`を使ってプログラムを作成したい。\n",
    "次にfor文を使って、「0」、「1」、「2」、「3」、「4」、「5」、「6」、「7」を格納したリスト（先ほどの`lista`とは別です）を使って、ループを作成し、そのループ変数を使って、リスト`lista`の要素を一つずつ参照して、「インデックス番号がXの要素はYです」と表示（print文のformat機能を使って）させなさい。さらに、参照している際に、「要素が0」であれば「要素「0」を見つけました」と表示させること。さらに、プログラムの最後に「要素0の数」を出力させること。（`count`という変数（当然どこかで初期化が必要）を定義して、要素「0」を見つけた時に`count`という変数に1加算すると良いです）"
   ]
  },
  {
   "cell_type": "markdown",
   "metadata": {},
   "source": [
    "**表示例**  \n",
    "インデックス番号が0の要素は5です  \n",
    "インデックス番号が1の要素は3です  \n",
    "インデックス番号が2の要素は0です  \n",
    "要素「0」を見つけました  \n",
    "インデックス番号が3の要素は6です  \n",
    "インデックス番号が4の要素は2です  \n",
    "インデックス番号が5の要素は7です  \n",
    "インデックス番号が6の要素は0です  \n",
    "要素「0」を見つけました  \n",
    "インデックス番号が7の要素は2です  \n",
    "0は2個ありました。"
   ]
  },
  {
   "cell_type": "code",
   "execution_count": null,
   "metadata": {
    "collapsed": false,
    "scrolled": true
   },
   "outputs": [],
   "source": [
    "lista = [5, 3, 0, 6, 2, 7, 0, 2]"
   ]
  },
  {
   "cell_type": "markdown",
   "metadata": {},
   "source": [
    "#### 問題30"
   ]
  },
  {
   "cell_type": "markdown",
   "metadata": {},
   "source": [
    "下に示すようなリスト`lista`を使ってプログラムを作成したい。\n",
    "次にfor文を使って、「0」、「1」、「2」、「3」、「4」、「5」、「6」、「7」を格納したリスト（先ほどの`lista`とは別です）を使って、ループを作成し、そのループ変数を使って、リスト`lista`の要素を一つずつ参照して、「X番目の要素はYです」と表示（print文のformat機能を使って）させなさい（前の問題とは少し出力の仕方が違います）。さらに、参照している際に、「要素が0」であれば「要素「0」を見つけました」と表示させること。さらにプログラムの最後に「要素0の数」が1以上であれば「0が1つ以上ありました」と表示させること。（`count`という変数に「要素0の数」が記録されているはずなので、if文を使って判定する）"
   ]
  },
  {
   "cell_type": "markdown",
   "metadata": {},
   "source": [
    "**表示例**  \n",
    "1番目の要素は5です  \n",
    "2番目の要素は3です  \n",
    "3番目の要素は0です  \n",
    "要素「0」を見つけました  \n",
    "4番目の要素は6です  \n",
    "5番目の要素は2です  \n",
    "6番目の要素は7です  \n",
    "7番目の要素は0です  \n",
    "要素「0」を見つけました  \n",
    "8番目の要素は2です  \n",
    "0が1つ以上ありました"
   ]
  },
  {
   "cell_type": "code",
   "execution_count": null,
   "metadata": {
    "collapsed": false,
    "scrolled": true
   },
   "outputs": [],
   "source": [
    "lista = [5, 3, 0, 6, 2, 7, 0, 2]"
   ]
  }
 ],
 "metadata": {
  "anaconda-cloud": {},
  "kernelspec": {
   "display_name": "Python [default]",
   "language": "python",
   "name": "python3"
  },
  "language_info": {
   "codemirror_mode": {
    "name": "ipython",
    "version": 3
   },
   "file_extension": ".py",
   "mimetype": "text/x-python",
   "name": "python",
   "nbconvert_exporter": "python",
   "pygments_lexer": "ipython3",
   "version": "3.5.2"
  }
 },
 "nbformat": 4,
 "nbformat_minor": 1
}
