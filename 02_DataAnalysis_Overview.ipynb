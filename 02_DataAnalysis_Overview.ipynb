{
 "cells": [
  {
   "cell_type": "markdown",
   "metadata": {},
   "source": [
    "# 1年情報基礎 - Pythonを使ったデータ解析の概要 -"
   ]
  },
  {
   "cell_type": "markdown",
   "metadata": {},
   "source": [
    "## Pythonで出来ること\n",
    "Pythonや、Jupyter Notebookを使えば、様々な計算やデータ解析が容易に行えます。もちろん計算はどんなプログラミング言語でも出来ますが、Pythonは、計算やデータ解析のためのライブラリが豊富に用意されているので、それらのライブラリを使えば、少ない労力でプログラミングやデータ解析が行えます。\n",
    "\n",
    "また、可視化（グラフなどを作ること）のためのライブラリも多くありますので、Jupyter Notebookを使えば、コードを書きながら、同時にグラフも出力して確認することも出来ます。\n",
    "\n",
    "まずは、Pythonを使ってどのようなデータ解析ができるようになるのか、**体験**してみましょう。\n",
    "実際に、どうプログラミングすれば良いかの説明は追って行います。\n",
    "ここでは、実行して、その結果を確かめておいてください。"
   ]
  },
  {
   "cell_type": "markdown",
   "metadata": {},
   "source": [
    "## Pythonで出来ること\n",
    "Pythonや、Jupyter Notebookを使えば、様々な計算やデータ解析が容易に行えます。もちろん計算はどんなプログラミング言語でも出来ますが、Pythonは、計算やデータ解析のためのライブラリが豊富に用意されているので、それらのライブラリを使えば、少ない労力でプログラミングやデータ解析が行えます。\n",
    "\n",
    "また、可視化（グラフなどを作ること）のためのライブラリも多くありますので、Jupyter Notebookを使えば、コードを書きながら、同時にグラフも出力して確認することも出来ます。\n",
    "\n",
    "まずは、Pythonを使ってどのようなデータ解析ができるようになるのか、**体験**してみましょう。\n",
    "実際に、どうプログラミングすれば良いかの説明は追って行います。\n",
    "ここでは、実行して、その結果を確かめておいてください。"
   ]
  },
  {
   "cell_type": "markdown",
   "metadata": {},
   "source": [
    "### ライブラリの読み込み\n",
    "ライブラリとは、プログラミングでよく使われる機能をひとまとめにしたものです。\n",
    "Pythonには様々ライブラリが用意されています。これらのライブラリをうまく活用することが重要です。  \n",
    "Pythonを使う際には次のようにライブラリを読み込む命令を書きます。"
   ]
  },
  {
   "cell_type": "code",
   "execution_count": null,
   "metadata": {
    "collapsed": true
   },
   "outputs": [],
   "source": [
    "import numpy as np\n",
    "import pandas as pd\n",
    "import seaborn as sns\n",
    "sns.set()\n",
    "%matplotlib inline"
   ]
  },
  {
   "cell_type": "markdown",
   "metadata": {},
   "source": [
    "### 表形式のデータの作成\n",
    "Pythonでデータ解析などを行う際には、表形式のデータを扱うことも出来ます。（DataFrameという形式です）  \n",
    "ここでは、x,yの二方向にランダムな点が打たれたようなデータを作成しています。\n"
   ]
  },
  {
   "cell_type": "code",
   "execution_count": null,
   "metadata": {
    "collapsed": false
   },
   "outputs": [],
   "source": [
    "mean, cov = [0, 0], [(9, 4), (4, 3)]\n",
    "data = np.random.multivariate_normal(mean, cov, 100)\n",
    "df = pd.DataFrame(data, columns=[\"x\", \"y\"])\n",
    "df.head()"
   ]
  },
  {
   "cell_type": "markdown",
   "metadata": {},
   "source": [
    "このように、作成されたデータ（の一部）が表形式で表示されています。  \n",
    "次に、このデータを可視化してみましょう。"
   ]
  },
  {
   "cell_type": "code",
   "execution_count": null,
   "metadata": {
    "collapsed": false
   },
   "outputs": [],
   "source": [
    "sns.jointplot(x=\"x\", y=\"y\", data=df)"
   ]
  },
  {
   "cell_type": "markdown",
   "metadata": {},
   "source": [
    "x,yの2方向にランダムに打たれた点が可視化されました。また、x,yのどの位置にたくさん点が打たれているかを示す分布（ヒストグラム）も表示されています。"
   ]
  },
  {
   "cell_type": "markdown",
   "metadata": {},
   "source": [
    "### データセットの読み込み\n",
    "Pythonにはデータ分析の学習などに使うデータセットがライブラリとして提供されています。ここでは、irisと呼ばれるデータセットを使ってみましょう。\n",
    "irisというのは花のアヤメのことで、アヤメの花の様々な部分の形状を数値化したものです。これをプロットして解析することで、アヤメの種ごとの違いを見いだしたり、新しいアヤメを分類したりすることができます。"
   ]
  },
  {
   "cell_type": "code",
   "execution_count": null,
   "metadata": {
    "collapsed": false
   },
   "outputs": [],
   "source": [
    "iris = sns.load_dataset(\"iris\")\n",
    "sns.pairplot(iris, hue=\"species\", size=3.0)"
   ]
  },
  {
   "cell_type": "markdown",
   "metadata": {
    "collapsed": true
   },
   "source": [
    "細かいことは、ここではわからなくても良いですが、アヤメの品種（青で示されたsetosa、緑で示されたversicolor、赤で示されたvirginica）ごとに、アヤメの花の形状が違うんだな、それを図にしたんだな、と思っておいてもらえれば構いません。"
   ]
  }
 ],
 "metadata": {
  "anaconda-cloud": {},
  "kernelspec": {
   "display_name": "Python [default]",
   "language": "python",
   "name": "python3"
  },
  "language_info": {
   "codemirror_mode": {
    "name": "ipython",
    "version": 3
   },
   "file_extension": ".py",
   "mimetype": "text/x-python",
   "name": "python",
   "nbconvert_exporter": "python",
   "pygments_lexer": "ipython3",
   "version": "3.5.2"
  },
  "vscode": {
   "interpreter": {
    "hash": "c75d77398380f8fb7214b6fbeab52c1a483db45002333af0b9f9ffeb091dd95a"
   }
  }
 },
 "nbformat": 4,
 "nbformat_minor": 1
}
