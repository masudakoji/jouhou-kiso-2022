{
 "cells": [
  {
   "cell_type": "markdown",
   "metadata": {},
   "source": [
    "# 1年情報基礎 - whileを使ったループ -"
   ]
  },
  {
   "cell_type": "markdown",
   "metadata": {},
   "source": [
    "## while文とは"
   ]
  },
  {
   "cell_type": "markdown",
   "metadata": {},
   "source": [
    "ループを使った計算といえば、for文を使ったものがありました。for文では、リストやrange関数を使って、ループを作成しましたが、これは、実行する際にループの回数が決まっていました。（要素数が10のリストであれば10回ループを回す、のように）それに対して、whileを使ったループでは、**条件を満たす限りは実行し続ける**ことができます。  \n",
    "while文では、終了条件を設定することで、ループを抜けることになりますが、この設定がちゃんとできていないと、**無限ループが発生してしまうので、十分注意**が必要です。"
   ]
  },
  {
   "cell_type": "markdown",
   "metadata": {},
   "source": [
    "## ランタイムの再起動"
   ]
  },
  {
   "cell_type": "markdown",
   "metadata": {},
   "source": [
    "無限ループが発生した時のために、最初にランタイムの再起動について学んでおきます。Google Colaboratoryのメニューから**\"ランタイムの再起動\"**を実行してください。Notebookを実行する際は、上から順にセルを実行していき、実行の履歴や変数の数値などが保持されていますが、ランタイムの再起動をすると、これらが全てリセットされます。（セルに書いたプログラムはリセットされません）whileを使ったプログラムを作成していて、無限ループが発生した場合、**速やかにランタイムの再起動を実行**してください。"
   ]
  },
  {
   "cell_type": "markdown",
   "metadata": {},
   "source": [
    "## while文の使い方"
   ]
  },
  {
   "cell_type": "markdown",
   "metadata": {},
   "source": [
    "![](images/Control_Flow_WhileLoops/ss1.png)"
   ]
  },
  {
   "cell_type": "markdown",
   "metadata": {},
   "source": [
    "whileの後にある `goukei < 10` が実行のための条件文です。この条件が満たされている間は実行され続けます。条件分岐の時にも説明しましたが、条件文の実態は論理型の変数（`True`か`False`の2種類の値しかとらない変数）です。while文では**\"条件文がTrueである間\"はプログラムが繰り返し実行**され続けます。"
   ]
  },
  {
   "cell_type": "markdown",
   "metadata": {},
   "source": [
    "ここで`goukei += 1`という記述がありますが、これは「`goukei`という変数に1を加える」という意味です。`goukei = goukei + 1`と同じ意味になります。`goukei += 2`だと`goukei = goukei + 2`と同等です。同様に、`-=`（引き算）、`*=`（掛け算）、`/=`（割り算）という演算子もあります。"
   ]
  },
  {
   "cell_type": "markdown",
   "metadata": {},
   "source": [
    "例えば、次のような例では、プログラムは一度も実行されません。"
   ]
  },
  {
   "cell_type": "code",
   "execution_count": null,
   "metadata": {
    "collapsed": true
   },
   "outputs": [],
   "source": [
    "while False:\n",
    "    print(\"一度も実行されることはない\")"
   ]
  },
  {
   "cell_type": "markdown",
   "metadata": {},
   "source": [
    "それに対して、次のようなプログラムでは、`while`の後が`True`であり、それ以外の終了の条件も設定されていないので、**無限ループ**となっています。うっかり実行しないように、画像で掲載しています。"
   ]
  },
  {
   "cell_type": "markdown",
   "metadata": {},
   "source": [
    "![](images/Control_Flow_WhileLoops/ss2.png)"
   ]
  },
  {
   "cell_type": "markdown",
   "metadata": {},
   "source": [
    "では、whileを使ったプログラムの例を作成してみましょう。"
   ]
  },
  {
   "cell_type": "code",
   "execution_count": null,
   "metadata": {
    "collapsed": true
   },
   "outputs": [],
   "source": [
    "goukei = 0\n",
    "while goukei < 10:\n",
    "    print(\"合計は{}です。1を加えます。\".format(goukei))\n",
    "    goukei += 1"
   ]
  },
  {
   "cell_type": "markdown",
   "metadata": {},
   "source": [
    "このプログラムでは`goukei`という変数に1を足していきます。条件文として、`goukei < 10`と書かれているので、geikeiが10未満である間は実行されます。\n",
    "では、どのタイミングで条件文の判定がされるのか確かめてみましょう。"
   ]
  },
  {
   "cell_type": "code",
   "execution_count": null,
   "metadata": {
    "collapsed": true
   },
   "outputs": [],
   "source": [
    "goukei = 0\n",
    "while goukei < 5:\n",
    "    print(\"合計は{}です。\".format(goukei))\n",
    "    goukei += 1\n",
    "    print(\"  1を加えて{}になりました。\".format(goukei))"
   ]
  },
  {
   "cell_type": "markdown",
   "metadata": {},
   "source": [
    "ループ1周目は、最初は\"0\"でしたが、1を加えて\"1\"になりました。ループ5周目は、最初は\"4\"でしたが、1を加えて\"5\"になりました。その次のループ（6周目）に入ろうとした時に、条件判定が行われて、`goukei < 5`の条件を満たしていない（この時`goukei`は5）ので、6周目は実行されませんでした。"
   ]
  },
  {
   "cell_type": "markdown",
   "metadata": {},
   "source": [
    "## continue文とbreak文"
   ]
  },
  {
   "cell_type": "markdown",
   "metadata": {},
   "source": [
    "whileを使うプログラムでしばしば使われる機能として、continue文とbreak文があります。どちらもループが中断されますが、中断のされ方（どの場所にジャンプするか）が異なります。"
   ]
  },
  {
   "cell_type": "markdown",
   "metadata": {},
   "source": [
    "### continue文"
   ]
  },
  {
   "cell_type": "markdown",
   "metadata": {
    "collapsed": true
   },
   "source": [
    "<img src=\"images/Control_Flow_WhileLoops/ss3.png\" width=\"60%\">"
   ]
  },
  {
   "cell_type": "markdown",
   "metadata": {},
   "source": [
    "ループ中にcontinue文があると、現在ループが中断します。ただ、現在のループが中断されるだけで、その次のループは実行されます。例を見てみましょう。"
   ]
  },
  {
   "cell_type": "markdown",
   "metadata": {},
   "source": [
    "まずはconinueが無いサンプルです。"
   ]
  },
  {
   "cell_type": "code",
   "execution_count": null,
   "metadata": {
    "collapsed": true
   },
   "outputs": [],
   "source": [
    "number = 0\n",
    "while number < 5:\n",
    "    number += 1\n",
    "    print(\"変数numberは{}です。\".format(number))"
   ]
  },
  {
   "cell_type": "markdown",
   "metadata": {},
   "source": [
    "continue文を入れてみます"
   ]
  },
  {
   "cell_type": "code",
   "execution_count": null,
   "metadata": {
    "collapsed": true
   },
   "outputs": [],
   "source": [
    "number = 0\n",
    "while number < 5:\n",
    "    number += 1\n",
    "    if number == 3:\n",
    "        continue\n",
    "    print(\"変数numberは{}です。\".format(number))"
   ]
  },
  {
   "cell_type": "markdown",
   "metadata": {},
   "source": [
    "numberが3の時はループが途中で中断されます。そのため、「変数numberは3です。」が表示されていません。ただ、その後のループ（number=4,5）は実行されています。"
   ]
  },
  {
   "cell_type": "markdown",
   "metadata": {},
   "source": [
    "動作を図解すると次のとおりです。"
   ]
  },
  {
   "cell_type": "markdown",
   "metadata": {},
   "source": [
    "![](images/Control_Flow_WhileLoops/ss5.png)"
   ]
  },
  {
   "cell_type": "markdown",
   "metadata": {},
   "source": [
    "for文でも同様に使えます。"
   ]
  },
  {
   "cell_type": "code",
   "execution_count": null,
   "metadata": {
    "collapsed": true
   },
   "outputs": [],
   "source": [
    "number = 0\n",
    "for number in range(1,6):\n",
    "    if number == 3:\n",
    "        continue\n",
    "    print(\"変数numberは{}です。\".format(number))"
   ]
  },
  {
   "cell_type": "markdown",
   "metadata": {
    "collapsed": true
   },
   "source": [
    "### break文"
   ]
  },
  {
   "cell_type": "markdown",
   "metadata": {
    "collapsed": true
   },
   "source": [
    "<img src=\"images/Control_Flow_WhileLoops/ss4.png\" width=\"60%\">"
   ]
  },
  {
   "cell_type": "markdown",
   "metadata": {
    "collapsed": true
   },
   "source": [
    "break文でも同様にループ処理が中断されますが、中断した後のジャンプ先が異なります。continue文では、現在のループは中断するものの、その次のループは実行されましたが、break文ではループそのものが終了します。"
   ]
  },
  {
   "cell_type": "markdown",
   "metadata": {},
   "source": [
    "まずはconinueが無いサンプルです。continue文のものと全く同じです。"
   ]
  },
  {
   "cell_type": "code",
   "execution_count": null,
   "metadata": {
    "collapsed": true
   },
   "outputs": [],
   "source": [
    "number = 0\n",
    "while number < 5:\n",
    "    number += 1\n",
    "    print(\"変数numberは{}です。\".format(number))"
   ]
  },
  {
   "cell_type": "markdown",
   "metadata": {},
   "source": [
    "break文を入れてみます"
   ]
  },
  {
   "cell_type": "code",
   "execution_count": null,
   "metadata": {
    "collapsed": true
   },
   "outputs": [],
   "source": [
    "number = 0\n",
    "while number < 5:\n",
    "    number += 1\n",
    "    if number == 3:\n",
    "        break\n",
    "    print(\"変数numberは{}です。\".format(number))"
   ]
  },
  {
   "cell_type": "markdown",
   "metadata": {},
   "source": [
    "numberが3の時にbreak文が実行されます。この時ループそのものが終了するので、「変数numberは3です。」だけではなく、「変数numberは4です。」、「変数numberは5です。」なども実行されません。"
   ]
  },
  {
   "cell_type": "markdown",
   "metadata": {
    "collapsed": true
   },
   "source": [
    "動作を図解すると次のとおりです。"
   ]
  },
  {
   "cell_type": "markdown",
   "metadata": {},
   "source": [
    "![](images/Control_Flow_WhileLoops/ss6.png)"
   ]
  },
  {
   "cell_type": "markdown",
   "metadata": {},
   "source": [
    "for文でも同様に使えます。"
   ]
  },
  {
   "cell_type": "code",
   "execution_count": null,
   "metadata": {
    "collapsed": true
   },
   "outputs": [],
   "source": [
    "number = 0\n",
    "for number in range(1,6):\n",
    "    if number == 3:\n",
    "        break\n",
    "    print(\"変数numberは{}です。\".format(number))"
   ]
  },
  {
   "cell_type": "markdown",
   "metadata": {},
   "source": [
    "### continue, break文を使う際の注意点"
   ]
  },
  {
   "cell_type": "markdown",
   "metadata": {},
   "source": [
    "continue、break文は、繰り返し回数が未定な時に使われることが多く、`while True:`で始まる無限ループとセットで使われることもよくあります。この場合、終了条件をちゃんと検討して定義しておかないと、無限ループが発生してしまいます。条件に漏れがないか十分に検討するようにしましょう。"
   ]
  },
  {
   "cell_type": "markdown",
   "metadata": {},
   "source": [
    "### 演習"
   ]
  },
  {
   "cell_type": "markdown",
   "metadata": {},
   "source": [
    "#### 例題"
   ]
  },
  {
   "cell_type": "markdown",
   "metadata": {},
   "source": [
    "まず、変数`goukei`を0で初期化した後、「goukeiが5以下」である場合に実行され続けるwhile文を書きなさい。while文の中で、`goukei`には毎回1が加算されるとする。"
   ]
  },
  {
   "cell_type": "markdown",
   "metadata": {},
   "source": [
    "**出力**  \n",
    "合計は1です。  \n",
    "合計は2です。  \n",
    "合計は3です。  \n",
    "合計は4です。  \n",
    "合計は5です。  \n",
    "合計は6です。"
   ]
  },
  {
   "cell_type": "code",
   "execution_count": null,
   "metadata": {
    "collapsed": true
   },
   "outputs": [],
   "source": [
    "goukei = 0\n",
    "while goukei <= 5:\n",
    "    goukei += 1\n",
    "    print(\"合計は{}です。\".format(goukei))"
   ]
  },
  {
   "cell_type": "markdown",
   "metadata": {},
   "source": [
    "goukeiが5以下であれば処理が行われるので、最後の`goukei`は6になっていることに注意。"
   ]
  },
  {
   "cell_type": "markdown",
   "metadata": {},
   "source": [
    "#### 問題1"
   ]
  },
  {
   "cell_type": "markdown",
   "metadata": {},
   "source": [
    "変数`number`を初期値0で初期化しなさい。その後while文を用いて、毎ループごとに変数`number`を2づつ加算しなさい。\n",
    "なお、ループは「`number`が10以下」の場合に実行されるように定義すること。\n",
    "ループの中では、`number`の加算後に「数値は2になりました。」のように表示させること。"
   ]
  },
  {
   "cell_type": "markdown",
   "metadata": {},
   "source": [
    "**出力**      \n",
    "数値は2になりました。  \n",
    "数値は4になりました。  \n",
    "数値は6になりました。  \n",
    "数値は8になりました。  \n",
    "数値は10になりました。  \n",
    "数値は12になりました。  "
   ]
  },
  {
   "cell_type": "code",
   "execution_count": null,
   "metadata": {
    "collapsed": true
   },
   "outputs": [],
   "source": []
  },
  {
   "cell_type": "markdown",
   "metadata": {},
   "source": [
    "#### 問題2"
   ]
  },
  {
   "cell_type": "markdown",
   "metadata": {},
   "source": [
    "変数`number`を初期値20で初期化しなさい。その後while文を用いて、毎ループごとに変数`number`を2づつ減算しなさい。\n",
    "なお、ループは「`number`が0以上」の場合に実行されるように定義すること。\n",
    "ループの中では、`number`の減算後に「数値は18になりました。」のように表示させること。"
   ]
  },
  {
   "cell_type": "markdown",
   "metadata": {},
   "source": [
    "**出力**    \n",
    "数値は18になりました。  \n",
    "数値は16になりました。  \n",
    "数値は14になりました。  \n",
    "数値は12になりました。  \n",
    "数値は10になりました。  \n",
    "数値は8になりました。  \n",
    "数値は6になりました。  \n",
    "数値は4になりました。  \n",
    "数値は2になりました。  \n",
    "数値は0になりました。  "
   ]
  },
  {
   "cell_type": "code",
   "execution_count": null,
   "metadata": {
    "collapsed": true
   },
   "outputs": [],
   "source": []
  },
  {
   "cell_type": "markdown",
   "metadata": {},
   "source": [
    "#### 問題3"
   ]
  },
  {
   "cell_type": "markdown",
   "metadata": {},
   "source": [
    "変数`number`を初期値5で初期化しなさい。その後while文を用いて、毎ループごとに変数`number`を1づつ減算しなさい。\n",
    "ループは「`number`が-4より大きい」の場合に実行されるように定義すること。\n",
    "ループの中では、`number`の減算直後に「数値は4になりました。」のように表示させること。\n",
    "また、`number`が0に等しい時にはcontinue文が実行されるようにすること。\n",
    "さらに、ループの最後では、  \n",
    "1/XXX=YYY  \n",
    "のようにformat文を使って表示させること。\n",
    "なお、XXXは「numberの値」、YYYは「1/number」（1割るnumber）とする。"
   ]
  },
  {
   "cell_type": "markdown",
   "metadata": {},
   "source": [
    "**出力**    \n",
    "数値は4になりました。  \n",
    "1/4=0.25  \n",
    "数値は3になりました。  \n",
    "1/3=0.3333333333333333  \n",
    "数値は2になりました。  \n",
    "1/2=0.5  \n",
    "数値は1になりました。  \n",
    "1/1=1.0  \n",
    "数値は0になりました。  \n",
    "数値は-1になりました。  \n",
    "1/-1=-1.0  \n",
    "数値は-2になりました。  \n",
    "1/-2=-0.5  \n",
    "数値は-3になりました。  \n",
    "1/-3=-0.3333333333333333  \n",
    "数値は-4になりました。  \n",
    "1/-4=-0.25"
   ]
  },
  {
   "cell_type": "code",
   "execution_count": null,
   "metadata": {
    "collapsed": true
   },
   "outputs": [],
   "source": []
  },
  {
   "cell_type": "markdown",
   "metadata": {},
   "source": [
    "#### 問題4"
   ]
  },
  {
   "cell_type": "markdown",
   "metadata": {},
   "source": [
    "変数`number`を初期値20で初期化しなさい。その後while文を用いて、毎ループごとに変数`number`を2づつ減算しなさい。\n",
    "whileは`while True:`で始まる無限ループで定義し、`number`が0に等しくなった時にbreak文を使ってループを終了させること。\n",
    "ループの中では、`number`の減算直後に「数値は18になりました。」のように表示させること。"
   ]
  },
  {
   "cell_type": "markdown",
   "metadata": {},
   "source": [
    "**出力**    \n",
    "数値は18になりました。  \n",
    "数値は16になりました。  \n",
    "数値は14になりました。  \n",
    "数値は12になりました。  \n",
    "数値は10になりました。  \n",
    "数値は8になりました。  \n",
    "数値は6になりました。  \n",
    "数値は4になりました。  \n",
    "数値は2になりました。  \n",
    "数値は0になりました。"
   ]
  },
  {
   "cell_type": "code",
   "execution_count": null,
   "metadata": {
    "collapsed": true
   },
   "outputs": [],
   "source": []
  },
  {
   "cell_type": "code",
   "execution_count": null,
   "metadata": {
    "collapsed": true
   },
   "outputs": [],
   "source": []
  }
 ],
 "metadata": {
  "@webio": {
   "lastCommId": null,
   "lastKernelId": null
  },
  "anaconda-cloud": {},
  "kernelspec": {
   "display_name": "Python 3",
   "language": "python",
   "name": "python3"
  },
  "language_info": {
   "codemirror_mode": {
    "name": "ipython",
    "version": 3
   },
   "file_extension": ".py",
   "mimetype": "text/x-python",
   "name": "python",
   "nbconvert_exporter": "python",
   "pygments_lexer": "ipython3",
   "version": "3.6.1"
  }
 },
 "nbformat": 4,
 "nbformat_minor": 1
}
