{
 "cells": [
  {
   "cell_type": "markdown",
   "metadata": {},
   "source": [
    "# 1年情報基礎 - リスト -"
   ]
  },
  {
   "cell_type": "markdown",
   "metadata": {},
   "source": [
    "## リスト\n",
    "\"Python ・Jupyter Notebook入門\"の講義の際に「変数」の説明をしました。変数では一つのデータしか扱えない（一つの変数には一つのデータを記録する）ですが、リストや配列と呼ばれる機能を使うと、複数のデータをひとまとめにして扱うことが出来ます。"
   ]
  },
  {
   "cell_type": "markdown",
   "metadata": {},
   "source": [
    "リスト(list)は角括弧(square brackets)を使って書きます。リストの中に入っているそれぞれのデータは“要素”と言います。要素はカンマで区切ります。"
   ]
  },
  {
   "cell_type": "markdown",
   "metadata": {},
   "source": [
    "![代替テキスト](https://raw.githubusercontent.com/masudakoji/jouhou-kiso-2022/main/images/List_Array/ss1.png)"
   ]
  },
  {
   "cell_type": "markdown",
   "metadata": {},
   "source": [
    "### リストの作成"
   ]
  },
  {
   "cell_type": "markdown",
   "metadata": {},
   "source": [
    "早速リストを作ってみましょう。"
   ]
  },
  {
   "cell_type": "code",
   "execution_count": null,
   "metadata": {
    "collapsed": true
   },
   "outputs": [],
   "source": [
    "a = [3, 4, 5, 6]"
   ]
  },
  {
   "cell_type": "markdown",
   "metadata": {},
   "source": [
    "変数の時と同様に中身を表示することもできます。"
   ]
  },
  {
   "cell_type": "code",
   "execution_count": null,
   "metadata": {
    "collapsed": false
   },
   "outputs": [],
   "source": [
    "a"
   ]
  },
  {
   "cell_type": "markdown",
   "metadata": {},
   "source": [
    "4つのデータ（整数型）が一つのオブジェクト（リスト）の中に格納されています。このリストは同じ型（整数型）のデータしか持っていませんが、リストには異なるデータ型のデータを含めることができます。"
   ]
  },
  {
   "cell_type": "code",
   "execution_count": null,
   "metadata": {
    "collapsed": true
   },
   "outputs": [],
   "source": [
    "a=[1, 2, 3, 2.3, \"aa\", True, False]"
   ]
  },
  {
   "cell_type": "markdown",
   "metadata": {},
   "source": [
    "整数型、実数型、文字列型、論理型などの異なる型を持つデータを一つのリストの中に収納しています。"
   ]
  },
  {
   "cell_type": "code",
   "execution_count": null,
   "metadata": {
    "collapsed": false
   },
   "outputs": [],
   "source": [
    "a"
   ]
  },
  {
   "cell_type": "markdown",
   "metadata": {},
   "source": [
    "リストの中に変数を含めることもできます。"
   ]
  },
  {
   "cell_type": "code",
   "execution_count": null,
   "metadata": {
    "collapsed": true
   },
   "outputs": [],
   "source": [
    "a = 5\n",
    "b = 2\n",
    "c = 4\n",
    "d = [a, b, c]"
   ]
  },
  {
   "cell_type": "markdown",
   "metadata": {},
   "source": [
    "変数`a`, `b`, `c`をリスト`d`の中に含めています。リスト`d`を出力してみましょう"
   ]
  },
  {
   "cell_type": "code",
   "execution_count": null,
   "metadata": {
    "collapsed": false
   },
   "outputs": [],
   "source": [
    "d"
   ]
  },
  {
   "cell_type": "markdown",
   "metadata": {},
   "source": [
    "### リスト内のデータの取り出し"
   ]
  },
  {
   "cell_type": "markdown",
   "metadata": {},
   "source": [
    "\n",
    "\n",
    "\n",
    "\n",
    "リストの中に格納されたデータを取り出す時には以下のように行います。"
   ]
  },
  {
   "cell_type": "code",
   "execution_count": null,
   "metadata": {
    "collapsed": false
   },
   "outputs": [],
   "source": [
    "a = [3, 4, 5, 6]\n",
    "print(a[0])\n",
    "print(a[1])\n",
    "print(a[2])\n",
    "print(a[3])"
   ]
  },
  {
   "cell_type": "markdown",
   "metadata": {},
   "source": [
    "リスト`a`の中に含まれているデータを一つずつ取り出して、print文で出力しています。  \n",
    "このように、`a[番号]`のようにすれば、リストの中のデータを取り出せます。番号は0から始まっていることに注意してください。  \n",
    "一番初めのデータ（1番目のデータ）は`a[0]`その次のデータ（2番目のデータ）は`a[1]`で取り出せます。"
   ]
  },
  {
   "cell_type": "markdown",
   "metadata": {},
   "source": [
    "また、リストの後方から数えてデータを取り出すこともできます。その場合`a[番号]`の番号に負の値を入力します。"
   ]
  },
  {
   "cell_type": "code",
   "execution_count": null,
   "metadata": {
    "collapsed": false
   },
   "outputs": [],
   "source": [
    "a = [3, 4, 5, 6]\n",
    "print(a[-1])\n",
    "print(a[-2])\n",
    "print(a[-3])\n",
    "print(a[-4])"
   ]
  },
  {
   "cell_type": "markdown",
   "metadata": {},
   "source": [
    "一番後ろのデータは`a[-1]`その前のデータは`a[-2]`で取り出しています。"
   ]
  },
  {
   "cell_type": "markdown",
   "metadata": {},
   "source": [
    "a = [3, 4, 5, 6]\n",
    "というリストが与えられた時の、データの取り出し方をまとめると次のようになります。\n",
    "\n",
    "|リストa内のデータ|3|4|5|6|\n",
    "|:--:|:--:|:--:|:--:|:--:|\n",
    "|データの取り出し（前方から）|`a[0]`|`a[1]`|`a[2]`|`a[3]`|\n",
    "|データの取り出し（後方から）|`a[-4]`|`a[-3]`|`a[-2]`|`a[-1]`|"
   ]
  },
  {
   "cell_type": "markdown",
   "metadata": {},
   "source": [
    "このようなデータの取り出しを使って、リスト内のデータを更新することもできます。"
   ]
  },
  {
   "cell_type": "code",
   "execution_count": null,
   "metadata": {
    "collapsed": false
   },
   "outputs": [],
   "source": [
    "a = [3, 4, 5, 6]\n",
    "a[1] = 7\n",
    "a"
   ]
  },
  {
   "cell_type": "markdown",
   "metadata": {},
   "source": [
    "`a[1]`はリスト`a`の2番目のデータを意味していますが、そこに7を代入することで、リスト`a`が更新されています。"
   ]
  },
  {
   "cell_type": "markdown",
   "metadata": {},
   "source": [
    "### リストの一部を抽出"
   ]
  },
  {
   "cell_type": "markdown",
   "metadata": {},
   "source": [
    "先ほどは、リスト内のデータを一つ取り出しましたが、リストのうち複数のデータを抽出することもできます。"
   ]
  },
  {
   "cell_type": "code",
   "execution_count": null,
   "metadata": {
    "collapsed": false
   },
   "outputs": [],
   "source": [
    "a = [3, 4, 5, 6, 7, 8]\n",
    "a[1:4]"
   ]
  },
  {
   "cell_type": "markdown",
   "metadata": {},
   "source": [
    "リストの一部が抽出されました。抽出されたこのデータもリストとして抽出されています。このように、  \n",
    "`a[先頭番号:終了番号]`  \n",
    "を与えると、リストの一部が抽出できます。先頭番号によって指定されるデータから始まって、終了番号によって指定されるものの**一つ手前までの**データが抽出されます。  \n",
    "今回でいうと、`a[1:4]`が指定されていますので、先頭番号は「1」、終了番号は「4」です。  \n",
    "`a[1]`で示されるのは4です。`a[4]`は7ですが、この方法で抽出されるのは**一つ手前のデータ**までです。`a[3]`は6ですので、そこまでが抽出範囲です。  \n",
    "よって、`a[1:4]`で抽出されるのは,`[4, 5, 6]`となります。"
   ]
  },
  {
   "cell_type": "markdown",
   "metadata": {},
   "source": [
    "### 演習"
   ]
  },
  {
   "cell_type": "markdown",
   "metadata": {},
   "source": [
    "#### 例題\n",
    "データが「6」,「1」,「3」,「4」,「2」,「0」,「9」の順番で格納されているリストを作成しなさい。作成するリストの名前はaとする。下のセルに入力すること。"
   ]
  },
  {
   "cell_type": "code",
   "execution_count": null,
   "metadata": {
    "collapsed": true
   },
   "outputs": [],
   "source": [
    "a = [6, 1, 3, 4, 2, 0, 9]"
   ]
  },
  {
   "cell_type": "markdown",
   "metadata": {},
   "source": [
    "#### 問1\n",
    "データが「5」,「2」,「4」,「13」,「3.2」,「9.1」の順番で格納されているリストを作成しなさい。作成するリストの名前はaとする。下のセルに入力すること。"
   ]
  },
  {
   "cell_type": "code",
   "execution_count": null,
   "metadata": {
    "collapsed": true
   },
   "outputs": [],
   "source": []
  },
  {
   "cell_type": "markdown",
   "metadata": {},
   "source": [
    "#### 問2\n",
    "データが「6」,「2」,「Lemon」,「Apple」,「1.2」,「Grape」の順番で格納されているリストを作成しなさい。作成するリストの名前はbとする。下のセルに入力すること。（ヒント：Lemon、Apple、Grapeは文字列型のデータとして格納します。）"
   ]
  },
  {
   "cell_type": "code",
   "execution_count": null,
   "metadata": {
    "collapsed": true
   },
   "outputs": [],
   "source": []
  },
  {
   "cell_type": "markdown",
   "metadata": {},
   "source": [
    "#### 問3"
   ]
  },
  {
   "cell_type": "code",
   "execution_count": null,
   "metadata": {
    "collapsed": true
   },
   "outputs": [],
   "source": [
    "lst = [5, 6, 7, 8]  "
   ]
  },
  {
   "cell_type": "markdown",
   "metadata": {},
   "source": [
    "上のようにリストが作成された。\n",
    "「5」のデータを取り出して変数`c`に代入しなさい（前から数える）"
   ]
  },
  {
   "cell_type": "code",
   "execution_count": null,
   "metadata": {
    "collapsed": true
   },
   "outputs": [],
   "source": []
  },
  {
   "cell_type": "markdown",
   "metadata": {},
   "source": [
    "#### 問4"
   ]
  },
  {
   "cell_type": "code",
   "execution_count": null,
   "metadata": {
    "collapsed": true
   },
   "outputs": [],
   "source": [
    "lst = [5, 6, 7, 8]  "
   ]
  },
  {
   "cell_type": "markdown",
   "metadata": {},
   "source": [
    "上のようにリストが作成された。「7」のデータを取り出して変数`d`に代入しなさい（前から数える）"
   ]
  },
  {
   "cell_type": "code",
   "execution_count": null,
   "metadata": {
    "collapsed": true
   },
   "outputs": [],
   "source": []
  },
  {
   "cell_type": "markdown",
   "metadata": {},
   "source": [
    "#### 問5"
   ]
  },
  {
   "cell_type": "code",
   "execution_count": null,
   "metadata": {
    "collapsed": true
   },
   "outputs": [],
   "source": [
    "lst = [5, 6, 7, 8]  "
   ]
  },
  {
   "cell_type": "markdown",
   "metadata": {},
   "source": [
    "上のようにリストが作成された。\n",
    "「8」のデータを取り出して変数`e`に代入しなさい（後ろから数える）"
   ]
  },
  {
   "cell_type": "code",
   "execution_count": null,
   "metadata": {
    "collapsed": true
   },
   "outputs": [],
   "source": []
  },
  {
   "cell_type": "markdown",
   "metadata": {},
   "source": [
    "#### 問6"
   ]
  },
  {
   "cell_type": "code",
   "execution_count": null,
   "metadata": {
    "collapsed": true
   },
   "outputs": [],
   "source": [
    "lst = [5, 6, 7, 8]  "
   ]
  },
  {
   "cell_type": "markdown",
   "metadata": {},
   "source": [
    "上のようにリストが作成された。「7」のデータを取り出して変数`f`に代入しなさい（後ろから数える）"
   ]
  },
  {
   "cell_type": "code",
   "execution_count": null,
   "metadata": {
    "collapsed": true
   },
   "outputs": [],
   "source": []
  },
  {
   "cell_type": "markdown",
   "metadata": {},
   "source": [
    "#### 問7"
   ]
  },
  {
   "cell_type": "code",
   "execution_count": null,
   "metadata": {
    "collapsed": true
   },
   "outputs": [],
   "source": [
    "lst = [3, 4, 5, 6, 7, 8]"
   ]
  },
  {
   "cell_type": "markdown",
   "metadata": {},
   "source": [
    "上のようにリストが作成された。「4, 5」のデータを取り出してリスト`g`に代入しなさい。"
   ]
  },
  {
   "cell_type": "code",
   "execution_count": null,
   "metadata": {
    "collapsed": true
   },
   "outputs": [],
   "source": []
  },
  {
   "cell_type": "markdown",
   "metadata": {},
   "source": [
    "#### 問8"
   ]
  },
  {
   "cell_type": "code",
   "execution_count": null,
   "metadata": {
    "collapsed": true
   },
   "outputs": [],
   "source": [
    "lst = [3, 4, 5, 6, 7, 8]"
   ]
  },
  {
   "cell_type": "markdown",
   "metadata": {},
   "source": [
    "上のようにリストが作成された。「6, 7」のデータを取り出してリスト`h`に代入しなさい。ただし、先頭番号は前から数えて、終了番号は’後ろから数えること。"
   ]
  },
  {
   "cell_type": "code",
   "execution_count": null,
   "metadata": {
    "collapsed": true
   },
   "outputs": [],
   "source": []
  }
 ],
 "metadata": {
  "anaconda-cloud": {},
  "kernelspec": {
   "display_name": "Python [default]",
   "language": "python",
   "name": "python3"
  },
  "language_info": {
   "codemirror_mode": {
    "name": "ipython",
    "version": 3
   },
   "file_extension": ".py",
   "mimetype": "text/x-python",
   "name": "python",
   "nbconvert_exporter": "python",
   "pygments_lexer": "ipython3",
   "version": "3.5.2"
  },
  "vscode": {
   "interpreter": {
    "hash": "c75d77398380f8fb7214b6fbeab52c1a483db45002333af0b9f9ffeb091dd95a"
   }
  }
 },
 "nbformat": 4,
 "nbformat_minor": 1
}
