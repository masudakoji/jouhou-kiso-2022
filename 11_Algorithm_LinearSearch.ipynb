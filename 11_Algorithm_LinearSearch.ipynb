{
 "cells": [
  {
   "cell_type": "markdown",
   "metadata": {},
   "source": [
    "# 1年情報基礎 - アルゴリズム - "
   ]
  },
  {
   "cell_type": "markdown",
   "metadata": {},
   "source": [
    "アルゴリズムとは、ある特定の問題を解くための計算手順のことを言います。データ解析で様々な課題に取り組む際は、その課題を細分化して、解決を目指します。細分化するときには既存のアルゴリズムを活用できるように細分化できると、より効率的にプログラミングができます。\n",
    "ここでは、いくつかの有名なアルゴリズムを紹介します。"
   ]
  },
  {
   "cell_type": "markdown",
   "metadata": {},
   "source": [
    "## 線形探索（linear search）"
   ]
  },
  {
   "cell_type": "markdown",
   "metadata": {},
   "source": [
    "「探索」という名前の通り、探したいデータを探索するアルゴリズムです。線形探索では、リストの先頭から順番にたどっていき、探索値（探したい値）と比較することで、探索します。"
   ]
  },
  {
   "cell_type": "markdown",
   "metadata": {},
   "source": [
    "線形探索のアルゴリズムは次のようになります。"
   ]
  },
  {
   "cell_type": "markdown",
   "metadata": {},
   "source": [
    "<img src=\"https://raw.githubusercontent.com/masudakoji/jouhou-kiso-2022/main/images/Algorithm_LinearSearch/ss1.png\" width=\"60%\">"
   ]
  },
  {
   "cell_type": "markdown",
   "metadata": {},
   "source": [
    "リストの要素と探索値を順番に比較していることがわかります。"
   ]
  },
  {
   "cell_type": "markdown",
   "metadata": {},
   "source": [
    "### 問題定義"
   ]
  },
  {
   "cell_type": "markdown",
   "metadata": {},
   "source": [
    "今回は次のような問題を考えることとしましょう。"
   ]
  },
  {
   "cell_type": "code",
   "execution_count": null,
   "metadata": {
    "collapsed": true
   },
   "outputs": [],
   "source": [
    "lista = [4, 5, 1, -2, 7, 9, -4, 0, 7, 1, 3]\n",
    "target = 7"
   ]
  },
  {
   "cell_type": "markdown",
   "metadata": {},
   "source": [
    "listaが、探索対象のリスト、targetが探索値です。"
   ]
  },
  {
   "cell_type": "markdown",
   "metadata": {},
   "source": [
    "### 存在だけを確認したい場合"
   ]
  },
  {
   "cell_type": "markdown",
   "metadata": {},
   "source": [
    "for文を使えば、リストに含まれる要素を先頭からたどっていけます。"
   ]
  },
  {
   "cell_type": "code",
   "execution_count": null,
   "metadata": {},
   "outputs": [],
   "source": [
    "for item in lista:\n",
    "    if item == target:\n",
    "        print(\"探索値{}が存在しています\".format(target))"
   ]
  },
  {
   "cell_type": "markdown",
   "metadata": {},
   "source": [
    "for文を使うことで`lista`の要素が、ループを回すごとに順番に`item`に収納されていきます。  \n",
    "1周目のループでは`item`に4が収納され、  \n",
    "2周目のループでは`item`に5が収納され、  \n",
    "3周目のループでは`item`に1が収納され、  \n",
    "となります。そして、`item`と探索値`target`を比較し、一致していれば（探索値を発見すれば）出力していることがわかります。"
   ]
  },
  {
   "cell_type": "markdown",
   "metadata": {},
   "source": [
    "なお、printでf-文字列機能を使うと次のようにも書けます。"
   ]
  },
  {
   "cell_type": "code",
   "execution_count": null,
   "metadata": {},
   "outputs": [],
   "source": [
    "for item in lista:\n",
    "    if item == target:\n",
    "        print(f\"探索値{target}が存在しています\")"
   ]
  },
  {
   "cell_type": "markdown",
   "metadata": {},
   "source": [
    "### インデックス番号を得たい場合"
   ]
  },
  {
   "cell_type": "markdown",
   "metadata": {},
   "source": [
    "線形探索では、リストのインデックス番号を返すのが一般的です。この場合、調べたいリストと同じ長さで、[0, 1, 2, 3]のように0から始まるリストを作成し、順番にたどっていけばよいです。"
   ]
  },
  {
   "cell_type": "markdown",
   "metadata": {},
   "source": [
    "リストの長さはlen()関数を使えば得られます。  \n",
    "[0, 1, 2, 3]のように0から始まるリストはrange()関数を使えば得られます。  \n",
    "これを利用すると次のように書けます。"
   ]
  },
  {
   "cell_type": "code",
   "execution_count": null,
   "metadata": {},
   "outputs": [],
   "source": [
    "for idx in range(len(lista)):\n",
    "    if lista[idx] == target:\n",
    "        print(f\"インデックス{idx}に探索値{target}が存在しています\")"
   ]
  },
  {
   "cell_type": "markdown",
   "metadata": {},
   "source": [
    "### インデックス番号を得たい場合（enumerateを使う）"
   ]
  },
  {
   "cell_type": "markdown",
   "metadata": {},
   "source": [
    "len()、range()を使う方法以外に、enumerate()を使う方法もあります。"
   ]
  },
  {
   "cell_type": "markdown",
   "metadata": {},
   "source": [
    "enumerate()の括弧の中にリストを代入し、for文を書くと、インデックス番号と要素を同時に得られることを利用すると次のように書けます。"
   ]
  },
  {
   "cell_type": "code",
   "execution_count": null,
   "metadata": {},
   "outputs": [],
   "source": [
    "for idx, item in enumerate(lista):\n",
    "    if item == target:\n",
    "        print(f\"インデックス{idx}に探索値{target}が存在しています\")"
   ]
  },
  {
   "cell_type": "markdown",
   "metadata": {},
   "source": [
    "インデックス番号が`idx`に、要素が`item`に収納されていくので、毎ループごとに、要素`item`と探索値`target`を比較しています。"
   ]
  },
  {
   "cell_type": "markdown",
   "metadata": {},
   "source": [
    "### 探索値を見つけた時点で終了したい場合"
   ]
  },
  {
   "cell_type": "markdown",
   "metadata": {},
   "source": [
    "これまでの例では、探索したいリストの最後まで探索していましたが、探索値を見つけた時点で終了したい場合、break文を使えばfor文の途中で抜けることが出来ます。\n",
    "\n",
    "★ break文については、While文の資料（Control_Flow_WhileLoops）で説明しています。"
   ]
  },
  {
   "cell_type": "code",
   "execution_count": null,
   "metadata": {},
   "outputs": [],
   "source": [
    "for idx, item in enumerate(lista):\n",
    "    if item == target:\n",
    "        print(f\"インデックス{idx}に探索値{target}が存在しています\")\n",
    "        break"
   ]
  },
  {
   "cell_type": "markdown",
   "metadata": {},
   "source": [
    "インデックス4で探索値を発見したので、それ以降の探索は行われていないことがわかります。"
   ]
  },
  {
   "cell_type": "code",
   "execution_count": null,
   "metadata": {
    "collapsed": true
   },
   "outputs": [],
   "source": []
  }
 ],
 "metadata": {
  "@webio": {
   "lastCommId": null,
   "lastKernelId": null
  },
  "kernelspec": {
   "display_name": "Python 3",
   "language": "python",
   "name": "python3"
  },
  "language_info": {
   "codemirror_mode": {
    "name": "ipython",
    "version": 3
   },
   "file_extension": ".py",
   "mimetype": "text/x-python",
   "name": "python",
   "nbconvert_exporter": "python",
   "pygments_lexer": "ipython3",
   "version": "3.6.4"
  }
 },
 "nbformat": 4,
 "nbformat_minor": 2
}
