{
 "cells": [
  {
   "cell_type": "markdown",
   "metadata": {},
   "source": [
    "# 1年情報基礎 - 繰り返し処理 -"
   ]
  },
  {
   "cell_type": "markdown",
   "metadata": {
    "collapsed": true
   },
   "source": [
    "## 繰り返し処理\n",
    "プログラミングをしていて、同じ処理を繰り返したい、または、同じような処理を繰り返したいことがあるかと思いますが、そういう時には「繰り返し処理」を使います。繰り返し処理の代表的なものとして、`for`を使ったもの（forループ）があります。forループは次のように書きます。"
   ]
  },
  {
   "cell_type": "markdown",
   "metadata": {},
   "source": [
    "![代替テキスト](https://raw.githubusercontent.com/masudakoji/jouhou-kiso-2022/main/images/Control_Flow_ForLoops/ss1.png)"
   ]
  },
  {
   "cell_type": "markdown",
   "metadata": {
    "collapsed": true
   },
   "source": [
    "これをみると`lst`という名前の「リスト」を与えていることがわかります。また、「ループ変数」という変数が設定されています。for文を使った繰り返し計算では、1回の繰り返しを行う度に、リストに格納されたデータを一つ一つ取り出して、ループ変数に代入されます。その上で、「繰り返し処理をするブロック」に記載された命令が処理されます。「繰り返し処理をするブロック」は**インデント**を使って表現します。"
   ]
  },
  {
   "cell_type": "markdown",
   "metadata": {},
   "source": [
    "### 繰り返し処理の例\n",
    "まずは、次のようなプログラムを考えてみましょう。"
   ]
  },
  {
   "cell_type": "code",
   "execution_count": null,
   "metadata": {
    "collapsed": false
   },
   "outputs": [],
   "source": [
    "print(\"機械工学科\")\n",
    "print(\"電気工学科\")\n",
    "print(\"電子工学科\")\n",
    "print(\"応用化学科\")\n",
    "print(\"都市工学科\")"
   ]
  },
  {
   "cell_type": "markdown",
   "metadata": {},
   "source": [
    "同じような作業を繰り返しており、どうにか効率化をはかりたいです。また、同じような作業（print文）ではありますが、出力する文字列は違います。これをforループを使って書いてみましょう。"
   ]
  },
  {
   "cell_type": "markdown",
   "metadata": {},
   "source": [
    "Pythonにはリストという機能がありました。リストを使うと、次のようなオブジェクトが作れます。"
   ]
  },
  {
   "cell_type": "code",
   "execution_count": null,
   "metadata": {
    "collapsed": false
   },
   "outputs": [],
   "source": [
    "[\"機械工学科\", \"電気工学科\", \"電子工学科\", \"応用化学科\", \"都市工学科\"]"
   ]
  },
  {
   "cell_type": "markdown",
   "metadata": {},
   "source": [
    "\"機械工学科\", \"電気工学科\"などの文字列型のデータが5つ格納されたリストです。このリストを使って、forループを書くと次の通りになります。"
   ]
  },
  {
   "cell_type": "code",
   "execution_count": null,
   "metadata": {
    "collapsed": false,
    "scrolled": true
   },
   "outputs": [],
   "source": [
    "for name in [\"機械工学科\", \"電気工学科\", \"電子工学科\", \"応用化学科\", \"都市工学科\"]:\n",
    "    print(name)"
   ]
  },
  {
   "cell_type": "markdown",
   "metadata": {
    "collapsed": true
   },
   "source": [
    "まず、出力される結果が、先ほどと同様であるのが確認できるかと思います。"
   ]
  },
  {
   "cell_type": "markdown",
   "metadata": {
    "collapsed": true
   },
   "source": [
    "次に、どのような仕組みで動いているか確認してみましょう。for文を使った繰り返し計算では、1回の繰り返しを行う度に、リストに格納されたデータを一つ一つ取り出して、ループ変数に代入されるんでした。  \n",
    "この場合、リストに格納されているデータが一つ一つ取り出されてループ変数である`name`に代入されていきます。  \n",
    "こうして、変更されたループ変数`name`を使って「繰り返し処理をするブロック」に記載された処理が実行されます。  \n",
    "今回はリストに含まれているデータの数が5つなので、繰り返し処理は5回実行されます。  "
   ]
  },
  {
   "cell_type": "markdown",
   "metadata": {
    "collapsed": true
   },
   "source": [
    "1回目の実行では、リストの1番目のデータ\"機械工学科\"がとり出されて、ループ変数である`name`に代入され、`name`を使って`print(name)`という処理が実行されます。処理内容としては、print(\"機械工学科\")と同等になります。  \n",
    "2回目の実行では、リストの1番目のデータ\"電気工学科\"がとり出されて、ループ変数である`name`に代入され、`name`を使って`print(name)`という処理が実行されます。処理内容としては、print(\"電気工学科\")と同等になります。"
   ]
  },
  {
   "cell_type": "markdown",
   "metadata": {},
   "source": [
    "### リストに数値を使う\n",
    "リストには、文字列型じゃないデータも扱えるので、次のような繰り返し計算も定義できます。"
   ]
  },
  {
   "cell_type": "code",
   "execution_count": null,
   "metadata": {
    "collapsed": false
   },
   "outputs": [],
   "source": [
    "for number in [0, 1, 2, 3, 4, 5, 6]:\n",
    "    print(number)"
   ]
  },
  {
   "cell_type": "markdown",
   "metadata": {},
   "source": [
    "リストに含まれている数字が一つ一つループ変数`number`に代入されて、繰り返し処理をしています。"
   ]
  },
  {
   "cell_type": "markdown",
   "metadata": {},
   "source": [
    "繰り返し処理のブロック内では、当然、ループ変数を使った演算もできます。"
   ]
  },
  {
   "cell_type": "code",
   "execution_count": null,
   "metadata": {
    "collapsed": false,
    "scrolled": true
   },
   "outputs": [],
   "source": [
    "for number in [0, 1, 2, 3, 4, 5, 6]:\n",
    "    print(number + 5)"
   ]
  },
  {
   "cell_type": "markdown",
   "metadata": {},
   "source": [
    "リストそれぞれのデータに5を足した数値が出力されています。"
   ]
  },
  {
   "cell_type": "code",
   "execution_count": null,
   "metadata": {
    "collapsed": false
   },
   "outputs": [],
   "source": [
    "for number in [0, 1, 2, 3, 4, 5, 6]:\n",
    "    print(number * 2)"
   ]
  },
  {
   "cell_type": "markdown",
   "metadata": {},
   "source": [
    "リストそれぞれのデータを2倍した数値が出力されています。"
   ]
  },
  {
   "cell_type": "code",
   "execution_count": null,
   "metadata": {
    "collapsed": false
   },
   "outputs": [],
   "source": [
    "for number in [0, 1, 2, 3, 4, 5, 6]:\n",
    "    print(number ** 2)"
   ]
  },
  {
   "cell_type": "markdown",
   "metadata": {
    "collapsed": true
   },
   "source": [
    "リストそれぞれのデータを二乗した数字が出力されています。"
   ]
  },
  {
   "cell_type": "markdown",
   "metadata": {},
   "source": [
    "### 繰り返し処理を使った計算"
   ]
  },
  {
   "cell_type": "code",
   "execution_count": null,
   "metadata": {
    "collapsed": false
   },
   "outputs": [],
   "source": [
    "goukei = 0\n",
    "for number in [1, 2, 3, 4, 5, 6, 7, 8, 9, 10]:\n",
    "    goukei = goukei + number\n",
    "print(goukei)"
   ]
  },
  {
   "cell_type": "markdown",
   "metadata": {},
   "source": [
    "1から10までの数値を足し合わせています。足し合わせの計算をする際には、ループ変数だけでは計算できず、どんどん加算していくための変数が必要です。ここでは、`goukei`という変数がそれに対応しています。  \n",
    "ループの前に`goukei = 0`として、変数`goukei`を定義して、同時に0を代入しています。  \n",
    "`goukei = goukei + number`とあるので、`goukei`に`number`を足し合わせて、その和を変数`goukei`に代入しています（元あった数字は上書きされる）。"
   ]
  },
  {
   "cell_type": "markdown",
   "metadata": {},
   "source": [
    "与えられたリストは10個のデータがあるので、10回の繰り返し計算を行うわけですが  \n",
    "1周目は goukei(0) + number(1)の合計(1)が変数`goukei`に代入されます。  \n",
    "2周目は goukei(1) + number(2)の合計(3)が変数`goukei`に代入されます。  \n",
    "3周目は goukei(3) + number(3)の合計(6)が変数`goukei`に代入されます。  \n",
    "これを繰り返すことで、合計を求めています。  \n",
    "10周目は goukei(45) + number(10)の合計(55)が変数`goukei`に代入されます。  \n",
    "これが、最終的に出力されています。"
   ]
  },
  {
   "cell_type": "markdown",
   "metadata": {},
   "source": [
    "暫定の合計が変数`goukei`として、どんどん更新されていって、最終結果として出力されている、ということです。  \n",
    "みなさんが電卓で数字を合計するときにも、電卓の液晶の数字がどんどん更新されていくかと思います。それと同じイメージです。 \n",
    "最初に`goukei = 0`を計算していますが、これは変数をリセットするため（初期化、といいます）に行っています。\n",
    "みなさんが電卓を使う際にも「C」ボタンや「AC」ボタンを押すと思いますが、それと同じイメージです。"
   ]
  },
  {
   "cell_type": "markdown",
   "metadata": {},
   "source": [
    "### 演習"
   ]
  },
  {
   "cell_type": "markdown",
   "metadata": {},
   "source": [
    "#### 問1"
   ]
  },
  {
   "cell_type": "markdown",
   "metadata": {},
   "source": [
    "for文を使って、1+2+3+4+5を計算しなさい。計算する際は、「1」、「2」、「3」、「4」、「5」の数字を格納したリストを使って、変数`goukei`に結果が格納されるようなプログラムを組むこと。また、プログラムの最後に変数`goukei1`を出力するようにすること。"
   ]
  },
  {
   "cell_type": "code",
   "execution_count": null,
   "metadata": {
    "collapsed": true
   },
   "outputs": [],
   "source": []
  },
  {
   "cell_type": "markdown",
   "metadata": {},
   "source": [
    "#### 問2"
   ]
  },
  {
   "cell_type": "markdown",
   "metadata": {},
   "source": [
    "for文を使って、3+4+5+6+7を計算しなさい。計算する際は、「3」、「4」、「5」、「6」、「7」の数字を格納したリストを使って、変数`goukei`に結果が格納されるようなプログラムを組むこと。また、プログラムの最後に変数`goukei`を出力するようにすること。"
   ]
  },
  {
   "cell_type": "code",
   "execution_count": null,
   "metadata": {
    "collapsed": true
   },
   "outputs": [],
   "source": []
  },
  {
   "cell_type": "markdown",
   "metadata": {},
   "source": [
    "#### 問3"
   ]
  },
  {
   "cell_type": "markdown",
   "metadata": {},
   "source": [
    "for文を使って、1 \\* 2 \\* 3 \\* 4 \\* 5を計算しなさい。計算する際は、「1」、「2」、「3」、「4」、「5」の数字を格納したリストを使って、変数`goukei`に結果が格納されるようなプログラムを組むこと。また、プログラムの最後に変数`goukei`を出力するようにすること。  \n",
    "（ヒント：変数`goukei`の初期化に注意。「0」で初期化してしまうとうまくいきません）"
   ]
  },
  {
   "cell_type": "code",
   "execution_count": null,
   "metadata": {
    "collapsed": true
   },
   "outputs": [],
   "source": []
  },
  {
   "cell_type": "markdown",
   "metadata": {},
   "source": [
    "#### 問4"
   ]
  },
  {
   "cell_type": "markdown",
   "metadata": {},
   "source": [
    "「34.2」、「65.4」、「11.2」、「88.3」、「52.7」の5つのデータを含むリスト`lista`を作成しなさい。\n",
    "さらに、その`lista`を使ったfor文を作成し、リスト内に含まれる数値の合計を計算するプログラムを作成しなさい。なお合計は、変数`goukei`に格納させること。また、プログラムの最後に変数`goukei`を出力するようにすること。  \n",
    "（ヒント：`lista`の宣言はfor文より前で行います）"
   ]
  },
  {
   "cell_type": "code",
   "execution_count": null,
   "metadata": {
    "collapsed": true
   },
   "outputs": [],
   "source": []
  },
  {
   "cell_type": "markdown",
   "metadata": {},
   "source": [
    "#### 問5"
   ]
  },
  {
   "cell_type": "markdown",
   "metadata": {},
   "source": [
    "「34.2」、「65.4」、「11.2」、「88.3」、「52.7」の平均値を求めたい。\n",
    "まず、上の5つのデータを含むリスト`lista`を作成しないさい。\n",
    "さらに、その`lista`を使ったfor文を作成し、リスト内に含まれる数値の合計を計算して変数`goukei`に格納させること。\n",
    "最後に、計算された合計（変数`goukei`）を5で除することで、平均値としなさい。\n",
    "プログラムの最後に変数`goukei`を出力するようにすること。   \n",
    "（ヒント：合計を5で割って平均を出す）"
   ]
  },
  {
   "cell_type": "code",
   "execution_count": null,
   "metadata": {
    "collapsed": true
   },
   "outputs": [],
   "source": []
  },
  {
   "cell_type": "markdown",
   "metadata": {},
   "source": [
    "#### 問6"
   ]
  },
  {
   "cell_type": "markdown",
   "metadata": {
    "collapsed": true
   },
   "source": [
    "変数`gakka`に\"機械工学科\"という文字列を代入しなさい（文字列型になります）。さらにprint文のformat機能を使って  \n",
    "「神戸高専には機械工学科があります」という文章を出力しなさい。なお、このとき\"機械工学科\"という文字列は変数`gakka`を使用すること。  \n",
    "（ヒント：学科の名前が挿入されるところは{}で表されます。）\n",
    "（ヒント：03_Calculation_Exerciseを参考にしてください）"
   ]
  },
  {
   "cell_type": "code",
   "execution_count": null,
   "metadata": {
    "collapsed": true
   },
   "outputs": [],
   "source": []
  },
  {
   "cell_type": "markdown",
   "metadata": {},
   "source": [
    "#### 問7"
   ]
  },
  {
   "cell_type": "code",
   "execution_count": null,
   "metadata": {
    "collapsed": true
   },
   "outputs": [],
   "source": []
  },
  {
   "cell_type": "markdown",
   "metadata": {
    "collapsed": true
   },
   "source": [
    "リスト`gakka`に「機械工学科」、「電気工学科」、「電子工学科」、「応用化学科」、「都市工学科」という文字列を代入しなさい。（5つのデータを含むリストになります。）\n",
    "さらに、そのリスト`gakka`を使ったfor文を作成し、以下のように出力されるプログラムを作成しなさい。"
   ]
  },
  {
   "cell_type": "code",
   "execution_count": null,
   "metadata": {
    "collapsed": true
   },
   "outputs": [],
   "source": []
  }
 ],
 "metadata": {
  "anaconda-cloud": {},
  "kernelspec": {
   "display_name": "Python [default]",
   "language": "python",
   "name": "python3"
  },
  "language_info": {
   "codemirror_mode": {
    "name": "ipython",
    "version": 3
   },
   "file_extension": ".py",
   "mimetype": "text/x-python",
   "name": "python",
   "nbconvert_exporter": "python",
   "pygments_lexer": "ipython3",
   "version": "3.5.2"
  },
  "vscode": {
   "interpreter": {
    "hash": "c75d77398380f8fb7214b6fbeab52c1a483db45002333af0b9f9ffeb091dd95a"
   }
  }
 },
 "nbformat": 4,
 "nbformat_minor": 1
}
