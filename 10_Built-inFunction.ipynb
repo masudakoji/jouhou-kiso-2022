{
 "cells": [
  {
   "cell_type": "markdown",
   "metadata": {},
   "source": [
    "# 1年情報基礎 - 組み込み関数 - "
   ]
  },
  {
   "cell_type": "markdown",
   "metadata": {},
   "source": [
    "Pythonで使える関数として、print文などはこれまでにも扱いましたが、それ以外にもPythonでは最初から用意されている関数がいくつもあります。このような関数を組み込み関数と言います。ここでは、その中でも使用頻度が高い組み込み関数を紹介します。  \n",
    "すでに紹介した関数も一緒に紹介します。"
   ]
  },
  {
   "cell_type": "markdown",
   "metadata": {},
   "source": [
    "## print"
   ]
  },
  {
   "cell_type": "markdown",
   "metadata": {},
   "source": [
    "これまでにも扱ったように、printを使うと、文字列などを出力することができます。"
   ]
  },
  {
   "cell_type": "code",
   "execution_count": null,
   "metadata": {},
   "outputs": [],
   "source": [
    "print(\"出力したい文字列\")"
   ]
  },
  {
   "cell_type": "code",
   "execution_count": null,
   "metadata": {},
   "outputs": [],
   "source": [
    "a = 1\n",
    "b = 2\n",
    "print(a)\n",
    "print(b)\n",
    "print(a, b)\n",
    "print(a, \"aa\", b)"
   ]
  },
  {
   "cell_type": "markdown",
   "metadata": {},
   "source": [
    "## format"
   ]
  },
  {
   "cell_type": "markdown",
   "metadata": {},
   "source": [
    "これまでにも扱ったように、printを使って出力する際に、formatを使うと、出力の仕方をより詳細に決めることができます。"
   ]
  },
  {
   "cell_type": "code",
   "execution_count": null,
   "metadata": {},
   "outputs": [],
   "source": [
    "a = 5\n",
    "print(\"a={}\".format(a))"
   ]
  },
  {
   "cell_type": "markdown",
   "metadata": {},
   "source": [
    "このように、出力した文字列の中に{}を入れておくことで、format()の中に記載した変数の中身が{}の中に出力されます。"
   ]
  },
  {
   "cell_type": "code",
   "execution_count": null,
   "metadata": {},
   "outputs": [],
   "source": [
    "a = 5\n",
    "b = 7\n",
    "print(\"a={}, b={}\".format(a, b))"
   ]
  },
  {
   "cell_type": "markdown",
   "metadata": {},
   "source": [
    "format()に記載した変数が順に出力されていきますが、format()に記載した変数の順序と出力したい順序を変えたい場合には次のように、インデックス番号を使います。（インデックスは0からはじまります）"
   ]
  },
  {
   "cell_type": "code",
   "execution_count": null,
   "metadata": {},
   "outputs": [],
   "source": [
    "a = 5\n",
    "b = 7\n",
    "print(\"a={1}, b={0}\".format(b, a))"
   ]
  },
  {
   "cell_type": "markdown",
   "metadata": {},
   "source": [
    "インデックス番号を省略した場合、先頭から{0},{1}と入力されたのと同一です。"
   ]
  },
  {
   "cell_type": "markdown",
   "metadata": {},
   "source": [
    "つまり、  \n",
    "print(\"a={}, b={}\".format(a, b))  \n",
    "と  \n",
    "print(\"a={0}, b={1}\".format(a, b))  \n",
    "は同一です。"
   ]
  },
  {
   "cell_type": "markdown",
   "metadata": {},
   "source": [
    "## f文字列"
   ]
  },
  {
   "cell_type": "markdown",
   "metadata": {},
   "source": [
    "format文のように、文字列中に変数の中身を出力する方法として、f文字列という方法があります。formatより、視認性が高いというメリットがあります。これは比較的新しい機能で、Python3.6から対応した機能です。実行環境によっては使えないこともあるので注意してください。"
   ]
  },
  {
   "cell_type": "markdown",
   "metadata": {},
   "source": [
    "print文で出力したい文字列を記述する際に、最初のコーテーションマーク（「'」もしくは「\"」）の前に「f（大文字でも可）」を書きます。そして、変数の中身を出力したい場所に{}を書いて、{}の中に変数名を記入します。"
   ]
  },
  {
   "cell_type": "code",
   "execution_count": null,
   "metadata": {},
   "outputs": [],
   "source": [
    "a = 5\n",
    "print(f\"a={a}\")"
   ]
  },
  {
   "cell_type": "markdown",
   "metadata": {},
   "source": [
    "format文よりはシンプルに書けるかと思います。コーテーションマークの前の「f」を忘れないようにしましょう。"
   ]
  },
  {
   "cell_type": "code",
   "execution_count": null,
   "metadata": {},
   "outputs": [],
   "source": [
    "a = 5\n",
    "b = 7\n",
    "print(f\"a={a}, b={b}\")"
   ]
  },
  {
   "cell_type": "markdown",
   "metadata": {},
   "source": [
    "## abs"
   ]
  },
  {
   "cell_type": "markdown",
   "metadata": {},
   "source": [
    "絶対値を得たい場合に使用します。"
   ]
  },
  {
   "cell_type": "code",
   "execution_count": null,
   "metadata": {},
   "outputs": [],
   "source": [
    "a = 32.1\n",
    "abs(a)"
   ]
  },
  {
   "cell_type": "code",
   "execution_count": null,
   "metadata": {},
   "outputs": [],
   "source": [
    "a = -1.23\n",
    "abs(a)"
   ]
  },
  {
   "cell_type": "markdown",
   "metadata": {},
   "source": [
    "abs()の括弧の中に絶対値を得たい数値や変数を記入します。"
   ]
  },
  {
   "cell_type": "markdown",
   "metadata": {},
   "source": [
    "## max"
   ]
  },
  {
   "cell_type": "markdown",
   "metadata": {},
   "source": [
    "複数の中から最大値を調べたい場合に使用します。"
   ]
  },
  {
   "cell_type": "code",
   "execution_count": null,
   "metadata": {},
   "outputs": [],
   "source": [
    "max(3, 5, 2, 8, -4)"
   ]
  },
  {
   "cell_type": "markdown",
   "metadata": {},
   "source": [
    "max()の括弧の中に複数の数値を記入します。"
   ]
  },
  {
   "cell_type": "markdown",
   "metadata": {},
   "source": [
    "リストの要素の中の最大値も求めることが出来ます。"
   ]
  },
  {
   "cell_type": "code",
   "execution_count": null,
   "metadata": {},
   "outputs": [],
   "source": [
    "lista = [3, 5, 2, 8, -4]\n",
    "max(lista)"
   ]
  },
  {
   "cell_type": "markdown",
   "metadata": {},
   "source": [
    "## min"
   ]
  },
  {
   "cell_type": "markdown",
   "metadata": {},
   "source": [
    "複数の中から最小値を調べたい場合に使用します。"
   ]
  },
  {
   "cell_type": "code",
   "execution_count": null,
   "metadata": {},
   "outputs": [],
   "source": [
    "min(3, 5, 2, 8, -4)"
   ]
  },
  {
   "cell_type": "markdown",
   "metadata": {},
   "source": [
    "min()の括弧の中に複数の数値を記入します。"
   ]
  },
  {
   "cell_type": "markdown",
   "metadata": {},
   "source": [
    "リストの要素の中の最大値も求めることが出来ます。"
   ]
  },
  {
   "cell_type": "code",
   "execution_count": null,
   "metadata": {
    "scrolled": true
   },
   "outputs": [],
   "source": [
    "lista = [3, 5, 2, 8, -4]\n",
    "min(lista)"
   ]
  },
  {
   "cell_type": "markdown",
   "metadata": {},
   "source": [
    "## sum"
   ]
  },
  {
   "cell_type": "markdown",
   "metadata": {},
   "source": [
    "複数の値の合計値を得たい場合に使用します。"
   ]
  },
  {
   "cell_type": "code",
   "execution_count": null,
   "metadata": {},
   "outputs": [],
   "source": [
    "sum([5, 2, 4, 8, 6])"
   ]
  },
  {
   "cell_type": "markdown",
   "metadata": {},
   "source": [
    "sum()の括弧の中にリストを入れると、そのリストに含まれる要素の合計が得られます。"
   ]
  },
  {
   "cell_type": "markdown",
   "metadata": {},
   "source": [
    "## len"
   ]
  },
  {
   "cell_type": "markdown",
   "metadata": {},
   "source": [
    "リストに含まれている要素の数を調べたい場合に使用します。"
   ]
  },
  {
   "cell_type": "code",
   "execution_count": null,
   "metadata": {},
   "outputs": [],
   "source": [
    "len([4, 6, 2, -3, 5])"
   ]
  },
  {
   "cell_type": "code",
   "execution_count": null,
   "metadata": {},
   "outputs": [],
   "source": [
    "lista = [3, -4 ,2, 7, 1, 6, 8, -4]\n",
    "len(lista)"
   ]
  },
  {
   "cell_type": "markdown",
   "metadata": {},
   "source": [
    "lenはrange関数やfor文と一緒に使われることが多いです。"
   ]
  },
  {
   "cell_type": "code",
   "execution_count": null,
   "metadata": {},
   "outputs": [],
   "source": [
    "lista = [3, -4 ,2, 7, 1, 6, 8, -4]\n",
    "for i in range(len(lista)):\n",
    "    print(i)"
   ]
  },
  {
   "cell_type": "markdown",
   "metadata": {},
   "source": [
    "len()関数を使うことで、リストの長さ（リストに含まれる要素の数）がわかります。今回は「8」です。これをrange()関数の中に入れることで8回繰り返すfor文が書けます。"
   ]
  },
  {
   "cell_type": "markdown",
   "metadata": {},
   "source": [
    "f文字列を使って次のような出力を得ることもできます。"
   ]
  },
  {
   "cell_type": "code",
   "execution_count": null,
   "metadata": {},
   "outputs": [],
   "source": [
    "lista = [3, -4 ,2, 7, 1, 6, 8, -4]\n",
    "for i in range(len(lista)):\n",
    "    print(f\"{i}番目の要素は{lista[i]}です\")"
   ]
  },
  {
   "cell_type": "markdown",
   "metadata": {},
   "source": [
    "なお、同様のことはenumerate()を使って書くことも出来ます。"
   ]
  },
  {
   "cell_type": "code",
   "execution_count": null,
   "metadata": {},
   "outputs": [],
   "source": [
    "lista = [3, -4 ,2, 7, 1, 6, 8, -4]\n",
    "for idx, item in enumerate(lista):\n",
    "    print(f\"{idx}番目の要素は{item}です\")"
   ]
  },
  {
   "cell_type": "markdown",
   "metadata": {},
   "source": [
    "## sorted"
   ]
  },
  {
   "cell_type": "markdown",
   "metadata": {},
   "source": [
    "リストに含まれるデータを並べ替える場合に使用します。リストに対してsorted関数を使うと、データが並び替えられた新しいリストが作成されます。"
   ]
  },
  {
   "cell_type": "code",
   "execution_count": null,
   "metadata": {},
   "outputs": [],
   "source": [
    "lista = [3, -4 ,2, 7, 1, 6, 8, -4]\n",
    "sorted(lista)"
   ]
  },
  {
   "cell_type": "markdown",
   "metadata": {},
   "source": [
    "逆順に並べたい場合には、reverseオプションを次のように指定します。"
   ]
  },
  {
   "cell_type": "code",
   "execution_count": null,
   "metadata": {},
   "outputs": [],
   "source": [
    "lista = [3, -4 ,2, 7, 1, 6, 8, -4]\n",
    "sorted(lista, reverse=True)"
   ]
  },
  {
   "cell_type": "code",
   "execution_count": null,
   "metadata": {
    "collapsed": true
   },
   "outputs": [],
   "source": []
  }
 ],
 "metadata": {
  "@webio": {
   "lastCommId": null,
   "lastKernelId": null
  },
  "kernelspec": {
   "display_name": "Python 3",
   "language": "python",
   "name": "python3"
  },
  "language_info": {
   "codemirror_mode": {
    "name": "ipython",
    "version": 3
   },
   "file_extension": ".py",
   "mimetype": "text/x-python",
   "name": "python",
   "nbconvert_exporter": "python",
   "pygments_lexer": "ipython3",
   "version": "3.6.4"
  }
 },
 "nbformat": 4,
 "nbformat_minor": 2
}
