{
 "cells": [
  {
   "cell_type": "markdown",
   "metadata": {},
   "source": [
    "# 1年情報基礎 - 条件分岐 -"
   ]
  },
  {
   "cell_type": "markdown",
   "metadata": {},
   "source": [
    "## 条件分岐とは何か\n",
    "プログラミングでは、変数の数値などによって行う処理を変えたい、ということがあります。そういう際には「条件分岐」という仕組みを使います。\"if\"という命令を使うので、「if文」と言われることもあります。if文は次のように書きます。"
   ]
  },
  {
   "cell_type": "markdown",
   "metadata": {},
   "source": [
    "![](https://raw.githubusercontent.com/masudakoji/jouhou-kiso-2022/main/images/Conditional_Statements/ss1.png)"
   ]
  },
  {
   "cell_type": "markdown",
   "metadata": {},
   "source": [
    "このように、if文は「条件文」と「条件を満たす時に実行されるブロック」から構成されます。条件を満たすことを「条件が\"真である\"時」といいます。"
   ]
  },
  {
   "cell_type": "markdown",
   "metadata": {},
   "source": [
    "条件を満たすかどうかで、実行される内容が異なることを確かめてみましょう。"
   ]
  },
  {
   "cell_type": "code",
   "execution_count": null,
   "metadata": {
    "collapsed": false
   },
   "outputs": [],
   "source": [
    "a = 4\n",
    "b = 1\n",
    "if a > b:\n",
    "    print(\"yes\")"
   ]
  },
  {
   "cell_type": "markdown",
   "metadata": {},
   "source": [
    "\"yes\"と表示されたかと思います。このとき、`a = 4, b = 1`という値は`a > b`という条件を満たしています。では、次の様な場合はどうでしょう。"
   ]
  },
  {
   "cell_type": "code",
   "execution_count": null,
   "metadata": {
    "collapsed": true
   },
   "outputs": [],
   "source": [
    "a = 1\n",
    "b = 4\n",
    "if a > b:\n",
    "    print(\"yes\")"
   ]
  },
  {
   "cell_type": "markdown",
   "metadata": {},
   "source": [
    "何も表示されなかったと思います。これが正しい動作です。`a = 1, b = 4`という値は`a > b`という条件を満たしていません。条件が満たされる場合には「条件を満たす時に実行されるブロック」が実行されますが、条件を満たしていない時には何も実行されません。"
   ]
  },
  {
   "cell_type": "markdown",
   "metadata": {},
   "source": [
    "この様な条件分岐を表す時に、「フローチャート」という図がよく用いられます。条件文を満たすか否かを示しています。"
   ]
  },
  {
   "cell_type": "markdown",
   "metadata": {},
   "source": [
    "<img src=\"https://raw.githubusercontent.com/masudakoji/jouhou-kiso-2022/main/images/Conditional_Statements/ss3.png\" width=\"60%\">"
   ]
  },
  {
   "cell_type": "markdown",
   "metadata": {},
   "source": [
    "## 条件文の作り方\n",
    "条件文を作るためにいくつもの記号（比較演算子）が用意されています。"
   ]
  },
  {
   "cell_type": "markdown",
   "metadata": {},
   "source": [
    "### 不等号"
   ]
  },
  {
   "cell_type": "markdown",
   "metadata": {},
   "source": [
    "「より大きい（大なり）」は次のように表します。"
   ]
  },
  {
   "cell_type": "code",
   "execution_count": null,
   "metadata": {
    "collapsed": false
   },
   "outputs": [],
   "source": [
    "a = 4\n",
    "b = 1\n",
    "if a > b:\n",
    "    print(\"a = {}, b = {}\".format(a,b))\n",
    "    print(\"a > b\")"
   ]
  },
  {
   "cell_type": "markdown",
   "metadata": {},
   "source": [
    "「以上（大なりイコール）」は次のように表します。"
   ]
  },
  {
   "cell_type": "code",
   "execution_count": null,
   "metadata": {
    "collapsed": false
   },
   "outputs": [],
   "source": [
    "a = 4\n",
    "b = 4\n",
    "if a >= b:\n",
    "    print(\"a = {}, b = {}\".format(a,b))\n",
    "    print(\"a >= b\")"
   ]
  },
  {
   "cell_type": "markdown",
   "metadata": {},
   "source": [
    "「より小さい（小なり）」は次のように表します。"
   ]
  },
  {
   "cell_type": "code",
   "execution_count": null,
   "metadata": {
    "collapsed": false
   },
   "outputs": [],
   "source": [
    "a = 2\n",
    "b = 5\n",
    "if a < b:\n",
    "    print(\"a = {}, b = {}\".format(a,b))\n",
    "    print(\"a < b\")"
   ]
  },
  {
   "cell_type": "markdown",
   "metadata": {},
   "source": [
    "「以下（小なりイコール）」は次のように表します。"
   ]
  },
  {
   "cell_type": "code",
   "execution_count": null,
   "metadata": {
    "collapsed": false
   },
   "outputs": [],
   "source": [
    "a = 5\n",
    "b = 5\n",
    "if a <= b:\n",
    "    print(\"a = {}, b = {}\".format(a,b))\n",
    "    print(\"a <= b\")"
   ]
  },
  {
   "cell_type": "markdown",
   "metadata": {},
   "source": [
    "### 等号"
   ]
  },
  {
   "cell_type": "markdown",
   "metadata": {},
   "source": [
    "「等しい」は次のように表します。"
   ]
  },
  {
   "cell_type": "code",
   "execution_count": null,
   "metadata": {
    "collapsed": false
   },
   "outputs": [],
   "source": [
    "a = 2\n",
    "b = 2\n",
    "if a == b:\n",
    "    print(\"a = {}, b = {}\".format(a,b))\n",
    "    print(\"a == b\")"
   ]
  },
  {
   "cell_type": "markdown",
   "metadata": {},
   "source": [
    "「等しい」を表すには等号記号\"=\"を二つ重ねて\"==\"としていることに注意してください。等号記号が一つだと、数値の代入に使う記号（代入演算子）です。"
   ]
  },
  {
   "cell_type": "markdown",
   "metadata": {},
   "source": [
    "「等しくない」は次のように表します。"
   ]
  },
  {
   "cell_type": "code",
   "execution_count": null,
   "metadata": {
    "collapsed": false
   },
   "outputs": [],
   "source": [
    "a = 1\n",
    "b = 2\n",
    "if a != b:\n",
    "    print(\"a = {}, b = {}\".format(a,b))\n",
    "    print(\"a != b\")"
   ]
  },
  {
   "cell_type": "markdown",
   "metadata": {},
   "source": [
    "## 条件文の実体\n",
    "ここで条件文に使う「`a > b`」などの実体を見てみましょう。"
   ]
  },
  {
   "cell_type": "code",
   "execution_count": null,
   "metadata": {
    "collapsed": true
   },
   "outputs": [],
   "source": [
    "a = 2\n",
    "b = 1"
   ]
  },
  {
   "cell_type": "code",
   "execution_count": null,
   "metadata": {
    "collapsed": false
   },
   "outputs": [],
   "source": [
    "a > b"
   ]
  },
  {
   "cell_type": "markdown",
   "metadata": {},
   "source": [
    "\"True\"と表示されたかと思います。では次はどうでしょう。"
   ]
  },
  {
   "cell_type": "code",
   "execution_count": null,
   "metadata": {
    "collapsed": false
   },
   "outputs": [],
   "source": [
    "a < b"
   ]
  },
  {
   "cell_type": "markdown",
   "metadata": {},
   "source": [
    "\"False\"と表示されたかと思います。つまり、「if文」というのは、条件文がTrueがFalseか、によって実行するか否かが変わる、ということです。True、Falseといえば、変数型の説明（01_Introduction_Python）にて論理型、という種類の変数が出てきたかと思います。if文の条件文とは、この論理型なのです。"
   ]
  },
  {
   "cell_type": "markdown",
   "metadata": {},
   "source": [
    "これを確かめるために、次のような例を試してみましょう（実際にこのようなプログラムを作成することはあまりないかと思いますが）"
   ]
  },
  {
   "cell_type": "code",
   "execution_count": null,
   "metadata": {
    "collapsed": false
   },
   "outputs": [],
   "source": [
    "if True:\n",
    "    print(\"条件文はTrue\")"
   ]
  },
  {
   "cell_type": "code",
   "execution_count": null,
   "metadata": {
    "collapsed": true
   },
   "outputs": [],
   "source": [
    "if False:\n",
    "    print(\"条件文はFalse\")"
   ]
  },
  {
   "cell_type": "markdown",
   "metadata": {},
   "source": [
    "Trueの場合は表示され、Falseの場合は何も表示されないということがわかるかと思います。"
   ]
  },
  {
   "cell_type": "markdown",
   "metadata": {
    "collapsed": true
   },
   "source": [
    "## 複数の条件文の組み合わせ\n",
    "複数の条件文を組み合わせた条件分岐を作ることもできます。「条件A \"かつ\" 条件B」「条件A \"または\" 条件B」という作り方です。\"かつ\"は`and`、\"または\"は`or`という記号（論理演算子）を使います。  \n",
    "先ほど、条件文の実体は\"True\"か\"False\"だと説明しました。これを使いながら確認してみましょう。"
   ]
  },
  {
   "cell_type": "markdown",
   "metadata": {},
   "source": [
    "条件A,条件BそれぞれがTrueかFalseの2通りですので、合わせて4通りのパターンがあります。実際に実行されるのはどのパターンでしょうか。"
   ]
  },
  {
   "cell_type": "markdown",
   "metadata": {},
   "source": [
    "### \"かつ\"（`and`演算子）"
   ]
  },
  {
   "cell_type": "code",
   "execution_count": null,
   "metadata": {
    "collapsed": false
   },
   "outputs": [],
   "source": [
    "if True and True:\n",
    "    print(\"1. True and True\")\n",
    "if True and False:\n",
    "    print(\"2. True and False\")\n",
    "if False and True:\n",
    "    print(\"3. False and True\")\n",
    "if False and False:\n",
    "    print(\"4. False and False\")"
   ]
  },
  {
   "cell_type": "markdown",
   "metadata": {},
   "source": [
    "パターン1の`True and True`のみ実行されました。`and`演算子は\"かつ\"という意味ですので、条件A,条件Bともに\"True\"であるときのみに実行されます。"
   ]
  },
  {
   "cell_type": "markdown",
   "metadata": {},
   "source": [
    "### \"または\"（`or`演算子）"
   ]
  },
  {
   "cell_type": "code",
   "execution_count": null,
   "metadata": {
    "collapsed": false
   },
   "outputs": [],
   "source": [
    "if True or True:\n",
    "    print(\"1. True or True\")\n",
    "if True or False:\n",
    "    print(\"2. True or False\")\n",
    "if False or True:\n",
    "    print(\"3. False or True\")\n",
    "if False or False:\n",
    "    print(\"4. False or False\")"
   ]
  },
  {
   "cell_type": "markdown",
   "metadata": {},
   "source": [
    "パターン4の`False and False`**以外が**実行されました。`or`演算子は\"または\"という意味ですので、条件A,条件Bのどちらか（もしくは両方）が\"True\"であるときに実行されます。"
   ]
  },
  {
   "cell_type": "markdown",
   "metadata": {},
   "source": [
    "2つの条件の真偽と論理演算子の結果出力される真偽を表にすると、次の様になります。"
   ]
  },
  {
   "cell_type": "markdown",
   "metadata": {},
   "source": [
    "#### and演算子"
   ]
  },
  {
   "cell_type": "markdown",
   "metadata": {},
   "source": [
    "|条件A | 条件B | 結果 |\n",
    "|:--:|:--:|:--:|\n",
    "|True|True|**True**|\n",
    "|True|False|False|\n",
    "|False|True|False|\n",
    "|False|False|False|"
   ]
  },
  {
   "cell_type": "markdown",
   "metadata": {},
   "source": [
    "#### or演算子"
   ]
  },
  {
   "cell_type": "markdown",
   "metadata": {},
   "source": [
    "|条件A | 条件B | 結果 |\n",
    "|:--:|:--:|:--:|\n",
    "|True|True|**True**|\n",
    "|True|False|**True**|\n",
    "|False|True|**True**|\n",
    "|False|False|False|"
   ]
  },
  {
   "cell_type": "markdown",
   "metadata": {},
   "source": [
    "### 実際に使われる書き方（and演算子）\n",
    "a, 2二つの変数をみて、それぞれが0より大きいかどうかによって条件分岐を考えてみます。"
   ]
  },
  {
   "cell_type": "code",
   "execution_count": null,
   "metadata": {
    "collapsed": false
   },
   "outputs": [],
   "source": [
    "# パターン1\n",
    "a = 5\n",
    "b = 2\n",
    "print(\"1. a = {}, b = {}\".format(a,b))\n",
    "if a > 0 and b > 0:    \n",
    "    print(\"   a > 0 and b > 0\")\n",
    "\n",
    "# パターン2\n",
    "a = 5\n",
    "b = -2\n",
    "print(\"2. a = {}, b = {}\".format(a,b))\n",
    "if a > 0 and b > 0:    \n",
    "    print(\"   a > 0 and b > 0\")\n",
    "\n",
    "# パターン3\n",
    "a = -5\n",
    "b = 2\n",
    "print(\"3. a = {}, b = {}\".format(a,b))\n",
    "if a > 0 and b > 0:    \n",
    "    print(\"   a > 0 and b > 0\")\n",
    "\n",
    "# パターン4\n",
    "a = -5\n",
    "b = -2\n",
    "print(\"4. a = {}, b = {}\".format(a,b))\n",
    "if a > 0 and b > 0:    \n",
    "    print(\"   a > 0 and b > 0\")"
   ]
  },
  {
   "cell_type": "markdown",
   "metadata": {},
   "source": [
    "このように、パターン1のもののみ、実行されています。"
   ]
  },
  {
   "cell_type": "markdown",
   "metadata": {},
   "source": [
    "### 実際に使われる書き方（or演算子）\n",
    "a, 2二つの変数をみて、それぞれが0より大きいかどうかによって条件分岐を考えてみます。"
   ]
  },
  {
   "cell_type": "code",
   "execution_count": null,
   "metadata": {
    "collapsed": false
   },
   "outputs": [],
   "source": [
    "# パターン1\n",
    "a = 5\n",
    "b = 2\n",
    "print(\"1. a = {}, b = {}\".format(a,b))\n",
    "if a > 0 or b > 0:    \n",
    "    print(\"   a > 0 or b > 0\")\n",
    "\n",
    "# パターン2\n",
    "a = 5\n",
    "b = -2\n",
    "print(\"2. a = {}, b = {}\".format(a,b))\n",
    "if a > 0 or b > 0:    \n",
    "    print(\"   a > 0 or b > 0\")\n",
    "\n",
    "# パターン3\n",
    "a = -5\n",
    "b = 2\n",
    "print(\"3. a = {}, b = {}\".format(a,b))\n",
    "if a > 0 or b > 0:    \n",
    "    print(\"   a > 0 or b > 0\")\n",
    "\n",
    "# パターン4\n",
    "a = -5\n",
    "b = -2\n",
    "print(\"4. a = {}, b = {}\".format(a,b))\n",
    "if a > 0 or b > 0:    \n",
    "    print(\"   a > 0 or b > 0\")"
   ]
  },
  {
   "cell_type": "markdown",
   "metadata": {},
   "source": [
    "このように、パターン1, 2, 3のものが実行されています。"
   ]
  },
  {
   "cell_type": "markdown",
   "metadata": {},
   "source": [
    "## 条件文がFalse（偽）であった時の処理\n",
    "### if - else 文\n",
    "これまでは、if文に条件文を与えて、それがTrue（真）であった時には、「条件を満たす時に実行されるブロック」が実行されるというものでした。では、条件文がFalse（偽）であった時に実行される処理を与えるにはどうすれば良いかを説明します。"
   ]
  },
  {
   "cell_type": "markdown",
   "metadata": {},
   "source": [
    "![](https://raw.githubusercontent.com/masudakoji/jouhou-kiso-2022/main/images/Conditional_Statements/ss2.png)"
   ]
  },
  {
   "cell_type": "markdown",
   "metadata": {},
   "source": [
    "このように、`else`を使って、条件文がFalse（偽）であった時に実行する処理を与えます。フローチャートを使うと次の様に表現できます。"
   ]
  },
  {
   "cell_type": "markdown",
   "metadata": {},
   "source": [
    "![](https://raw.githubusercontent.com/masudakoji/jouhou-kiso-2022/main/images/Conditional_Statements/ss4.png)"
   ]
  },
  {
   "cell_type": "markdown",
   "metadata": {},
   "source": [
    "elseを使うか使わないかで、どの様な違いが出るのか、確かめてみましょう。"
   ]
  },
  {
   "cell_type": "code",
   "execution_count": null,
   "metadata": {
    "collapsed": false
   },
   "outputs": [],
   "source": [
    "a = -3\n",
    "if a > 0:\n",
    "    print(\"a > 0\")"
   ]
  },
  {
   "cell_type": "markdown",
   "metadata": {},
   "source": [
    "上のif文は条件文がFalse（偽）です。なので何も実行されません。これに、`else`を使った命令を追加してみます。"
   ]
  },
  {
   "cell_type": "code",
   "execution_count": null,
   "metadata": {
    "collapsed": false
   },
   "outputs": [],
   "source": [
    "a = -3\n",
    "if a > 0:\n",
    "    print(\"a > 0\")\n",
    "else:\n",
    "    print(\"「a > 0」ではありません\")"
   ]
  },
  {
   "cell_type": "markdown",
   "metadata": {},
   "source": [
    "このように、条件文がTrue（真）であった時に実行される処理と、条件文がFalse（偽）であった時に実行される処理を与えることができます。"
   ]
  },
  {
   "cell_type": "markdown",
   "metadata": {
    "collapsed": true
   },
   "source": [
    "### if - elif 文\n",
    "if文やif - else文では1つの条件文を与えて条件分岐を行いました。このif - elif文では、**2つの条件文を使う**というのがポイントです。まず、1つの条件文を与えて、その条件文を満たす時に実行されるブロックを記述しますが（ここまではただのif文ですね）、その後、条件文を満たさなかったが、その中で別の条件文を満たす場合に実行されるブロックを記述できます。"
   ]
  },
  {
   "cell_type": "markdown",
   "metadata": {
    "collapsed": true
   },
   "source": [
    "![](https://raw.githubusercontent.com/masudakoji/jouhou-kiso-2022/main/images/Conditional_Statements/ss5.png)"
   ]
  },
  {
   "cell_type": "markdown",
   "metadata": {},
   "source": [
    "このように、条件文を2つ定義しています。最初の条件 (`a > b`) に一致する時に実行されるブロック、最初の条件は満たさないが2つめの条件 (`a > c`) に一致する時に実行されるブロックから構成されています。注意するべきところとして、**2つ目の条件文は1つ目の条件を満たさない時に判定**されます。   \n",
    "上の例でいうと、  \n",
    "`a > b`の時に\"Condition1 True\"と表示され、  \n",
    "**`a > b`ではなく**`a > c`、の時に\"Condition2 True\"と表示される\n",
    "ということです。`elif`というのは\"else if（〇〇ではなく、△△である時、）\"という意味だと思ってもらえば良いです。  \n",
    "フローチャートを使うと次の様に表現できます。"
   ]
  },
  {
   "cell_type": "markdown",
   "metadata": {
    "collapsed": true
   },
   "source": [
    "![](https://raw.githubusercontent.com/masudakoji/jouhou-kiso-2022/main/images/Conditional_Statements/ss7.png)"
   ]
  },
  {
   "cell_type": "markdown",
   "metadata": {},
   "source": [
    "条件文が2つある点、どのような時に条件文2が判定されるのか、に注目しましょう。実際の例は次の通りです。"
   ]
  },
  {
   "cell_type": "code",
   "execution_count": null,
   "metadata": {
    "collapsed": false
   },
   "outputs": [],
   "source": [
    "score = 75\n",
    "if score >= 80:\n",
    "    print(\"点数は80以上です。\")\n",
    "elif score >= 60:\n",
    "    print(\"点数は80未満、60以上です。\")\n",
    "elif score >= 30:\n",
    "    print(\"点数は60未満、30以上です。\")"
   ]
  },
  {
   "cell_type": "markdown",
   "metadata": {
    "collapsed": true
   },
   "source": [
    "score = 75の数字を色々変えて動作の違いを確認してみてください。また、elifは複数重ねる事もできるという事も確認しておいてください。"
   ]
  },
  {
   "cell_type": "markdown",
   "metadata": {
    "collapsed": true
   },
   "source": [
    "### if - elif - else 文\n",
    "これまでの内容を理解していれば、こちらも理解できるかと思いますが、if文やelif文で条件文を複数していって、それらの条件のどれも満たさなかった時に実行されるブロックを記述できます。"
   ]
  },
  {
   "cell_type": "markdown",
   "metadata": {
    "collapsed": true
   },
   "source": [
    "![](https://raw.githubusercontent.com/masudakoji/jouhou-kiso-2022/main/images/Conditional_Statements/ss6.png)"
   ]
  },
  {
   "cell_type": "markdown",
   "metadata": {},
   "source": [
    "ここでも注意すべき点として、else文のところで記述する命令は、それまでの条件の**どれも満たさない際に実行される**という事です。  \n",
    "上の例でいうと、  \n",
    "`a > b`の時に\"Condition1 True\"と表示され、  \n",
    "`a > b`ではなく`a > c`、の時に\"Condition2 True\"と表示され、  \n",
    "**`a > b`でもなく`a > c`でもない**時に\"False\"と表示される。\n",
    "ということです。  \n",
    "フローチャートを使うと次の様に表現できます。\n"
   ]
  },
  {
   "cell_type": "markdown",
   "metadata": {
    "collapsed": true
   },
   "source": [
    "![](https://raw.githubusercontent.com/masudakoji/jouhou-kiso-2022/main/images/Conditional_Statements/ss8.png)"
   ]
  },
  {
   "cell_type": "markdown",
   "metadata": {},
   "source": [
    "elseで指定されるブロックが、どういう流れをたどっているのか、に注目しましょう。実際の例は次の通りです。"
   ]
  },
  {
   "cell_type": "code",
   "execution_count": null,
   "metadata": {
    "collapsed": false
   },
   "outputs": [],
   "source": [
    "score = 29\n",
    "if score >= 80:\n",
    "    print(\"点数は80以上です。\")\n",
    "elif score >= 60:\n",
    "    print(\"点数は80未満、60以上です。\")\n",
    "elif score >= 30:\n",
    "    print(\"点数は60未満、30以上です。\")\n",
    "else:\n",
    "    print(\"点数は30未満です。\")"
   ]
  },
  {
   "cell_type": "markdown",
   "metadata": {
    "collapsed": true
   },
   "source": [
    "score = 29の数字を色々変えて動作の違いを確認してみてください。"
   ]
  }
 ],
 "metadata": {
  "anaconda-cloud": {},
  "kernelspec": {
   "display_name": "Python [default]",
   "language": "python",
   "name": "python3"
  },
  "language_info": {
   "codemirror_mode": {
    "name": "ipython",
    "version": 3
   },
   "file_extension": ".py",
   "mimetype": "text/x-python",
   "name": "python",
   "nbconvert_exporter": "python",
   "pygments_lexer": "ipython3",
   "version": "3.5.2"
  }
 },
 "nbformat": 4,
 "nbformat_minor": 1
}
