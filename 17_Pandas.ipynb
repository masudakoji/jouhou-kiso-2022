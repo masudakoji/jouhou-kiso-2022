{
 "cells": [
  {
   "cell_type": "markdown",
   "metadata": {},
   "source": [
    "# 1年情報基礎 - pandas - "
   ]
  },
  {
   "cell_type": "markdown",
   "metadata": {},
   "source": [
    "## pandasとは"
   ]
  },
  {
   "cell_type": "markdown",
   "metadata": {},
   "source": [
    "pandas（パンダス）とは、データ解析に使われるPythonのライブラリです。DataFrameという形式のオブジェクトなどを使ってデータ解析を行うことができます。"
   ]
  },
  {
   "cell_type": "markdown",
   "metadata": {},
   "source": [
    "#### ライブラリインポート"
   ]
  },
  {
   "cell_type": "markdown",
   "metadata": {},
   "source": [
    "ライブラリをインポートする際には別名をつけることができますが、pandasの場合は「pd」を使うときが一般的です。ここでは、合わせてmatplotlibや、seabornというライブラリもインポートしておきます。"
   ]
  },
  {
   "cell_type": "code",
   "execution_count": null,
   "metadata": {
    "collapsed": true
   },
   "outputs": [],
   "source": [
    "import pandas as pd\n",
    "import matplotlib.pyplot as plt\n",
    "import seaborn as sns"
   ]
  },
  {
   "cell_type": "markdown",
   "metadata": {},
   "source": [
    "#### DataFrameとSeries"
   ]
  },
  {
   "cell_type": "markdown",
   "metadata": {},
   "source": [
    "DataFrameとは、pandasで使用されるオブジェクトの一つで、表形式のデータ（二次元配列）を扱うのに使用します。他にもSeriesというオブジェクトもあります。これは一次元配列を表すために使われます。DataFrame形式の1列を取り出すと、Series形式となります。（Series形式のまとめると表形式のDataFrameになります。）"
   ]
  },
  {
   "cell_type": "markdown",
   "metadata": {},
   "source": [
    "#### サンプルデータ作成"
   ]
  },
  {
   "cell_type": "markdown",
   "metadata": {},
   "source": [
    "ここでは、サンプルのDataFrameを使ってデータ解析を行ってみましょう。"
   ]
  },
  {
   "cell_type": "code",
   "execution_count": null,
   "metadata": {
    "collapsed": true
   },
   "outputs": [],
   "source": [
    "df = pd.DataFrame(\n",
    "    data = {\n",
    "        \"col1\": [\"Philip\", \"Logan\", \"Elsa\", \"Edwards\", \"Tayor\", \"Amy\", \"Fredric\", \"Jaime\", \"Sandra\", \"Melvyn\"],\n",
    "        \"col2\": [\"Male\", \"Male\", \"Female\", \"Male\", \"Female\", \"Female\", \"Male\", \"Female\", \"Female\", \"Male\"],\n",
    "        \"col3\": [69, 53, 69, 52, 62, 98, 57, 82, 96, 71],\n",
    "        \"col4\": [94, 90, 57, 81, 81, 97, 79, 92, 96, 82],\n",
    "        \"col5\": [74, 99, 86, 82, 96, 82, 60, 67, 57, 50],\n",
    "        \"col6\": [64, 51, 73, 55, 59, 65, 78, 72, 61, 87],\n",
    "        \"col7\": [50, 54, 79, 94, 94, 56, 66, 74, 64, 81],\n",
    "        \"col8\": [90, 75, 65, 80, 50, 90, 80, 80, 65, 80],\n",
    "        \"col9\": [82, 50, 85, 85, 65, 66, 55, 52, 83, 90]\n",
    "    }\n",
    ")\n",
    "df.columns = [\"name\", \"sex\", \"math\", \"physics\", \"chemistry\", \"biology\", \"history\", \"art\", \"music\"]"
   ]
  },
  {
   "cell_type": "markdown",
   "metadata": {},
   "source": [
    "これで、DataFrame形式のファイルが作成されました。ファイル名は`df`としています。"
   ]
  },
  {
   "cell_type": "markdown",
   "metadata": {},
   "source": [
    "### DataFrame形式のデータを見る"
   ]
  },
  {
   "cell_type": "markdown",
   "metadata": {},
   "source": [
    "DataFrame形式のファイルはデータを表示したり、簡単な統計処理を行うことができます。"
   ]
  },
  {
   "cell_type": "markdown",
   "metadata": {},
   "source": [
    "#### DataFrameの表示"
   ]
  },
  {
   "cell_type": "markdown",
   "metadata": {},
   "source": [
    "Jupyter Notebookの場合、ファイル名を打って実行するだけで、DataFrameの中身を表示できます。データ数が多いDataFrameの場合、途中が省略されて表示される。（今回の場合、データ数は10なので、特に省略されません）"
   ]
  },
  {
   "cell_type": "code",
   "execution_count": null,
   "metadata": {},
   "outputs": [],
   "source": [
    "df"
   ]
  },
  {
   "cell_type": "markdown",
   "metadata": {},
   "source": [
    "このように、見やすい形で表示されます。DataFrameが表形式のデータだということがよくわかります。名前、性別、各教科の点数などを含んでいます。DataFrameでは、行（ここでは各個人のデータ）のことを**index**、列（ここでは名前、性別、点数）のことを**column**と呼びます。"
   ]
  },
  {
   "cell_type": "markdown",
   "metadata": {},
   "source": [
    "これを図で表すと次のようになります。\n",
    "![](https://raw.githubusercontent.com/masudakoji/jouhou-kiso-2022/main/images/Pandas/df01.png)"
   ]
  },
  {
   "cell_type": "markdown",
   "metadata": {},
   "source": [
    "#### DataFrameの表示（一部分）"
   ]
  },
  {
   "cell_type": "markdown",
   "metadata": {},
   "source": [
    "DataFrameオブジェクトの後に「.head()」とつけると、データの先頭5つが表示されます。"
   ]
  },
  {
   "cell_type": "code",
   "execution_count": null,
   "metadata": {},
   "outputs": [],
   "source": [
    "df.head()"
   ]
  },
  {
   "cell_type": "markdown",
   "metadata": {},
   "source": [
    "「.head()」の括弧内に数字を入れると表示されるデータ数を変更できます。"
   ]
  },
  {
   "cell_type": "code",
   "execution_count": null,
   "metadata": {},
   "outputs": [],
   "source": [
    "df.head(3)"
   ]
  },
  {
   "cell_type": "markdown",
   "metadata": {},
   "source": [
    "DataFrameオブジェクトの後に「.tail()」とつけると、データの後尾5つが表示されます。"
   ]
  },
  {
   "cell_type": "code",
   "execution_count": null,
   "metadata": {},
   "outputs": [],
   "source": [
    "df.tail()"
   ]
  },
  {
   "cell_type": "code",
   "execution_count": null,
   "metadata": {},
   "outputs": [],
   "source": [
    "df.tail(3)"
   ]
  },
  {
   "cell_type": "markdown",
   "metadata": {},
   "source": [
    "#### DataFrameの大きさ、形状"
   ]
  },
  {
   "cell_type": "markdown",
   "metadata": {},
   "source": [
    "Pythonの機能でlen関数というのがありました。これは、リストなどで、要素の数を表示するのに使いました。DataFrameでも同様に使えます。"
   ]
  },
  {
   "cell_type": "code",
   "execution_count": null,
   "metadata": {},
   "outputs": [],
   "source": [
    "len(df)"
   ]
  },
  {
   "cell_type": "markdown",
   "metadata": {},
   "source": [
    "このようにデータ数が10であることがわかりました。これはDataFrameの行数に対応しています。"
   ]
  },
  {
   "cell_type": "markdown",
   "metadata": {},
   "source": [
    "DataFrameオブジェクトの後に「.shape」とつけると、DataFrameの形状が（行数・列数）として表示されます。"
   ]
  },
  {
   "cell_type": "code",
   "execution_count": null,
   "metadata": {},
   "outputs": [],
   "source": [
    "df.shape"
   ]
  },
  {
   "cell_type": "markdown",
   "metadata": {},
   "source": [
    "このように、10行（学生数が10）、9列（名前や性別などの項目数が9）であることがわかります。"
   ]
  },
  {
   "cell_type": "markdown",
   "metadata": {},
   "source": [
    "DataFrameオブジェクトの後に「.info()」とつけると、より詳細に表示されます。データ数がいくつか、どのような名前の項目なのか（またデータは整数なのか、実数なのか、なども）表示されます。"
   ]
  },
  {
   "cell_type": "markdown",
   "metadata": {},
   "source": [
    "#### DataFrameの概要"
   ]
  },
  {
   "cell_type": "code",
   "execution_count": null,
   "metadata": {},
   "outputs": [],
   "source": [
    "df.info()"
   ]
  },
  {
   "cell_type": "markdown",
   "metadata": {},
   "source": [
    "DataFrameオブジェクトの後に「.describe()」とつけると様々な統計データが表示されます。"
   ]
  },
  {
   "cell_type": "markdown",
   "metadata": {},
   "source": [
    "#### DataFrameの統計量"
   ]
  },
  {
   "cell_type": "code",
   "execution_count": null,
   "metadata": {},
   "outputs": [],
   "source": [
    "df.describe()"
   ]
  },
  {
   "cell_type": "markdown",
   "metadata": {},
   "source": [
    "数値データからなる項目（今回は各教科の点数）について統計データが表示されました。各項目の意味は以下の通りです。"
   ]
  },
  {
   "cell_type": "markdown",
   "metadata": {},
   "source": [
    "| 項目 | 内容 |\n",
    "| :-- | :-- |\n",
    "| count | データの個数 |\n",
    "| mean | 平均 |\n",
    "| std | 標準偏差 |\n",
    "| min | 最小値 |\n",
    "| 25% | データを下から（小さい方から）並べた時に25%の位置にある値 |\n",
    "| 50% | データを下から（小さい方から）並べた時に50%の位置にある値 |\n",
    "| 75% | データを下から（小さい方から）並べた時に75%の位置にある値 |\n",
    "| max | 最大値 |"
   ]
  },
  {
   "cell_type": "markdown",
   "metadata": {},
   "source": [
    "### データの切り出し（列の抽出）"
   ]
  },
  {
   "cell_type": "markdown",
   "metadata": {},
   "source": [
    "**df[\"列名\"]**とすると、その列だけ抽出して表示できます。"
   ]
  },
  {
   "cell_type": "code",
   "execution_count": null,
   "metadata": {},
   "outputs": [],
   "source": [
    "df[\"name\"]"
   ]
  },
  {
   "cell_type": "markdown",
   "metadata": {},
   "source": [
    "このように名前の列だけ表示されます。数値データであっても同様に表示できます。"
   ]
  },
  {
   "cell_type": "code",
   "execution_count": null,
   "metadata": {
    "scrolled": true
   },
   "outputs": [],
   "source": [
    "df[\"physics\"]"
   ]
  },
  {
   "cell_type": "markdown",
   "metadata": {},
   "source": [
    "複数の列名を指定することもできます。その場合、**df[[\"列名1\", \"列名2\"]]**のように書きます。列名をカンマで区切り、まとめて、**[]**で囲っていることに注意してください。"
   ]
  },
  {
   "cell_type": "code",
   "execution_count": null,
   "metadata": {
    "scrolled": true
   },
   "outputs": [],
   "source": [
    "df[[\"physics\", \"math\"]]"
   ]
  },
  {
   "cell_type": "markdown",
   "metadata": {},
   "source": [
    "#### 抽出したデータの解析"
   ]
  },
  {
   "cell_type": "markdown",
   "metadata": {},
   "source": [
    "数値データの場合、抽出した列の後に「.mean()」とつけるとそのデータの平均値が表示されます。"
   ]
  },
  {
   "cell_type": "code",
   "execution_count": null,
   "metadata": {},
   "outputs": [],
   "source": [
    "df[\"physics\"].mean()"
   ]
  },
  {
   "cell_type": "markdown",
   "metadata": {},
   "source": [
    "物理の平均点が84.9であることがわかりました。"
   ]
  },
  {
   "cell_type": "markdown",
   "metadata": {},
   "source": [
    "##### 重複を除いた件数"
   ]
  },
  {
   "cell_type": "markdown",
   "metadata": {},
   "source": [
    "抽出した列の後に「.unique()」とつけると、重複がないようにデータ項目が表示されます。"
   ]
  },
  {
   "cell_type": "code",
   "execution_count": null,
   "metadata": {
    "scrolled": true
   },
   "outputs": [],
   "source": [
    "df[\"name\"].unique()"
   ]
  },
  {
   "cell_type": "markdown",
   "metadata": {},
   "source": [
    "名前は重複がないので、このように10項目表示されています。"
   ]
  },
  {
   "cell_type": "code",
   "execution_count": null,
   "metadata": {
    "scrolled": true
   },
   "outputs": [],
   "source": [
    "df[\"art\"].unique()"
   ]
  },
  {
   "cell_type": "markdown",
   "metadata": {},
   "source": [
    "芸術の点数は重複があるため、5項目しか表示されていません。"
   ]
  },
  {
   "cell_type": "markdown",
   "metadata": {},
   "source": [
    "##### 出現回数"
   ]
  },
  {
   "cell_type": "markdown",
   "metadata": {},
   "source": [
    "抽出した列の後に「.value_counts()」とつけると、データ項目がカウントされて表示されます。"
   ]
  },
  {
   "cell_type": "code",
   "execution_count": null,
   "metadata": {
    "scrolled": true
   },
   "outputs": [],
   "source": [
    "df[\"art\"].value_counts()"
   ]
  },
  {
   "cell_type": "markdown",
   "metadata": {},
   "source": [
    "点数がカウントされていることがわかります。芸術の点数は重複があるようです。"
   ]
  },
  {
   "cell_type": "markdown",
   "metadata": {},
   "source": [
    "### データの並べ替え"
   ]
  },
  {
   "cell_type": "markdown",
   "metadata": {},
   "source": [
    "DataFrameの後に「.sort_values()」とつけることで並べ替えを行うことができます。()の中には「by=\"並べ替えたい項目名\"」とします。"
   ]
  },
  {
   "cell_type": "markdown",
   "metadata": {},
   "source": [
    "数学の点数で並べるには次のようにします。"
   ]
  },
  {
   "cell_type": "code",
   "execution_count": null,
   "metadata": {},
   "outputs": [],
   "source": [
    "df.sort_values(by=\"math\")"
   ]
  },
  {
   "cell_type": "markdown",
   "metadata": {},
   "source": [
    "数学の点数を使って、表全体を並べ変えることができました。特に指定しないと昇順（数字が大きくなる順）で並び替えられます。これを降順（数字が小さくなる順）で並び替えるには、次のように「`ascending=False`」という指定をします。（ascendingは「昇順」という意味です。特に指定しないと`ascending=True`と解釈されます）"
   ]
  },
  {
   "cell_type": "code",
   "execution_count": null,
   "metadata": {},
   "outputs": [],
   "source": [
    "df.sort_values(by=\"math\", ascending=False)"
   ]
  },
  {
   "cell_type": "markdown",
   "metadata": {},
   "source": [
    "数学の点数が降順になるように、表全体を並べ変えることができました。"
   ]
  },
  {
   "cell_type": "markdown",
   "metadata": {},
   "source": [
    "### データの切り出し（検索）"
   ]
  },
  {
   "cell_type": "markdown",
   "metadata": {},
   "source": [
    "まず最初に次のような例を見てみましょう。"
   ]
  },
  {
   "cell_type": "code",
   "execution_count": null,
   "metadata": {},
   "outputs": [],
   "source": [
    "df[df[\"name\"]==\"Elsa\"]"
   ]
  },
  {
   "cell_type": "markdown",
   "metadata": {},
   "source": [
    "Elsaのデータだけが抽出されていることがわかります。"
   ]
  },
  {
   "cell_type": "markdown",
   "metadata": {},
   "source": [
    "これを図で表すと次のようになります。\n",
    "![](https://raw.githubusercontent.com/masudakoji/jouhou-kiso-2022/main/images/Pandas/df02.png)"
   ]
  },
  {
   "cell_type": "markdown",
   "metadata": {},
   "source": [
    "どういう構造か把握するために、次のような例をみてみましょう。"
   ]
  },
  {
   "cell_type": "code",
   "execution_count": null,
   "metadata": {},
   "outputs": [],
   "source": [
    "df[[False, False, True, False, False, False, False, False, False, False]]"
   ]
  },
  {
   "cell_type": "markdown",
   "metadata": {},
   "source": [
    "\"False\"や\"True\"が並んでいます（項目数が10個）そのうち3番目だけが\"True\"でそれ以外が\"False\"です。このDataFrameの3番目は\"Elsa\"のデータですので、Elsaのデータだけが抽出されます。"
   ]
  },
  {
   "cell_type": "markdown",
   "metadata": {},
   "source": [
    "ここで、次のような例をみてみましょう。"
   ]
  },
  {
   "cell_type": "code",
   "execution_count": null,
   "metadata": {},
   "outputs": [],
   "source": [
    "df[\"name\"]==\"Elsa\""
   ]
  },
  {
   "cell_type": "markdown",
   "metadata": {},
   "source": [
    "「==\"Elsa\"」という条件文を\"name\"という列の項目を一つ一つでみていって\"name\"が\"Elsa\"のところだけ`True`となっています。"
   ]
  },
  {
   "cell_type": "markdown",
   "metadata": {},
   "source": [
    "一番最初の例は、**df[\"name\"]==\"Elsa\"**で得られる結果が**df[（ここ）]**にはいることで\"Elsa\"のデータだけを抽出できたことがわかります。"
   ]
  },
  {
   "cell_type": "markdown",
   "metadata": {},
   "source": [
    "先ほどのものは、条件文ですので、他の条件文でも抽出することができます。"
   ]
  },
  {
   "cell_type": "code",
   "execution_count": null,
   "metadata": {},
   "outputs": [],
   "source": [
    "df[df[\"math\"] < 60]"
   ]
  },
  {
   "cell_type": "markdown",
   "metadata": {},
   "source": [
    "このようにすると、数学の点数が60に満たなかった学生が抽出できていることがわかります。"
   ]
  },
  {
   "cell_type": "markdown",
   "metadata": {},
   "source": [
    "これを図で表すと次のようになります。\n",
    "![](https://raw.githubusercontent.com/masudakoji/jouhou-kiso-2022/main/images/Pandas/df03.png)"
   ]
  },
  {
   "cell_type": "markdown",
   "metadata": {},
   "source": [
    "#### 検索して抽出したデータを使った演算"
   ]
  },
  {
   "cell_type": "markdown",
   "metadata": {},
   "source": [
    "このようにして抽出できたデータはそれ自身がDataFrame形式ですので、次のように列の抽出をすることもできます。"
   ]
  },
  {
   "cell_type": "markdown",
   "metadata": {},
   "source": [
    "まずは、男性のデータだけを抽出してみます。"
   ]
  },
  {
   "cell_type": "code",
   "execution_count": null,
   "metadata": {},
   "outputs": [],
   "source": [
    "df[df[\"sex\"]==\"Male\"]"
   ]
  },
  {
   "cell_type": "markdown",
   "metadata": {},
   "source": [
    "これを図で表すと次のようになります。\n",
    "![](https://raw.githubusercontent.com/masudakoji/jouhou-kiso-2022/main/images/Pandas/df04.png)"
   ]
  },
  {
   "cell_type": "markdown",
   "metadata": {},
   "source": [
    "抽出したデータのうち\"math\"の列だけを取り出すことで、数学の点数だけ取り出すことができます。"
   ]
  },
  {
   "cell_type": "code",
   "execution_count": null,
   "metadata": {},
   "outputs": [],
   "source": [
    "df[df[\"sex\"]==\"Male\"][\"math\"]"
   ]
  },
  {
   "cell_type": "markdown",
   "metadata": {},
   "source": [
    "これに「.mean()」をつけることで、「男子学生の数学の平均点」が計算できます。"
   ]
  },
  {
   "cell_type": "code",
   "execution_count": null,
   "metadata": {},
   "outputs": [],
   "source": [
    "df[df[\"sex\"]==\"Male\"][\"math\"].mean()"
   ]
  },
  {
   "cell_type": "markdown",
   "metadata": {},
   "source": [
    "### 複数条件を使った抽出（論理演算子の使用）"
   ]
  },
  {
   "cell_type": "markdown",
   "metadata": {},
   "source": [
    "Pythonではこれまでに扱った条件文のところで論理演算子を使って、複数の条件を使った条件分岐をおこなってきました。DataFrameでも同様のことができます。"
   ]
  },
  {
   "cell_type": "markdown",
   "metadata": {},
   "source": [
    "#### \"かつ\"（and条件）"
   ]
  },
  {
   "cell_type": "markdown",
   "metadata": {},
   "source": [
    "まず、化学の点数が90点以上の学生は次のように抽出できます。"
   ]
  },
  {
   "cell_type": "code",
   "execution_count": null,
   "metadata": {},
   "outputs": [],
   "source": [
    "df[df[\"chemistry\"] >= 90]"
   ]
  },
  {
   "cell_type": "markdown",
   "metadata": {},
   "source": [
    "物理の点数が90点以上の学生は次のように抽出できます。"
   ]
  },
  {
   "cell_type": "code",
   "execution_count": null,
   "metadata": {},
   "outputs": [],
   "source": [
    "df[df[\"physics\"] >= 90]"
   ]
  },
  {
   "cell_type": "markdown",
   "metadata": {},
   "source": [
    "これらの条件を両方とも満たす学生、つまり「化学も物理も90点以上の学生」を抽出するには次のようにします。"
   ]
  },
  {
   "cell_type": "code",
   "execution_count": null,
   "metadata": {},
   "outputs": [],
   "source": [
    "df[(df[\"chemistry\"] >= 90) & (df[\"physics\"] >= 90)]"
   ]
  },
  {
   "cell_type": "markdown",
   "metadata": {},
   "source": [
    "Loganだけが化学も物理も90点以上だったことがわかりました。"
   ]
  },
  {
   "cell_type": "markdown",
   "metadata": {},
   "source": [
    "これを図で表すと次のようになります。\n",
    "![](https://raw.githubusercontent.com/masudakoji/jouhou-kiso-2022/main/images/Pandas/df05.png)"
   ]
  },
  {
   "cell_type": "markdown",
   "metadata": {},
   "source": [
    "このような条件（AND条件）は次のようにして設定します。"
   ]
  },
  {
   "cell_type": "code",
   "execution_count": null,
   "metadata": {},
   "outputs": [],
   "source": [
    "(df[\"chemistry\"] >= 90) & (df[\"physics\"] >= 90)"
   ]
  },
  {
   "cell_type": "markdown",
   "metadata": {},
   "source": [
    "2番目の学生（これがLoganです）だけがTrueとなっています。このように、**(条件1) & (条件2)**として設定します。条件ごとに括弧でくくるという点に注意してください。また、Pythonの条件文でのAND条件は ** 条件1 and 条件2 **のように「and」で繋げますが、DataFrameの場合「**&**」という記号を使うことにも注意してください。"
   ]
  },
  {
   "cell_type": "markdown",
   "metadata": {},
   "source": [
    "今回の例は、**(df[\"chemistry\"] >= 90) & (df[\"physics\"] >= 90)**で得られる結果が**df[（ここ）]**にはいることで、「化学も物理も90点以上の学生」だけを抽出できたことがわかります。"
   ]
  },
  {
   "cell_type": "markdown",
   "metadata": {},
   "source": [
    "#### \"または\"（or条件）"
   ]
  },
  {
   "cell_type": "markdown",
   "metadata": {},
   "source": [
    "今度は、「または」を意味する条件（OR条件）を考えてみましょう。"
   ]
  },
  {
   "cell_type": "markdown",
   "metadata": {},
   "source": [
    "まず、数学の点数が90点以上の学生は次のように抽出できます。"
   ]
  },
  {
   "cell_type": "code",
   "execution_count": null,
   "metadata": {},
   "outputs": [],
   "source": [
    "df[df[\"math\"] >= 90]"
   ]
  },
  {
   "cell_type": "markdown",
   "metadata": {},
   "source": [
    "化学の点数が90点以上の学生は次のように抽出できます。"
   ]
  },
  {
   "cell_type": "code",
   "execution_count": null,
   "metadata": {},
   "outputs": [],
   "source": [
    "df[df[\"chemistry\"] >= 90]"
   ]
  },
  {
   "cell_type": "markdown",
   "metadata": {},
   "source": [
    "これを図で表すと次のようになります。\n",
    "![](https://raw.githubusercontent.com/masudakoji/jouhou-kiso-2022/main/images/Pandas/df06.png)"
   ]
  },
  {
   "cell_type": "markdown",
   "metadata": {},
   "source": [
    "これらの条件のどちらかを満たす学生、つまり「数学もしくは化学で90点以上の学生」を抽出するには次のようにします。"
   ]
  },
  {
   "cell_type": "code",
   "execution_count": null,
   "metadata": {},
   "outputs": [],
   "source": [
    "df[(df[\"math\"] >= 90) | (df[\"chemistry\"] >= 90)]"
   ]
  },
  {
   "cell_type": "markdown",
   "metadata": {},
   "source": [
    "AND条件の時と似たような書き方になります。Pythonの条件文で「または」を表す場合「or」を使いましたが、DataFrameの場合「**|**」という記号を使うことにも注意してください。"
   ]
  },
  {
   "cell_type": "markdown",
   "metadata": {},
   "source": [
    "### インデックス番号（行番号）などを使った抽出"
   ]
  },
  {
   "cell_type": "markdown",
   "metadata": {},
   "source": [
    "DataFrameは、行をindex、列をcolumnのように呼びますが、この行番号（や列番号）を使ってデータを抽出することができます。"
   ]
  },
  {
   "cell_type": "markdown",
   "metadata": {},
   "source": [
    "DataFrameの後に「iloc」つけることで、次のように抽出することができます。"
   ]
  },
  {
   "cell_type": "code",
   "execution_count": null,
   "metadata": {},
   "outputs": [],
   "source": [
    "df.iloc[0]"
   ]
  },
  {
   "cell_type": "markdown",
   "metadata": {},
   "source": [
    "**df.iloc[行番号]**として指定します。"
   ]
  },
  {
   "cell_type": "markdown",
   "metadata": {},
   "source": [
    "行番号（や列番号）は0から始まりますので、行番号0というのは先頭のデータですのでPhilipのデータが抽出されました。"
   ]
  },
  {
   "cell_type": "markdown",
   "metadata": {},
   "source": [
    "これを図で表すと次のようになります。\n",
    "![](https://raw.githubusercontent.com/masudakoji/jouhou-kiso-2022/main/images/Pandas/df07.png)"
   ]
  },
  {
   "cell_type": "markdown",
   "metadata": {},
   "source": [
    "列番号も同時に指定するには次のようにします。"
   ]
  },
  {
   "cell_type": "code",
   "execution_count": null,
   "metadata": {
    "scrolled": true
   },
   "outputs": [],
   "source": [
    "df.iloc[0,2:9]"
   ]
  },
  {
   "cell_type": "markdown",
   "metadata": {},
   "source": [
    "**df.iloc[行番号,列番号]**として指定されています。"
   ]
  },
  {
   "cell_type": "markdown",
   "metadata": {},
   "source": [
    "これで、行番号が0で、列番号が「2から始まり9に満たない範囲」で抽出されました。範囲を持った抽出はリストの抽出と類似しています。"
   ]
  },
  {
   "cell_type": "markdown",
   "metadata": {},
   "source": [
    "これを図で表すと次のようになります。\n",
    "![](https://raw.githubusercontent.com/masudakoji/jouhou-kiso-2022/main/images/Pandas/df08.png)"
   ]
  },
  {
   "cell_type": "markdown",
   "metadata": {},
   "source": [
    "行番号も範囲を持たせて抽出すると次のようになります。"
   ]
  },
  {
   "cell_type": "code",
   "execution_count": null,
   "metadata": {},
   "outputs": [],
   "source": [
    "df.iloc[0:3,2:9]"
   ]
  },
  {
   "cell_type": "markdown",
   "metadata": {},
   "source": [
    "先頭の3人の点数データだけが抽出されていることがわかります。"
   ]
  },
  {
   "cell_type": "markdown",
   "metadata": {},
   "source": [
    "これを図で表すと次のようになります。\n",
    "![](https://raw.githubusercontent.com/masudakoji/jouhou-kiso-2022/main/images/Pandas/df09.png)"
   ]
  },
  {
   "cell_type": "markdown",
   "metadata": {},
   "source": [
    "行番号や列番号に「**:**」を指定すると全データが対象となります。"
   ]
  },
  {
   "cell_type": "code",
   "execution_count": null,
   "metadata": {},
   "outputs": [],
   "source": [
    "df.iloc[:,2:9]"
   ]
  },
  {
   "cell_type": "markdown",
   "metadata": {},
   "source": [
    "列番号に「:」を指定したので、全学生の点数データだけが抽出されていることがわかります。"
   ]
  },
  {
   "cell_type": "markdown",
   "metadata": {},
   "source": [
    "これを図で表すと次のようになります。\n",
    "![](https://raw.githubusercontent.com/masudakoji/jouhou-kiso-2022/main/images/Pandas/df10.png)"
   ]
  },
  {
   "cell_type": "markdown",
   "metadata": {},
   "source": [
    "### データを使った演算"
   ]
  },
  {
   "cell_type": "markdown",
   "metadata": {},
   "source": [
    "DataFrameは表形式のデータですので、これを使った演算を行うこともできます。DataFrameオブジェクトの後に「.sum()」とつけることで合計を計算できます。"
   ]
  },
  {
   "cell_type": "code",
   "execution_count": null,
   "metadata": {},
   "outputs": [],
   "source": [
    "df.sum()"
   ]
  },
  {
   "cell_type": "markdown",
   "metadata": {},
   "source": [
    "文字列のデータは「合計」ではなく文字列が連結されてしまっていますが、数値データについては、合計点が計算できています。（10人分の）数学の合計点は709点、物理の合計点は849点であることがわかります。"
   ]
  },
  {
   "cell_type": "markdown",
   "metadata": {},
   "source": [
    "DataFrameオブジェクトの後に「.mean()」とつけることで平均を計算できます。"
   ]
  },
  {
   "cell_type": "code",
   "execution_count": null,
   "metadata": {},
   "outputs": [],
   "source": [
    "df.mean()"
   ]
  },
  {
   "cell_type": "markdown",
   "metadata": {},
   "source": [
    "ただ、このような合計を計算する時には、「教科ごとの合計・平均」ではなく「学生ごとの合計・平均」も計算したいかと思います。その場合は、次のように「axis=1」と指定します。axis=1と指定することで横方向に合計・平均を計算できます。（特に指定しないとaxis=0と解釈されて、縦方向に合計・平均が計算されます。）"
   ]
  },
  {
   "cell_type": "code",
   "execution_count": null,
   "metadata": {},
   "outputs": [],
   "source": [
    "df.sum(axis=1)"
   ]
  },
  {
   "cell_type": "code",
   "execution_count": null,
   "metadata": {},
   "outputs": [],
   "source": [
    "df.mean(axis=1)"
   ]
  },
  {
   "cell_type": "markdown",
   "metadata": {},
   "source": [
    "演算された結果を使って新しい列を追加することもできます。例えば、各学生ごとの合計点を計算して、それを\"sum\"という列として追加したい場合には、次のようにします。"
   ]
  },
  {
   "cell_type": "code",
   "execution_count": null,
   "metadata": {
    "collapsed": true
   },
   "outputs": [],
   "source": [
    "df[\"sum\"] = df.sum(axis=1)"
   ]
  },
  {
   "cell_type": "markdown",
   "metadata": {},
   "source": [
    "どのように追加されたか、確認してみましょう。"
   ]
  },
  {
   "cell_type": "code",
   "execution_count": null,
   "metadata": {},
   "outputs": [],
   "source": [
    "df"
   ]
  },
  {
   "cell_type": "markdown",
   "metadata": {},
   "source": [
    "各学生ごとの合計点がsumという列に追加されています。"
   ]
  },
  {
   "cell_type": "markdown",
   "metadata": {},
   "source": [
    "同様に、平均点をmeanという列として追加してみましょう。ただ、ここで、一つ問題があります。すでにDataFrameには\"sum\"の列が追加されてしまっています。これに対して、mean()を計算してしまうと、合計点も使って平均点が計算されてしまいます。"
   ]
  },
  {
   "cell_type": "code",
   "execution_count": null,
   "metadata": {},
   "outputs": [],
   "source": [
    "df.mean(axis=1)"
   ]
  },
  {
   "cell_type": "markdown",
   "metadata": {},
   "source": [
    "このように明らかにおかしい平均点が計算されてしまいました。このようなことを防ぐには、meanを計算する際に、計算したい範囲だけilocなどで抽出してから計算する必要があります。"
   ]
  },
  {
   "cell_type": "markdown",
   "metadata": {},
   "source": [
    "全学生の点数データだけを抽出するにはilocを使って次のようにします。"
   ]
  },
  {
   "cell_type": "code",
   "execution_count": null,
   "metadata": {},
   "outputs": [],
   "source": [
    "df.iloc[:,2:9]"
   ]
  },
  {
   "cell_type": "markdown",
   "metadata": {},
   "source": [
    "これを使って各学生を使って平均点を算出します。"
   ]
  },
  {
   "cell_type": "code",
   "execution_count": null,
   "metadata": {},
   "outputs": [],
   "source": [
    "df.iloc[:,2:9].mean(axis=1)"
   ]
  },
  {
   "cell_type": "markdown",
   "metadata": {},
   "source": [
    "これで、正しい平均点が計算できました。これを使って、新しい列\"mean\"を追加してみましょう。"
   ]
  },
  {
   "cell_type": "code",
   "execution_count": null,
   "metadata": {
    "collapsed": true
   },
   "outputs": [],
   "source": [
    "df[\"mean\"]=df.iloc[:,2:9].mean(axis=1)"
   ]
  },
  {
   "cell_type": "markdown",
   "metadata": {},
   "source": [
    "どのように追加されたか、確認してみましょう。"
   ]
  },
  {
   "cell_type": "code",
   "execution_count": null,
   "metadata": {},
   "outputs": [],
   "source": [
    "df"
   ]
  },
  {
   "cell_type": "markdown",
   "metadata": {},
   "source": [
    "各学生ごとの平均点がmeanという列に追加されています。"
   ]
  },
  {
   "cell_type": "markdown",
   "metadata": {},
   "source": [
    "同様に考えると、合計点も次のように計算することが望ましいです。（こうしておかないと、合計を計算するごとに値がずれてきてしまう）"
   ]
  },
  {
   "cell_type": "code",
   "execution_count": null,
   "metadata": {
    "collapsed": true
   },
   "outputs": [],
   "source": [
    "df[\"sum\"]=df.iloc[:,2:9].sum(axis=1)"
   ]
  },
  {
   "cell_type": "markdown",
   "metadata": {},
   "source": [
    "### DataFrameを使った可視化"
   ]
  },
  {
   "cell_type": "markdown",
   "metadata": {},
   "source": [
    "Pythonではmatplotlibを使って可視化できましたが、DataFrame形式のオブジェクトを使って可視化することもできます。"
   ]
  },
  {
   "cell_type": "markdown",
   "metadata": {},
   "source": [
    "#### 演算結果を使った可視化"
   ]
  },
  {
   "cell_type": "markdown",
   "metadata": {},
   "source": [
    "DataFrameでは様々な演算が行えるので、その結果を使って可視化してみましょう。"
   ]
  },
  {
   "cell_type": "markdown",
   "metadata": {},
   "source": [
    "すでに、各学生の平均点が計算されて\"mean\"列に格納されています。この\"mean\"列を基準にして降順（数字が小さくなる順）で並び替えてみます。"
   ]
  },
  {
   "cell_type": "code",
   "execution_count": null,
   "metadata": {},
   "outputs": [],
   "source": [
    "df.sort_values('mean', ascending=False)"
   ]
  },
  {
   "cell_type": "markdown",
   "metadata": {},
   "source": [
    "これを使って点数の分布票を作ってみましょう。欲しいデータは\"mean\"列だけなので、それだけ取り出してみましょう。さらに、取り出したデータを`s`という変数としておきましょう。"
   ]
  },
  {
   "cell_type": "code",
   "execution_count": null,
   "metadata": {},
   "outputs": [],
   "source": [
    "s = df.sort_values('mean', ascending=False)[\"mean\"]\n",
    "s"
   ]
  },
  {
   "cell_type": "markdown",
   "metadata": {},
   "source": [
    "このようにして取り出されたデータ（列だけとり出したデータ）はSeriesという形式（一次元配列）です。また、プロットする際にはインデックス番号（各データについている、5,9,3,0...という値）がx軸にプロットされます。このままだと、点数順にプロットされないので、インデックス番号をリセットする必要があります。"
   ]
  },
  {
   "cell_type": "markdown",
   "metadata": {},
   "source": [
    "Series形式のオブジェクトの後に「.reset_index()」とつけるとインデックス番号がリセットされます。この時「drop=True」と指定しておかないと古いインデックス番号が残ってしまいます。"
   ]
  },
  {
   "cell_type": "code",
   "execution_count": null,
   "metadata": {},
   "outputs": [],
   "source": [
    "s = s.reset_index(drop=True)\n",
    "s"
   ]
  },
  {
   "cell_type": "markdown",
   "metadata": {},
   "source": [
    "このように、インデックス番号が0から始まる数字となり、データ本体も平均点が降順で並んでいる事がわかります。"
   ]
  },
  {
   "cell_type": "markdown",
   "metadata": {},
   "source": [
    "他の方法として、インデックス番号を直接指定することもできます。この場合、インデックス番号を1から始めることもできます。"
   ]
  },
  {
   "cell_type": "code",
   "execution_count": null,
   "metadata": {},
   "outputs": [],
   "source": [
    "s.index = range(1,11)\n",
    "s"
   ]
  },
  {
   "cell_type": "markdown",
   "metadata": {},
   "source": [
    "このように、インデックス番号が1から始まる数字となり、データ本体も平均点が降順で並んでいる事がわかります。"
   ]
  },
  {
   "cell_type": "markdown",
   "metadata": {},
   "source": [
    "このオブジェクトをmatplotlibでプロットすると、"
   ]
  },
  {
   "cell_type": "code",
   "execution_count": null,
   "metadata": {},
   "outputs": [],
   "source": [
    "plt.plot(s, marker = \"o\")\n",
    "plt.xlabel(\"Rank\")\n",
    "plt.ylabel(\"Average Score\")\n",
    "plt.xlim(0, 12)\n",
    "plt.ylim(66, 80)\n",
    "plt.show()"
   ]
  },
  {
   "cell_type": "markdown",
   "metadata": {},
   "source": [
    "#### ヒストグラム"
   ]
  },
  {
   "cell_type": "markdown",
   "metadata": {},
   "source": [
    "DataFrame形式のオブジェクトの後ろに「.hist()」とつけるだけで、ヒストグラム（データの存在頻度）を描くこともできます。"
   ]
  },
  {
   "cell_type": "code",
   "execution_count": null,
   "metadata": {},
   "outputs": [],
   "source": [
    "df[\"physics\"].hist()\n",
    "plt.xlabel(\"Score\")\n",
    "plt.ylabel(\"Frequency\")\n",
    "plt.show()"
   ]
  },
  {
   "cell_type": "markdown",
   "metadata": {},
   "source": [
    "このように、物理の点数の分布をヒストグラムで描くことができました。ただ、ヒストグラムの分割をどのようにするかをきちんと指定するにはもう少し細かな設定が必要です。"
   ]
  },
  {
   "cell_type": "markdown",
   "metadata": {},
   "source": [
    "また、列だけを抽出したオブジェクトではなく、DataFrameオブジェクト自体に「.hist()」を指定すると、数値データそれぞれについてヒストグラムを描く事ができます。"
   ]
  },
  {
   "cell_type": "code",
   "execution_count": null,
   "metadata": {},
   "outputs": [],
   "source": [
    "df.hist()\n",
    "plt.show()"
   ]
  },
  {
   "cell_type": "code",
   "execution_count": null,
   "metadata": {
    "collapsed": true
   },
   "outputs": [],
   "source": []
  }
 ],
 "metadata": {
  "@webio": {
   "lastCommId": null,
   "lastKernelId": null
  },
  "kernelspec": {
   "display_name": "Python 3",
   "language": "python",
   "name": "python3"
  },
  "language_info": {
   "codemirror_mode": {
    "name": "ipython",
    "version": 3
   },
   "file_extension": ".py",
   "mimetype": "text/x-python",
   "name": "python",
   "nbconvert_exporter": "python",
   "pygments_lexer": "ipython3",
   "version": "3.6.4"
  }
 },
 "nbformat": 4,
 "nbformat_minor": 2
}
