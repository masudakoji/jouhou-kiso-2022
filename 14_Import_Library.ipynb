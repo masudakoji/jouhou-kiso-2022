{
 "cells": [
  {
   "cell_type": "markdown",
   "metadata": {},
   "source": [
    "# 1年情報基礎 - ライブラリ - "
   ]
  },
  {
   "cell_type": "markdown",
   "metadata": {},
   "source": [
    "ここでは、Pythonで使えるライブラリについて説明します。  \n",
    "Pythonでは、もともと使える機能や関数（組込関数、といいます）だけではなく、別のライブラリを読み込むことで、高度な演算を実行したり、機能を拡張することができます。"
   ]
  },
  {
   "cell_type": "markdown",
   "metadata": {},
   "source": [
    "## numpy"
   ]
  },
  {
   "cell_type": "markdown",
   "metadata": {},
   "source": [
    "特によく使われるものがnumpy（ナムパイ）です。numpyには数値計算を行うための機能がたくさん含まれています。  \n",
    "また、Pythonは他のプログタミング言語に比べて実行速度が遅いと言われますが、numpyの中身は別の高速な言語で書かれています。そのため、Pythonでプログラミングする際には、numpyを使うことで、高度な演算を実行できるだけではなく、高速に演算をすることができます。"
   ]
  },
  {
   "cell_type": "markdown",
   "metadata": {},
   "source": [
    "### ライブラリの使い方"
   ]
  },
  {
   "cell_type": "markdown",
   "metadata": {},
   "source": [
    "ライブラリを使えるようにする（インポートする）ためには、`import`という機能を使います。\n",
    "numpyをインポートするためには、次のようにします。"
   ]
  },
  {
   "cell_type": "code",
   "execution_count": null,
   "metadata": {
    "collapsed": true
   },
   "outputs": [],
   "source": [
    "import numpy"
   ]
  },
  {
   "cell_type": "markdown",
   "metadata": {},
   "source": [
    "また、インポートする際には別名をつけることもあります。好きな別名をつけることもできますが、ライブラリごとによく使われている別名をつけるのが無難ですので、一般的な別名をつけるようにしましょう。numpyの場合、`np`という別名が一般的です。`np`という別名をつけてnumpyをインポートするためには、次のようにします。"
   ]
  },
  {
   "cell_type": "code",
   "execution_count": null,
   "metadata": {
    "collapsed": true
   },
   "outputs": [],
   "source": [
    "import numpy as np"
   ]
  },
  {
   "cell_type": "markdown",
   "metadata": {
    "collapsed": true
   },
   "source": [
    "numpyで定義されている関数などを使う場合には、次のようにします。"
   ]
  },
  {
   "cell_type": "code",
   "execution_count": null,
   "metadata": {},
   "outputs": [],
   "source": [
    "np.cos(0)"
   ]
  },
  {
   "cell_type": "markdown",
   "metadata": {},
   "source": [
    "numpyで定義されている$\\cos$関数を使用しています。$\\cos(0)=1$であることがわかります。"
   ]
  },
  {
   "cell_type": "markdown",
   "metadata": {},
   "source": [
    "関数以外にもいくつかの定数も定義されています。例えば、円周率$\\pi$は次のように呼び出せます。"
   ]
  },
  {
   "cell_type": "code",
   "execution_count": null,
   "metadata": {},
   "outputs": [],
   "source": [
    "np.pi"
   ]
  },
  {
   "cell_type": "markdown",
   "metadata": {},
   "source": [
    "他にも様々な関数・機能がありますが、適宜紹介します。"
   ]
  },
  {
   "cell_type": "markdown",
   "metadata": {},
   "source": [
    "## math"
   ]
  },
  {
   "cell_type": "markdown",
   "metadata": {},
   "source": [
    "numpyと重なるところも一部ありますが、様々な関数や演算機能を含むライブラリとして、mathがあります。mathは特に別名をつけないことが一般的です。mathをインポートするためには、次のようにします。"
   ]
  },
  {
   "cell_type": "code",
   "execution_count": null,
   "metadata": {
    "collapsed": true
   },
   "outputs": [],
   "source": [
    "import math"
   ]
  },
  {
   "cell_type": "markdown",
   "metadata": {},
   "source": [
    "## matplotlib"
   ]
  },
  {
   "cell_type": "markdown",
   "metadata": {},
   "source": [
    "可視化のところで詳しく説明しますが、グラフなどを描画するためのライブラリとして、matplotlibがあります。matplotlibの場合、mplという別名が一般的です。mplという別名をつけてmatplotlibをインポートするためには、次のようにします。"
   ]
  },
  {
   "cell_type": "code",
   "execution_count": null,
   "metadata": {
    "collapsed": true
   },
   "outputs": [],
   "source": [
    "import matplotlib as mpl"
   ]
  },
  {
   "cell_type": "markdown",
   "metadata": {},
   "source": [
    "また、matplotlibというライブラリの中に含まれるpyplotという機能に名前をつけてインポートすることもあります。"
   ]
  },
  {
   "cell_type": "code",
   "execution_count": null,
   "metadata": {
    "collapsed": true
   },
   "outputs": [],
   "source": [
    "import matplotlib.pyplot as plt"
   ]
  },
  {
   "cell_type": "markdown",
   "metadata": {},
   "source": [
    "他にも様々な関数・機能がありますが、適宜紹介します。"
   ]
  },
  {
   "cell_type": "markdown",
   "metadata": {},
   "source": [
    "## random"
   ]
  },
  {
   "cell_type": "markdown",
   "metadata": {},
   "source": [
    "ランダムな値（乱数）を生成するためのライブラリとしてrandomがあります。randomは特に別名をつけないことが一般的です。randomをインポートするためには、次のようにします。"
   ]
  },
  {
   "cell_type": "code",
   "execution_count": null,
   "metadata": {
    "collapsed": true
   },
   "outputs": [],
   "source": [
    "import random"
   ]
  },
  {
   "cell_type": "markdown",
   "metadata": {},
   "source": [
    "## pandas"
   ]
  },
  {
   "cell_type": "markdown",
   "metadata": {},
   "source": [
    "データ解析を支援するためのライブラリとしてpandasがあります。特に構造化データを扱うのに長けています。pandasでは、主に「Series」、「DataFrame」という種類のデータを扱います。詳しくはまた紹介します。pandasの場合、pdという別名が一般的です。pdという別名をつけてpandasをインポートするためには、次のようにします。"
   ]
  },
  {
   "cell_type": "code",
   "execution_count": null,
   "metadata": {
    "collapsed": true
   },
   "outputs": [],
   "source": [
    "import pandas as pd"
   ]
  }
 ],
 "metadata": {
  "@webio": {
   "lastCommId": null,
   "lastKernelId": null
  },
  "anaconda-cloud": {},
  "kernelspec": {
   "display_name": "Python 3",
   "language": "python",
   "name": "python3"
  },
  "language_info": {
   "codemirror_mode": {
    "name": "ipython",
    "version": 3
   },
   "file_extension": ".py",
   "mimetype": "text/x-python",
   "name": "python",
   "nbconvert_exporter": "python",
   "pygments_lexer": "ipython3",
   "version": "3.6.1"
  }
 },
 "nbformat": 4,
 "nbformat_minor": 1
}
