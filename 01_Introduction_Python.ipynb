{
 "cells": [
  {
   "cell_type": "markdown",
   "metadata": {
    "collapsed": true
   },
   "source": [
    "# 1年情報基礎 - Python ・Jupyter Notebook入門 -"
   ]
  },
  {
   "cell_type": "markdown",
   "metadata": {},
   "source": [
    "## 本ファイルの使用手法\n",
    "### Jupyter Notebook形式\n",
    "本ファイルは`Jupyter Notebook`という形式で作成されたプログラムです。  \n",
    "Pythonを実行する方法として、テキストファイルにプログラムがそのまま記述されたもの（ファイルの拡張子は`.py`）もあれば、  \n",
    "このように小さいブロック単位（セルといいます）で記述されたもの（ファイルの拡張子は`ipynb`）があります。"
   ]
  },
  {
   "cell_type": "markdown",
   "metadata": {},
   "source": [
    "### プログラムの実行方法\n",
    "実行したいセルをクリックして選択します。`Shift + Enter`(Shiftキーを押しながらEnterキーを押す)でそのセルが実行されます。\n",
    "また、Google Colaboratoryの場合、各セルの左端にある再生ボタン▶️を押しても実行できます。\n",
    "プログラムを変更しても、そのセルを実行しないと変更が反映されませんので注意してください。\n",
    "\n",
    "また、Notebook形式ではセル単位でプログラムが実行されるので、セルを実行する順番によって、結果が違ってきます。実行する際には注意しましょう。\n",
    "一つセルを修正したとしても、他のセルと整合性が取れなくて、エラーが出ることがあります。\n",
    "また、プログラムを作成する際には、**上から順番に実行することで、きちんと動作するようにしましょう。**\n",
    "\n",
    "- セル1\n",
    "- セル2\n",
    "- セル3\n",
    "\n",
    "とセルがあった場合、1→2→3と実行する結果と2→1→3と実行される結果が違ってる来ることがあります。\n",
    "\n"
   ]
  },
  {
   "cell_type": "markdown",
   "metadata": {},
   "source": [
    "-----\n",
    "#### 演習（セルの実行の順番）\n",
    "以下のセルを「1→2→3と実行」する結果と「2→1→3と実行」した結果を比較してみてください。\n",
    "\n",
    "★「変数」という言葉については後で説明します  \n",
    "★ `print`という命令の意味は後で説明します"
   ]
  },
  {
   "cell_type": "code",
   "execution_count": null,
   "metadata": {
    "collapsed": true
   },
   "outputs": [],
   "source": [
    "# セル1（aという変数に\"5\"という数字を代入）\n",
    "a = 5"
   ]
  },
  {
   "cell_type": "code",
   "execution_count": null,
   "metadata": {
    "collapsed": true
   },
   "outputs": [],
   "source": [
    "# セル2（aという変数に\"9\"という数字を代入。すでに代入されていた数字に上書きされる）\n",
    "a = 9"
   ]
  },
  {
   "cell_type": "code",
   "execution_count": null,
   "metadata": {
    "collapsed": false
   },
   "outputs": [],
   "source": [
    "# セル3（aという変数に1を足し算して、その結果を表示）\n",
    "print(a + 1)"
   ]
  },
  {
   "cell_type": "markdown",
   "metadata": {},
   "source": [
    "### 様々な実行方法\n",
    "#### セルの実行履歴をクリアする方法（Google Colaboratory）\n",
    "メニューバーの「ランタイム」→「ランタイムを再起動」を実行すると、セルの実行履歴や変数などがクリア（消去）されます\n",
    "\n",
    "\n",
    "#### セルの実行履歴をクリアする方法（Jupyter Notebook）\n",
    "メニューバーの「Kernel」→「Restart & Clear Output」を実行すると、セルの実行履歴や変数などがクリア（消去）されます\n",
    "\n",
    "#### 最初から最後まで一気に実行する方法（Google Colaboratory）\n",
    "メニューバーの「ランタイム」→「再起動してすべてのセルを実行」を実行すると、セルの実行履歴や変数などがクリア（消去）され、NoteBookの最初から最後まで一気にセルが実行されます。この実行方法できちんと動作するようにプログラムを作成する必要があります。\n",
    "\n",
    "#### 最初から最後まで一気に実行する方法（Jupyter Notebook）\n",
    "メニューバーの「Kernel」→「Restart & Run All」を実行すると、セルの実行履歴や変数などがクリア（消去）され、NoteBookの最初から最後まで一気にセルが実行されます。この実行方法できちんと動作するようにプログラムを作成する必要があります。\n",
    "\n"
   ]
  },
  {
   "cell_type": "markdown",
   "metadata": {},
   "source": [
    "## Pythonプログラミングの基礎\n",
    "### 変数\n",
    "変数は、数値や文字列などのデータを保持しておく場所です。\"データにラベルを付ける\"、\"データを名前がついた箱にしまう\"ようなイメージだと思ってください。変数に格納したデータは、後で、呼び出して表示したり、別の計算に使用したり、関数に代入したりすることができます。\n",
    "変数にデータを保存する時には「代入」という言葉を使います。\n",
    "\n",
    "★「関数」は後で説明します"
   ]
  },
  {
   "cell_type": "markdown",
   "metadata": {},
   "source": [
    "#### 演習（変数の中身表示）"
   ]
  },
  {
   "cell_type": "markdown",
   "metadata": {},
   "source": [
    "`a`という変数に100という数字（整数）を代入します。試してみましょう。"
   ]
  },
  {
   "cell_type": "code",
   "execution_count": null,
   "metadata": {
    "collapsed": true
   },
   "outputs": [],
   "source": [
    "a = 100"
   ]
  },
  {
   "cell_type": "markdown",
   "metadata": {},
   "source": [
    "これで、`a`という変数に100という数字が代入されました。では、`a`という変数の中身を表示してみましょう"
   ]
  },
  {
   "cell_type": "code",
   "execution_count": null,
   "metadata": {
    "collapsed": false,
    "scrolled": true
   },
   "outputs": [],
   "source": [
    "a"
   ]
  },
  {
   "cell_type": "markdown",
   "metadata": {},
   "source": [
    "変数`a`に格納されている数値(100)が表示されました。  \n",
    "このように、セルに変数の名前だけを書くと、その変数の中身が表示されます。なお、この方法はJupyter Notebookの場合に使える方法です。もっと大規模なプログラムを作成する際には`.py`形式で保存されたプログラムを実行することになりますが、その場合にはprint文という別の手法を使います。\n",
    "\n",
    "\n",
    "★正確には「セルの最後の行に変数名が書かれていれば、その変数の中身が表示」されます。  \n",
    "★print文の説明は後で説明します。"
   ]
  },
  {
   "cell_type": "markdown",
   "metadata": {},
   "source": [
    "### 様々な種類の変数\n",
    "先ほどは数字（整数）を変数に代入しました。もちろん、整数以外のデータも扱えます。"
   ]
  },
  {
   "cell_type": "code",
   "execution_count": null,
   "metadata": {
    "collapsed": true
   },
   "outputs": [],
   "source": [
    "a = 123.4"
   ]
  },
  {
   "cell_type": "markdown",
   "metadata": {},
   "source": [
    "変数`a`に123.4という小数が代入されました。"
   ]
  },
  {
   "cell_type": "code",
   "execution_count": null,
   "metadata": {
    "collapsed": true
   },
   "outputs": [],
   "source": [
    "a = \"Python\""
   ]
  },
  {
   "cell_type": "markdown",
   "metadata": {},
   "source": [
    "変数`a`にPythonという文字列が代入されました。文字列を代入するときには、その文字列を\"という記号で挟みます。この記号はダブルクォーテーションといいます。ダブルクォーテーションは`Shift+2`（Shiftを押しながら2キー）で入力できます。"
   ]
  },
  {
   "cell_type": "code",
   "execution_count": null,
   "metadata": {
    "collapsed": true
   },
   "outputs": [],
   "source": [
    "a = 'Python'"
   ]
  },
  {
   "cell_type": "markdown",
   "metadata": {},
   "source": [
    "シングルクォーテーションという記号を使っても同様に文字列を代入できます。ダブルクォーテーションは`Shift+7`（Shiftを押しながら7キー）で入力できます。"
   ]
  },
  {
   "cell_type": "markdown",
   "metadata": {},
   "source": [
    "少し発展した例としては、論理型という種類の変数もあります。これは、ある条件を満たしているか否か、といった状況を表現するために使います。論理型で扱うデータは`True`と`False`の2種類しかありません。`True`は「真」、`False`は「偽」を表しています。"
   ]
  },
  {
   "cell_type": "code",
   "execution_count": null,
   "metadata": {
    "collapsed": true
   },
   "outputs": [],
   "source": [
    "b1 = True\n",
    "b2 = False"
   ]
  },
  {
   "cell_type": "markdown",
   "metadata": {},
   "source": [
    "### 四則演算\n",
    "簡単な四則演算は次のように行います。"
   ]
  },
  {
   "cell_type": "markdown",
   "metadata": {},
   "source": [
    "足し算（和）は次のように計算します。"
   ]
  },
  {
   "cell_type": "code",
   "execution_count": null,
   "metadata": {
    "collapsed": true
   },
   "outputs": [],
   "source": [
    "a = 3 + 4"
   ]
  },
  {
   "cell_type": "markdown",
   "metadata": {},
   "source": [
    "結果は次の通りです。"
   ]
  },
  {
   "cell_type": "code",
   "execution_count": null,
   "metadata": {
    "collapsed": false
   },
   "outputs": [],
   "source": [
    "a"
   ]
  },
  {
   "cell_type": "markdown",
   "metadata": {},
   "source": [
    "引き算（差）は次のように計算します。"
   ]
  },
  {
   "cell_type": "code",
   "execution_count": null,
   "metadata": {
    "collapsed": true
   },
   "outputs": [],
   "source": [
    "a = 10 - 8"
   ]
  },
  {
   "cell_type": "markdown",
   "metadata": {},
   "source": [
    "結果は次の通りです。"
   ]
  },
  {
   "cell_type": "code",
   "execution_count": null,
   "metadata": {
    "collapsed": false
   },
   "outputs": [],
   "source": [
    "a"
   ]
  },
  {
   "cell_type": "markdown",
   "metadata": {},
   "source": [
    "掛け算（積）は次のように計算します。"
   ]
  },
  {
   "cell_type": "code",
   "execution_count": null,
   "metadata": {
    "collapsed": true
   },
   "outputs": [],
   "source": [
    "a = 4 * 5"
   ]
  },
  {
   "cell_type": "markdown",
   "metadata": {},
   "source": [
    "結果は次の通りです。"
   ]
  },
  {
   "cell_type": "code",
   "execution_count": null,
   "metadata": {
    "collapsed": false,
    "scrolled": true
   },
   "outputs": [],
   "source": [
    "a"
   ]
  },
  {
   "cell_type": "markdown",
   "metadata": {},
   "source": [
    "割り算（商）は次のように計算します。"
   ]
  },
  {
   "cell_type": "code",
   "execution_count": null,
   "metadata": {
    "collapsed": true
   },
   "outputs": [],
   "source": [
    "a = 9 / 3"
   ]
  },
  {
   "cell_type": "markdown",
   "metadata": {},
   "source": [
    "結果は次の通りです。"
   ]
  },
  {
   "cell_type": "code",
   "execution_count": null,
   "metadata": {
    "collapsed": false,
    "scrolled": false
   },
   "outputs": [],
   "source": [
    "a"
   ]
  },
  {
   "cell_type": "markdown",
   "metadata": {},
   "source": [
    "整数同士の割り算であっても、答えは実数として表示されます。"
   ]
  },
  {
   "cell_type": "markdown",
   "metadata": {},
   "source": [
    "次に、割り切れない計算をしてみましょう。"
   ]
  },
  {
   "cell_type": "code",
   "execution_count": null,
   "metadata": {
    "collapsed": true
   },
   "outputs": [],
   "source": [
    "a = 10 / 3"
   ]
  },
  {
   "cell_type": "markdown",
   "metadata": {},
   "source": [
    "結果は次の通りです。"
   ]
  },
  {
   "cell_type": "code",
   "execution_count": null,
   "metadata": {
    "collapsed": false
   },
   "outputs": [],
   "source": [
    "a"
   ]
  },
  {
   "cell_type": "markdown",
   "metadata": {},
   "source": [
    "割り算（商）の整数部分を取り出す場合、次のように計算します。"
   ]
  },
  {
   "cell_type": "code",
   "execution_count": null,
   "metadata": {
    "collapsed": false
   },
   "outputs": [],
   "source": [
    "a = 11 // 3"
   ]
  },
  {
   "cell_type": "markdown",
   "metadata": {},
   "source": [
    "結果は次の通りです。"
   ]
  },
  {
   "cell_type": "code",
   "execution_count": null,
   "metadata": {
    "collapsed": false,
    "scrolled": false
   },
   "outputs": [],
   "source": [
    "a"
   ]
  },
  {
   "cell_type": "markdown",
   "metadata": {},
   "source": [
    "割り算の余り（剰余）を求めるには次のようにします。"
   ]
  },
  {
   "cell_type": "code",
   "execution_count": null,
   "metadata": {
    "collapsed": true
   },
   "outputs": [],
   "source": [
    "a = 17 % 5"
   ]
  },
  {
   "cell_type": "markdown",
   "metadata": {},
   "source": [
    "結果は次の通りです。"
   ]
  },
  {
   "cell_type": "code",
   "execution_count": null,
   "metadata": {
    "collapsed": false
   },
   "outputs": [],
   "source": [
    "a"
   ]
  },
  {
   "cell_type": "markdown",
   "metadata": {},
   "source": [
    "### 「代入」の考え方"
   ]
  },
  {
   "cell_type": "markdown",
   "metadata": {},
   "source": [
    "Pythonに限らず、多くのプログラミング言語では`=`を「代入」を表す記号として用います。この`=`は数学で用いる「イコール」とは少し違います。\n",
    "例えば、次のような例です。"
   ]
  },
  {
   "cell_type": "code",
   "execution_count": null,
   "metadata": {
    "collapsed": true
   },
   "outputs": [],
   "source": [
    "a = 2\n",
    "a = a + 1"
   ]
  },
  {
   "cell_type": "markdown",
   "metadata": {},
   "source": [
    "1行目は変数`a`に数字の2を代入しています。  \n",
    "2行目はその時点での変数`a`に格納されている数字(2)に1を加えた値(3)を新しく変数`a`に代入しています。2行目は数学的に考えるとおかしく思えるかもしれませんが、これで問題ありません。"
   ]
  },
  {
   "cell_type": "markdown",
   "metadata": {},
   "source": [
    "変数aの中身を表示させてみましょう。"
   ]
  },
  {
   "cell_type": "code",
   "execution_count": null,
   "metadata": {
    "collapsed": false
   },
   "outputs": [],
   "source": [
    "a"
   ]
  },
  {
   "cell_type": "markdown",
   "metadata": {},
   "source": [
    "このように、aの値に1を加えることができました。"
   ]
  },
  {
   "cell_type": "markdown",
   "metadata": {},
   "source": [
    "## Pythonを書く上での書式"
   ]
  },
  {
   "cell_type": "markdown",
   "metadata": {},
   "source": [
    "Pythonを扱う上で知っておいたほうが良い書式などに関する知識をお伝えします。"
   ]
  },
  {
   "cell_type": "markdown",
   "metadata": {},
   "source": [
    "### インデント\n",
    "インデントとは「字下げ」のことですが、プログラムの作成において、インデントとは、コードのかたまりや構造をわかりやすく（プログラムを読みやすく）するために使われています。  \n",
    "特にPythonでは、インデントを使って条件分岐やコードの繰り返しを定義しているので、特に重要です。\n",
    "\n",
    "★「条件分岐」や「コードの繰り返し」については後で説明します"
   ]
  },
  {
   "cell_type": "markdown",
   "metadata": {},
   "source": [
    "#### インデントによる動作の確認"
   ]
  },
  {
   "cell_type": "markdown",
   "metadata": {},
   "source": [
    "インデントが入ることによってどのような動作の違いがあるのか、確認してみましょう。\n",
    "\n",
    "以下のセルは問題なく実行できるはずです。"
   ]
  },
  {
   "cell_type": "code",
   "execution_count": null,
   "metadata": {
    "collapsed": true
   },
   "outputs": [],
   "source": [
    "a = 100\n",
    "b = 200"
   ]
  },
  {
   "cell_type": "markdown",
   "metadata": {},
   "source": [
    "では、このセルはどうでしょう。2行目（bに数値を代入する命令）の行頭にスペースが2つ入っています。"
   ]
  },
  {
   "cell_type": "code",
   "execution_count": null,
   "metadata": {
    "collapsed": false,
    "scrolled": false
   },
   "outputs": [],
   "source": [
    "a = 100\n",
    "  b = 200"
   ]
  },
  {
   "cell_type": "markdown",
   "metadata": {},
   "source": [
    "エラーが出たかと思います。行頭にスペースが入っている、つまり**インデントされている**わけですが、  \n",
    "Pythonでは、インデントは条件分岐などを定義するために使われるので、それ以外のところで、インデントが入っているとエラーとなってしまいます。  \n",
    "このように、ただのスペースがPythonではただのスペースではないのです。注意が必要です。"
   ]
  },
  {
   "cell_type": "markdown",
   "metadata": {},
   "source": [
    "ここで、エラー文の読み方を説明します。先ほどのセルを実行すると、次のようなエラーが出ました。\n",
    "\n",
    "---\n",
    "\n",
    "```python\n",
    "  File \"<ipython-input-7-c6e5f53a635b>\", line 2\n",
    "    b = 200\n",
    "    ^\n",
    "IndentationError: unexpected indent\n",
    "```\n",
    "\n",
    "---\n",
    "\n",
    "最初の2行で、どの部分でエラーが出たかを教えてくれています。  \n",
    "\"b=\"と書かれているところがおかしい、と教えてくれています。こういう場合、エラーが出た場所の前をチェックすると解決することが多いです。今回の場合、不要なスペースが挿入されていることで、インデントと認識されたのでした。\n",
    "\n",
    "エラーの内容としては、  \n",
    "\n",
    "- IndentationError: インデントに関するエラー  \n",
    "- unexpected: 想定されていない  \n",
    "- indent: インデント  \n",
    "\n",
    "ということで、どういう理由でエラーが出たのかがわかるようになっています。エラーが出た時にはエラー文を読んで原因が読み取れるようになると、エラーが出ても自分で解決できるようになります。"
   ]
  },
  {
   "cell_type": "markdown",
   "metadata": {},
   "source": [
    "Pythonを始め、プログラミング言語には「関数」という機能があります。関数については、後々説明しますが、どんなものかだけ見ておきましょう。\n",
    "関数は「関数の定義」→「定義した関数の呼び出し（実行）」という風に使います。  \n",
    "関数の定義の例です。"
   ]
  },
  {
   "cell_type": "code",
   "execution_count": null,
   "metadata": {
    "collapsed": false
   },
   "outputs": [],
   "source": [
    "# 関数の定義\n",
    "def print_hello_world():\n",
    "    print(\"Hello World\")\n",
    "    print(\"Kobe City College of Technology\")\n",
    "    print(\"Mechanical Engineering\")\n",
    "    print(\"Electrical Engineering\")\n",
    "    print(\"Electronic Engineering\")\n",
    "    print(\"Applied Chemistry\")\n",
    "    print(\"Civil Engineering\")\n",
    "    print(\"Fundamentals of Information Technology\")"
   ]
  },
  {
   "cell_type": "markdown",
   "metadata": {},
   "source": [
    "関数の本体部分が**インデントされている**ことがわかります。Pythonではこのようにインデントを用いますので、不要なところで（意図されていないところで）インデントを入れないようにしましょう。ちなみに、先ほど定義した関数を実行すると、次のような結果が出てきます。"
   ]
  },
  {
   "cell_type": "code",
   "execution_count": null,
   "metadata": {
    "collapsed": false,
    "scrolled": true
   },
   "outputs": [],
   "source": [
    "# 関数の実行\n",
    "print_hello_world()"
   ]
  },
  {
   "cell_type": "markdown",
   "metadata": {},
   "source": [
    "### 半角スペースの挿入\n",
    "演算をするときには、+や-などの記号（算術演算子）を使用しますが、その両端には半角スペースを入れることが推奨されています。理由としては、ソースコードが見やすくなるためです。入れなくても、動作に違いはありません"
   ]
  },
  {
   "cell_type": "code",
   "execution_count": null,
   "metadata": {
    "collapsed": false
   },
   "outputs": [],
   "source": [
    "a=a+3"
   ]
  },
  {
   "cell_type": "markdown",
   "metadata": {},
   "source": [
    "このように変数、記号の隣にスペースがないよりは・・・"
   ]
  },
  {
   "cell_type": "code",
   "execution_count": null,
   "metadata": {
    "collapsed": true
   },
   "outputs": [],
   "source": [
    "a = a + 3"
   ]
  },
  {
   "cell_type": "markdown",
   "metadata": {},
   "source": [
    "このようにスペースを入れることが推奨されています。"
   ]
  }
 ],
 "metadata": {
  "anaconda-cloud": {},
  "kernelspec": {
   "display_name": "Python [default]",
   "language": "python",
   "name": "python3"
  },
  "language_info": {
   "codemirror_mode": {
    "name": "ipython",
    "version": 3
   },
   "file_extension": ".py",
   "mimetype": "text/x-python",
   "name": "python",
   "nbconvert_exporter": "python",
   "pygments_lexer": "ipython3",
   "version": "3.5.2"
  },
  "vscode": {
   "interpreter": {
    "hash": "c75d77398380f8fb7214b6fbeab52c1a483db45002333af0b9f9ffeb091dd95a"
   }
  }
 },
 "nbformat": 4,
 "nbformat_minor": 1
}
